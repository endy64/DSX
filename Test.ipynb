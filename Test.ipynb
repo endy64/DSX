{
    "metadata": {
        "language_info": {
            "codemirror_mode": {
                "name": "ipython", 
                "version": 2
            }, 
            "file_extension": ".py", 
            "pygments_lexer": "ipython2", 
            "nbconvert_exporter": "python", 
            "mimetype": "text/x-python", 
            "name": "python", 
            "version": "2.7.11"
        }, 
        "kernelspec": {
            "name": "python2-spark21", 
            "language": "python", 
            "display_name": "Python 2 with Spark 2.1"
        }
    }, 
    "nbformat": 4, 
    "nbformat_minor": 1, 
    "cells": [
        {
            "execution_count": 1, 
            "source": "import jaydebeapi\nfrom ibmdbpy import IdaDataBase\nfrom ibmdbpy import IdaDataFrame", 
            "metadata": {
                "collapsed": true
            }, 
            "outputs": [], 
            "cell_type": "code"
        }, 
        {
            "execution_count": 2, 
            "source": "import pixiedust", 
            "metadata": {}, 
            "outputs": [
                {
                    "name": "stdout", 
                    "output_type": "stream", 
                    "text": "Pixiedust database opened successfully\nTable VERSION_TRACKER created successfully\n"
                }, 
                {
                    "metadata": {}, 
                    "output_type": "display_data", 
                    "data": {
                        "text/plain": "<IPython.core.display.HTML object>", 
                        "text/html": "\n        <div style=\"margin:10px\">\n            <a href=\"https://github.com/ibm-watson-data-lab/pixiedust\" target=\"_new\">\n                <img src=\"https://github.com/ibm-watson-data-lab/pixiedust/raw/master/docs/_static/pd_icon32.png\" style=\"float:left;margin-right:10px\"/>\n            </a>\n            <span>Pixiedust version 1.1.0.1</span>\n        </div>\n        "
                    }
                }, 
                {
                    "name": "stdout", 
                    "output_type": "stream", 
                    "text": "Pixiedust runtime updated. Please restart kernel\nTable SPARK_PACKAGES created successfully\nTable USER_PREFERENCES created successfully\nTable service_connections created successfully\n"
                }, 
                {
                    "metadata": {}, 
                    "output_type": "display_data", 
                    "data": {
                        "text/plain": "<IPython.core.display.HTML object>", 
                        "text/html": "<div>Warning: You are not running the latest version of PixieDust. Current is 1.1.0.1, Latest is 1.1.1</div>"
                    }
                }, 
                {
                    "metadata": {}, 
                    "output_type": "display_data", 
                    "data": {
                        "text/plain": "<IPython.core.display.HTML object>", 
                        "text/html": "\n                <div>Please copy and run the following command in a new cell to upgrade: <span style=\"background-color:#ececec;font-family:monospace;padding:0 5px\">!pip install --user --upgrade pixiedust</span></div>\n            "
                    }
                }, 
                {
                    "metadata": {}, 
                    "output_type": "display_data", 
                    "data": {
                        "text/plain": "<IPython.core.display.HTML object>", 
                        "text/html": "<div>Please restart kernel after upgrading.</div>"
                    }
                }
            ], 
            "cell_type": "code"
        }, 
        {
            "execution_count": 3, 
            "source": "pixiedust.installPackage(\"file:///usr/local/src/data-connectors-1.4.1/db2jcc4-10.5.0.6.jar\")", 
            "metadata": {}, 
            "outputs": [
                {
                    "name": "stdout", 
                    "output_type": "stream", 
                    "text": "Downloading package file:///usr/local/src/data-connectors-1.4.1/db2jcc4-10.5.0.6.jar to /gpfs/fs01/user/sd78-6abf89da5147f6-d87d304b3991/data/libs/db2jcc4-10.5.0.6.jar\n"
                }, 
                {
                    "metadata": {}, 
                    "output_type": "display_data", 
                    "data": {
                        "text/plain": "<IPython.core.display.HTML object>", 
                        "text/html": "\n                <div>\n                    <span id=\"pm_label3479dc85\">Starting download...</span>\n                    <progress id=\"pm_progress3479dc85\" max=\"100\" value=\"0\" style=\"width:200px\"></progress>\n                </div>"
                    }
                }, 
                {
                    "metadata": {}, 
                    "output_type": "display_data", 
                    "data": {
                        "text/plain": "<IPython.core.display.Javascript object>", 
                        "application/javascript": "\n                    $(\"#pm_label3479dc85\").text(\"Downloaded 8192 of 3411524 bytes\");\n                    $(\"#pm_progress3479dc85\").attr(\"value\", 0.24);\n                "
                    }
                }, 
                {
                    "metadata": {}, 
                    "output_type": "display_data", 
                    "data": {
                        "text/plain": "<IPython.core.display.Javascript object>", 
                        "application/javascript": "\n                    $(\"#pm_label3479dc85\").text(\"Downloaded 16384 of 3411524 bytes\");\n                    $(\"#pm_progress3479dc85\").attr(\"value\", 0.48);\n                "
                    }
                }, 
                {
                    "metadata": {}, 
                    "output_type": "display_data", 
                    "data": {
                        "text/plain": "<IPython.core.display.Javascript object>", 
                        "application/javascript": "\n                    $(\"#pm_label3479dc85\").text(\"Downloaded 24576 of 3411524 bytes\");\n                    $(\"#pm_progress3479dc85\").attr(\"value\", 0.72);\n                "
                    }
                }, 
                {
                    "metadata": {}, 
                    "output_type": "display_data", 
                    "data": {
                        "text/plain": "<IPython.core.display.Javascript object>", 
                        "application/javascript": "\n                    $(\"#pm_label3479dc85\").text(\"Downloaded 32768 of 3411524 bytes\");\n                    $(\"#pm_progress3479dc85\").attr(\"value\", 0.96);\n                "
                    }
                }, 
                {
                    "metadata": {}, 
                    "output_type": "display_data", 
                    "data": {
                        "text/plain": "<IPython.core.display.Javascript object>", 
                        "application/javascript": "\n                    $(\"#pm_label3479dc85\").text(\"Downloaded 40960 of 3411524 bytes\");\n                    $(\"#pm_progress3479dc85\").attr(\"value\", 1.2);\n                "
                    }
                }, 
                {
                    "metadata": {}, 
                    "output_type": "display_data", 
                    "data": {
                        "text/plain": "<IPython.core.display.Javascript object>", 
                        "application/javascript": "\n                    $(\"#pm_label3479dc85\").text(\"Downloaded 49152 of 3411524 bytes\");\n                    $(\"#pm_progress3479dc85\").attr(\"value\", 1.44);\n                "
                    }
                }, 
                {
                    "metadata": {}, 
                    "output_type": "display_data", 
                    "data": {
                        "text/plain": "<IPython.core.display.Javascript object>", 
                        "application/javascript": "\n                    $(\"#pm_label3479dc85\").text(\"Downloaded 57344 of 3411524 bytes\");\n                    $(\"#pm_progress3479dc85\").attr(\"value\", 1.68);\n                "
                    }
                }, 
                {
                    "metadata": {}, 
                    "output_type": "display_data", 
                    "data": {
                        "text/plain": "<IPython.core.display.Javascript object>", 
                        "application/javascript": "\n                    $(\"#pm_label3479dc85\").text(\"Downloaded 65536 of 3411524 bytes\");\n                    $(\"#pm_progress3479dc85\").attr(\"value\", 1.92);\n                "
                    }
                }, 
                {
                    "metadata": {}, 
                    "output_type": "display_data", 
                    "data": {
                        "text/plain": "<IPython.core.display.Javascript object>", 
                        "application/javascript": "\n                    $(\"#pm_label3479dc85\").text(\"Downloaded 73728 of 3411524 bytes\");\n                    $(\"#pm_progress3479dc85\").attr(\"value\", 2.16);\n                "
                    }
                }, 
                {
                    "metadata": {}, 
                    "output_type": "display_data", 
                    "data": {
                        "text/plain": "<IPython.core.display.Javascript object>", 
                        "application/javascript": "\n                    $(\"#pm_label3479dc85\").text(\"Downloaded 81920 of 3411524 bytes\");\n                    $(\"#pm_progress3479dc85\").attr(\"value\", 2.4);\n                "
                    }
                }, 
                {
                    "metadata": {}, 
                    "output_type": "display_data", 
                    "data": {
                        "text/plain": "<IPython.core.display.Javascript object>", 
                        "application/javascript": "\n                    $(\"#pm_label3479dc85\").text(\"Downloaded 90112 of 3411524 bytes\");\n                    $(\"#pm_progress3479dc85\").attr(\"value\", 2.64);\n                "
                    }
                }, 
                {
                    "metadata": {}, 
                    "output_type": "display_data", 
                    "data": {
                        "text/plain": "<IPython.core.display.Javascript object>", 
                        "application/javascript": "\n                    $(\"#pm_label3479dc85\").text(\"Downloaded 98304 of 3411524 bytes\");\n                    $(\"#pm_progress3479dc85\").attr(\"value\", 2.88);\n                "
                    }
                }, 
                {
                    "metadata": {}, 
                    "output_type": "display_data", 
                    "data": {
                        "text/plain": "<IPython.core.display.Javascript object>", 
                        "application/javascript": "\n                    $(\"#pm_label3479dc85\").text(\"Downloaded 106496 of 3411524 bytes\");\n                    $(\"#pm_progress3479dc85\").attr(\"value\", 3.12);\n                "
                    }
                }, 
                {
                    "metadata": {}, 
                    "output_type": "display_data", 
                    "data": {
                        "text/plain": "<IPython.core.display.Javascript object>", 
                        "application/javascript": "\n                    $(\"#pm_label3479dc85\").text(\"Downloaded 114688 of 3411524 bytes\");\n                    $(\"#pm_progress3479dc85\").attr(\"value\", 3.36);\n                "
                    }
                }, 
                {
                    "metadata": {}, 
                    "output_type": "display_data", 
                    "data": {
                        "text/plain": "<IPython.core.display.Javascript object>", 
                        "application/javascript": "\n                    $(\"#pm_label3479dc85\").text(\"Downloaded 122880 of 3411524 bytes\");\n                    $(\"#pm_progress3479dc85\").attr(\"value\", 3.6);\n                "
                    }
                }, 
                {
                    "metadata": {}, 
                    "output_type": "display_data", 
                    "data": {
                        "text/plain": "<IPython.core.display.Javascript object>", 
                        "application/javascript": "\n                    $(\"#pm_label3479dc85\").text(\"Downloaded 131072 of 3411524 bytes\");\n                    $(\"#pm_progress3479dc85\").attr(\"value\", 3.84);\n                "
                    }
                }, 
                {
                    "metadata": {}, 
                    "output_type": "display_data", 
                    "data": {
                        "text/plain": "<IPython.core.display.Javascript object>", 
                        "application/javascript": "\n                    $(\"#pm_label3479dc85\").text(\"Downloaded 139264 of 3411524 bytes\");\n                    $(\"#pm_progress3479dc85\").attr(\"value\", 4.08);\n                "
                    }
                }, 
                {
                    "metadata": {}, 
                    "output_type": "display_data", 
                    "data": {
                        "text/plain": "<IPython.core.display.Javascript object>", 
                        "application/javascript": "\n                    $(\"#pm_label3479dc85\").text(\"Downloaded 147456 of 3411524 bytes\");\n                    $(\"#pm_progress3479dc85\").attr(\"value\", 4.32);\n                "
                    }
                }, 
                {
                    "metadata": {}, 
                    "output_type": "display_data", 
                    "data": {
                        "text/plain": "<IPython.core.display.Javascript object>", 
                        "application/javascript": "\n                    $(\"#pm_label3479dc85\").text(\"Downloaded 155648 of 3411524 bytes\");\n                    $(\"#pm_progress3479dc85\").attr(\"value\", 4.56);\n                "
                    }
                }, 
                {
                    "metadata": {}, 
                    "output_type": "display_data", 
                    "data": {
                        "text/plain": "<IPython.core.display.Javascript object>", 
                        "application/javascript": "\n                    $(\"#pm_label3479dc85\").text(\"Downloaded 163840 of 3411524 bytes\");\n                    $(\"#pm_progress3479dc85\").attr(\"value\", 4.8);\n                "
                    }
                }, 
                {
                    "metadata": {}, 
                    "output_type": "display_data", 
                    "data": {
                        "text/plain": "<IPython.core.display.Javascript object>", 
                        "application/javascript": "\n                    $(\"#pm_label3479dc85\").text(\"Downloaded 172032 of 3411524 bytes\");\n                    $(\"#pm_progress3479dc85\").attr(\"value\", 5.04);\n                "
                    }
                }, 
                {
                    "metadata": {}, 
                    "output_type": "display_data", 
                    "data": {
                        "text/plain": "<IPython.core.display.Javascript object>", 
                        "application/javascript": "\n                    $(\"#pm_label3479dc85\").text(\"Downloaded 180224 of 3411524 bytes\");\n                    $(\"#pm_progress3479dc85\").attr(\"value\", 5.28);\n                "
                    }
                }, 
                {
                    "metadata": {}, 
                    "output_type": "display_data", 
                    "data": {
                        "text/plain": "<IPython.core.display.Javascript object>", 
                        "application/javascript": "\n                    $(\"#pm_label3479dc85\").text(\"Downloaded 188416 of 3411524 bytes\");\n                    $(\"#pm_progress3479dc85\").attr(\"value\", 5.52);\n                "
                    }
                }, 
                {
                    "metadata": {}, 
                    "output_type": "display_data", 
                    "data": {
                        "text/plain": "<IPython.core.display.Javascript object>", 
                        "application/javascript": "\n                    $(\"#pm_label3479dc85\").text(\"Downloaded 196608 of 3411524 bytes\");\n                    $(\"#pm_progress3479dc85\").attr(\"value\", 5.76);\n                "
                    }
                }, 
                {
                    "metadata": {}, 
                    "output_type": "display_data", 
                    "data": {
                        "text/plain": "<IPython.core.display.Javascript object>", 
                        "application/javascript": "\n                    $(\"#pm_label3479dc85\").text(\"Downloaded 204800 of 3411524 bytes\");\n                    $(\"#pm_progress3479dc85\").attr(\"value\", 6.0);\n                "
                    }
                }, 
                {
                    "metadata": {}, 
                    "output_type": "display_data", 
                    "data": {
                        "text/plain": "<IPython.core.display.Javascript object>", 
                        "application/javascript": "\n                    $(\"#pm_label3479dc85\").text(\"Downloaded 212992 of 3411524 bytes\");\n                    $(\"#pm_progress3479dc85\").attr(\"value\", 6.24);\n                "
                    }
                }, 
                {
                    "metadata": {}, 
                    "output_type": "display_data", 
                    "data": {
                        "text/plain": "<IPython.core.display.Javascript object>", 
                        "application/javascript": "\n                    $(\"#pm_label3479dc85\").text(\"Downloaded 221184 of 3411524 bytes\");\n                    $(\"#pm_progress3479dc85\").attr(\"value\", 6.48);\n                "
                    }
                }, 
                {
                    "metadata": {}, 
                    "output_type": "display_data", 
                    "data": {
                        "text/plain": "<IPython.core.display.Javascript object>", 
                        "application/javascript": "\n                    $(\"#pm_label3479dc85\").text(\"Downloaded 229376 of 3411524 bytes\");\n                    $(\"#pm_progress3479dc85\").attr(\"value\", 6.72);\n                "
                    }
                }, 
                {
                    "metadata": {}, 
                    "output_type": "display_data", 
                    "data": {
                        "text/plain": "<IPython.core.display.Javascript object>", 
                        "application/javascript": "\n                    $(\"#pm_label3479dc85\").text(\"Downloaded 237568 of 3411524 bytes\");\n                    $(\"#pm_progress3479dc85\").attr(\"value\", 6.96);\n                "
                    }
                }, 
                {
                    "metadata": {}, 
                    "output_type": "display_data", 
                    "data": {
                        "text/plain": "<IPython.core.display.Javascript object>", 
                        "application/javascript": "\n                    $(\"#pm_label3479dc85\").text(\"Downloaded 245760 of 3411524 bytes\");\n                    $(\"#pm_progress3479dc85\").attr(\"value\", 7.2);\n                "
                    }
                }, 
                {
                    "metadata": {}, 
                    "output_type": "display_data", 
                    "data": {
                        "text/plain": "<IPython.core.display.Javascript object>", 
                        "application/javascript": "\n                    $(\"#pm_label3479dc85\").text(\"Downloaded 253952 of 3411524 bytes\");\n                    $(\"#pm_progress3479dc85\").attr(\"value\", 7.44);\n                "
                    }
                }, 
                {
                    "metadata": {}, 
                    "output_type": "display_data", 
                    "data": {
                        "text/plain": "<IPython.core.display.Javascript object>", 
                        "application/javascript": "\n                    $(\"#pm_label3479dc85\").text(\"Downloaded 262144 of 3411524 bytes\");\n                    $(\"#pm_progress3479dc85\").attr(\"value\", 7.68);\n                "
                    }
                }, 
                {
                    "metadata": {}, 
                    "output_type": "display_data", 
                    "data": {
                        "text/plain": "<IPython.core.display.Javascript object>", 
                        "application/javascript": "\n                    $(\"#pm_label3479dc85\").text(\"Downloaded 270336 of 3411524 bytes\");\n                    $(\"#pm_progress3479dc85\").attr(\"value\", 7.92);\n                "
                    }
                }, 
                {
                    "metadata": {}, 
                    "output_type": "display_data", 
                    "data": {
                        "text/plain": "<IPython.core.display.Javascript object>", 
                        "application/javascript": "\n                    $(\"#pm_label3479dc85\").text(\"Downloaded 278528 of 3411524 bytes\");\n                    $(\"#pm_progress3479dc85\").attr(\"value\", 8.16);\n                "
                    }
                }, 
                {
                    "metadata": {}, 
                    "output_type": "display_data", 
                    "data": {
                        "text/plain": "<IPython.core.display.Javascript object>", 
                        "application/javascript": "\n                    $(\"#pm_label3479dc85\").text(\"Downloaded 286720 of 3411524 bytes\");\n                    $(\"#pm_progress3479dc85\").attr(\"value\", 8.4);\n                "
                    }
                }, 
                {
                    "metadata": {}, 
                    "output_type": "display_data", 
                    "data": {
                        "text/plain": "<IPython.core.display.Javascript object>", 
                        "application/javascript": "\n                    $(\"#pm_label3479dc85\").text(\"Downloaded 294912 of 3411524 bytes\");\n                    $(\"#pm_progress3479dc85\").attr(\"value\", 8.64);\n                "
                    }
                }, 
                {
                    "metadata": {}, 
                    "output_type": "display_data", 
                    "data": {
                        "text/plain": "<IPython.core.display.Javascript object>", 
                        "application/javascript": "\n                    $(\"#pm_label3479dc85\").text(\"Downloaded 303104 of 3411524 bytes\");\n                    $(\"#pm_progress3479dc85\").attr(\"value\", 8.88);\n                "
                    }
                }, 
                {
                    "metadata": {}, 
                    "output_type": "display_data", 
                    "data": {
                        "text/plain": "<IPython.core.display.Javascript object>", 
                        "application/javascript": "\n                    $(\"#pm_label3479dc85\").text(\"Downloaded 311296 of 3411524 bytes\");\n                    $(\"#pm_progress3479dc85\").attr(\"value\", 9.12);\n                "
                    }
                }, 
                {
                    "metadata": {}, 
                    "output_type": "display_data", 
                    "data": {
                        "text/plain": "<IPython.core.display.Javascript object>", 
                        "application/javascript": "\n                    $(\"#pm_label3479dc85\").text(\"Downloaded 319488 of 3411524 bytes\");\n                    $(\"#pm_progress3479dc85\").attr(\"value\", 9.36);\n                "
                    }
                }, 
                {
                    "metadata": {}, 
                    "output_type": "display_data", 
                    "data": {
                        "text/plain": "<IPython.core.display.Javascript object>", 
                        "application/javascript": "\n                    $(\"#pm_label3479dc85\").text(\"Downloaded 327680 of 3411524 bytes\");\n                    $(\"#pm_progress3479dc85\").attr(\"value\", 9.61);\n                "
                    }
                }, 
                {
                    "metadata": {}, 
                    "output_type": "display_data", 
                    "data": {
                        "text/plain": "<IPython.core.display.Javascript object>", 
                        "application/javascript": "\n                    $(\"#pm_label3479dc85\").text(\"Downloaded 335872 of 3411524 bytes\");\n                    $(\"#pm_progress3479dc85\").attr(\"value\", 9.85);\n                "
                    }
                }, 
                {
                    "metadata": {}, 
                    "output_type": "display_data", 
                    "data": {
                        "text/plain": "<IPython.core.display.Javascript object>", 
                        "application/javascript": "\n                    $(\"#pm_label3479dc85\").text(\"Downloaded 344064 of 3411524 bytes\");\n                    $(\"#pm_progress3479dc85\").attr(\"value\", 10.09);\n                "
                    }
                }, 
                {
                    "metadata": {}, 
                    "output_type": "display_data", 
                    "data": {
                        "text/plain": "<IPython.core.display.Javascript object>", 
                        "application/javascript": "\n                    $(\"#pm_label3479dc85\").text(\"Downloaded 352256 of 3411524 bytes\");\n                    $(\"#pm_progress3479dc85\").attr(\"value\", 10.33);\n                "
                    }
                }, 
                {
                    "metadata": {}, 
                    "output_type": "display_data", 
                    "data": {
                        "text/plain": "<IPython.core.display.Javascript object>", 
                        "application/javascript": "\n                    $(\"#pm_label3479dc85\").text(\"Downloaded 360448 of 3411524 bytes\");\n                    $(\"#pm_progress3479dc85\").attr(\"value\", 10.57);\n                "
                    }
                }, 
                {
                    "metadata": {}, 
                    "output_type": "display_data", 
                    "data": {
                        "text/plain": "<IPython.core.display.Javascript object>", 
                        "application/javascript": "\n                    $(\"#pm_label3479dc85\").text(\"Downloaded 368640 of 3411524 bytes\");\n                    $(\"#pm_progress3479dc85\").attr(\"value\", 10.81);\n                "
                    }
                }, 
                {
                    "metadata": {}, 
                    "output_type": "display_data", 
                    "data": {
                        "text/plain": "<IPython.core.display.Javascript object>", 
                        "application/javascript": "\n                    $(\"#pm_label3479dc85\").text(\"Downloaded 376832 of 3411524 bytes\");\n                    $(\"#pm_progress3479dc85\").attr(\"value\", 11.05);\n                "
                    }
                }, 
                {
                    "metadata": {}, 
                    "output_type": "display_data", 
                    "data": {
                        "text/plain": "<IPython.core.display.Javascript object>", 
                        "application/javascript": "\n                    $(\"#pm_label3479dc85\").text(\"Downloaded 385024 of 3411524 bytes\");\n                    $(\"#pm_progress3479dc85\").attr(\"value\", 11.29);\n                "
                    }
                }, 
                {
                    "metadata": {}, 
                    "output_type": "display_data", 
                    "data": {
                        "text/plain": "<IPython.core.display.Javascript object>", 
                        "application/javascript": "\n                    $(\"#pm_label3479dc85\").text(\"Downloaded 393216 of 3411524 bytes\");\n                    $(\"#pm_progress3479dc85\").attr(\"value\", 11.53);\n                "
                    }
                }, 
                {
                    "metadata": {}, 
                    "output_type": "display_data", 
                    "data": {
                        "text/plain": "<IPython.core.display.Javascript object>", 
                        "application/javascript": "\n                    $(\"#pm_label3479dc85\").text(\"Downloaded 401408 of 3411524 bytes\");\n                    $(\"#pm_progress3479dc85\").attr(\"value\", 11.77);\n                "
                    }
                }, 
                {
                    "metadata": {}, 
                    "output_type": "display_data", 
                    "data": {
                        "text/plain": "<IPython.core.display.Javascript object>", 
                        "application/javascript": "\n                    $(\"#pm_label3479dc85\").text(\"Downloaded 409600 of 3411524 bytes\");\n                    $(\"#pm_progress3479dc85\").attr(\"value\", 12.01);\n                "
                    }
                }, 
                {
                    "metadata": {}, 
                    "output_type": "display_data", 
                    "data": {
                        "text/plain": "<IPython.core.display.Javascript object>", 
                        "application/javascript": "\n                    $(\"#pm_label3479dc85\").text(\"Downloaded 417792 of 3411524 bytes\");\n                    $(\"#pm_progress3479dc85\").attr(\"value\", 12.25);\n                "
                    }
                }, 
                {
                    "metadata": {}, 
                    "output_type": "display_data", 
                    "data": {
                        "text/plain": "<IPython.core.display.Javascript object>", 
                        "application/javascript": "\n                    $(\"#pm_label3479dc85\").text(\"Downloaded 425984 of 3411524 bytes\");\n                    $(\"#pm_progress3479dc85\").attr(\"value\", 12.49);\n                "
                    }
                }, 
                {
                    "metadata": {}, 
                    "output_type": "display_data", 
                    "data": {
                        "text/plain": "<IPython.core.display.Javascript object>", 
                        "application/javascript": "\n                    $(\"#pm_label3479dc85\").text(\"Downloaded 434176 of 3411524 bytes\");\n                    $(\"#pm_progress3479dc85\").attr(\"value\", 12.73);\n                "
                    }
                }, 
                {
                    "metadata": {}, 
                    "output_type": "display_data", 
                    "data": {
                        "text/plain": "<IPython.core.display.Javascript object>", 
                        "application/javascript": "\n                    $(\"#pm_label3479dc85\").text(\"Downloaded 442368 of 3411524 bytes\");\n                    $(\"#pm_progress3479dc85\").attr(\"value\", 12.97);\n                "
                    }
                }, 
                {
                    "metadata": {}, 
                    "output_type": "display_data", 
                    "data": {
                        "text/plain": "<IPython.core.display.Javascript object>", 
                        "application/javascript": "\n                    $(\"#pm_label3479dc85\").text(\"Downloaded 450560 of 3411524 bytes\");\n                    $(\"#pm_progress3479dc85\").attr(\"value\", 13.21);\n                "
                    }
                }, 
                {
                    "metadata": {}, 
                    "output_type": "display_data", 
                    "data": {
                        "text/plain": "<IPython.core.display.Javascript object>", 
                        "application/javascript": "\n                    $(\"#pm_label3479dc85\").text(\"Downloaded 458752 of 3411524 bytes\");\n                    $(\"#pm_progress3479dc85\").attr(\"value\", 13.45);\n                "
                    }
                }, 
                {
                    "metadata": {}, 
                    "output_type": "display_data", 
                    "data": {
                        "text/plain": "<IPython.core.display.Javascript object>", 
                        "application/javascript": "\n                    $(\"#pm_label3479dc85\").text(\"Downloaded 466944 of 3411524 bytes\");\n                    $(\"#pm_progress3479dc85\").attr(\"value\", 13.69);\n                "
                    }
                }, 
                {
                    "metadata": {}, 
                    "output_type": "display_data", 
                    "data": {
                        "text/plain": "<IPython.core.display.Javascript object>", 
                        "application/javascript": "\n                    $(\"#pm_label3479dc85\").text(\"Downloaded 475136 of 3411524 bytes\");\n                    $(\"#pm_progress3479dc85\").attr(\"value\", 13.93);\n                "
                    }
                }, 
                {
                    "metadata": {}, 
                    "output_type": "display_data", 
                    "data": {
                        "text/plain": "<IPython.core.display.Javascript object>", 
                        "application/javascript": "\n                    $(\"#pm_label3479dc85\").text(\"Downloaded 483328 of 3411524 bytes\");\n                    $(\"#pm_progress3479dc85\").attr(\"value\", 14.17);\n                "
                    }
                }, 
                {
                    "metadata": {}, 
                    "output_type": "display_data", 
                    "data": {
                        "text/plain": "<IPython.core.display.Javascript object>", 
                        "application/javascript": "\n                    $(\"#pm_label3479dc85\").text(\"Downloaded 491520 of 3411524 bytes\");\n                    $(\"#pm_progress3479dc85\").attr(\"value\", 14.41);\n                "
                    }
                }, 
                {
                    "metadata": {}, 
                    "output_type": "display_data", 
                    "data": {
                        "text/plain": "<IPython.core.display.Javascript object>", 
                        "application/javascript": "\n                    $(\"#pm_label3479dc85\").text(\"Downloaded 499712 of 3411524 bytes\");\n                    $(\"#pm_progress3479dc85\").attr(\"value\", 14.65);\n                "
                    }
                }, 
                {
                    "metadata": {}, 
                    "output_type": "display_data", 
                    "data": {
                        "text/plain": "<IPython.core.display.Javascript object>", 
                        "application/javascript": "\n                    $(\"#pm_label3479dc85\").text(\"Downloaded 507904 of 3411524 bytes\");\n                    $(\"#pm_progress3479dc85\").attr(\"value\", 14.89);\n                "
                    }
                }, 
                {
                    "metadata": {}, 
                    "output_type": "display_data", 
                    "data": {
                        "text/plain": "<IPython.core.display.Javascript object>", 
                        "application/javascript": "\n                    $(\"#pm_label3479dc85\").text(\"Downloaded 516096 of 3411524 bytes\");\n                    $(\"#pm_progress3479dc85\").attr(\"value\", 15.13);\n                "
                    }
                }, 
                {
                    "metadata": {}, 
                    "output_type": "display_data", 
                    "data": {
                        "text/plain": "<IPython.core.display.Javascript object>", 
                        "application/javascript": "\n                    $(\"#pm_label3479dc85\").text(\"Downloaded 524288 of 3411524 bytes\");\n                    $(\"#pm_progress3479dc85\").attr(\"value\", 15.37);\n                "
                    }
                }, 
                {
                    "metadata": {}, 
                    "output_type": "display_data", 
                    "data": {
                        "text/plain": "<IPython.core.display.Javascript object>", 
                        "application/javascript": "\n                    $(\"#pm_label3479dc85\").text(\"Downloaded 532480 of 3411524 bytes\");\n                    $(\"#pm_progress3479dc85\").attr(\"value\", 15.61);\n                "
                    }
                }, 
                {
                    "metadata": {}, 
                    "output_type": "display_data", 
                    "data": {
                        "text/plain": "<IPython.core.display.Javascript object>", 
                        "application/javascript": "\n                    $(\"#pm_label3479dc85\").text(\"Downloaded 540672 of 3411524 bytes\");\n                    $(\"#pm_progress3479dc85\").attr(\"value\", 15.85);\n                "
                    }
                }, 
                {
                    "metadata": {}, 
                    "output_type": "display_data", 
                    "data": {
                        "text/plain": "<IPython.core.display.Javascript object>", 
                        "application/javascript": "\n                    $(\"#pm_label3479dc85\").text(\"Downloaded 548864 of 3411524 bytes\");\n                    $(\"#pm_progress3479dc85\").attr(\"value\", 16.09);\n                "
                    }
                }, 
                {
                    "metadata": {}, 
                    "output_type": "display_data", 
                    "data": {
                        "text/plain": "<IPython.core.display.Javascript object>", 
                        "application/javascript": "\n                    $(\"#pm_label3479dc85\").text(\"Downloaded 557056 of 3411524 bytes\");\n                    $(\"#pm_progress3479dc85\").attr(\"value\", 16.33);\n                "
                    }
                }, 
                {
                    "metadata": {}, 
                    "output_type": "display_data", 
                    "data": {
                        "text/plain": "<IPython.core.display.Javascript object>", 
                        "application/javascript": "\n                    $(\"#pm_label3479dc85\").text(\"Downloaded 565248 of 3411524 bytes\");\n                    $(\"#pm_progress3479dc85\").attr(\"value\", 16.57);\n                "
                    }
                }, 
                {
                    "metadata": {}, 
                    "output_type": "display_data", 
                    "data": {
                        "text/plain": "<IPython.core.display.Javascript object>", 
                        "application/javascript": "\n                    $(\"#pm_label3479dc85\").text(\"Downloaded 573440 of 3411524 bytes\");\n                    $(\"#pm_progress3479dc85\").attr(\"value\", 16.81);\n                "
                    }
                }, 
                {
                    "metadata": {}, 
                    "output_type": "display_data", 
                    "data": {
                        "text/plain": "<IPython.core.display.Javascript object>", 
                        "application/javascript": "\n                    $(\"#pm_label3479dc85\").text(\"Downloaded 581632 of 3411524 bytes\");\n                    $(\"#pm_progress3479dc85\").attr(\"value\", 17.05);\n                "
                    }
                }, 
                {
                    "metadata": {}, 
                    "output_type": "display_data", 
                    "data": {
                        "text/plain": "<IPython.core.display.Javascript object>", 
                        "application/javascript": "\n                    $(\"#pm_label3479dc85\").text(\"Downloaded 589824 of 3411524 bytes\");\n                    $(\"#pm_progress3479dc85\").attr(\"value\", 17.29);\n                "
                    }
                }, 
                {
                    "metadata": {}, 
                    "output_type": "display_data", 
                    "data": {
                        "text/plain": "<IPython.core.display.Javascript object>", 
                        "application/javascript": "\n                    $(\"#pm_label3479dc85\").text(\"Downloaded 598016 of 3411524 bytes\");\n                    $(\"#pm_progress3479dc85\").attr(\"value\", 17.53);\n                "
                    }
                }, 
                {
                    "metadata": {}, 
                    "output_type": "display_data", 
                    "data": {
                        "text/plain": "<IPython.core.display.Javascript object>", 
                        "application/javascript": "\n                    $(\"#pm_label3479dc85\").text(\"Downloaded 606208 of 3411524 bytes\");\n                    $(\"#pm_progress3479dc85\").attr(\"value\", 17.77);\n                "
                    }
                }, 
                {
                    "metadata": {}, 
                    "output_type": "display_data", 
                    "data": {
                        "text/plain": "<IPython.core.display.Javascript object>", 
                        "application/javascript": "\n                    $(\"#pm_label3479dc85\").text(\"Downloaded 614400 of 3411524 bytes\");\n                    $(\"#pm_progress3479dc85\").attr(\"value\", 18.01);\n                "
                    }
                }, 
                {
                    "metadata": {}, 
                    "output_type": "display_data", 
                    "data": {
                        "text/plain": "<IPython.core.display.Javascript object>", 
                        "application/javascript": "\n                    $(\"#pm_label3479dc85\").text(\"Downloaded 622592 of 3411524 bytes\");\n                    $(\"#pm_progress3479dc85\").attr(\"value\", 18.25);\n                "
                    }
                }, 
                {
                    "metadata": {}, 
                    "output_type": "display_data", 
                    "data": {
                        "text/plain": "<IPython.core.display.Javascript object>", 
                        "application/javascript": "\n                    $(\"#pm_label3479dc85\").text(\"Downloaded 630784 of 3411524 bytes\");\n                    $(\"#pm_progress3479dc85\").attr(\"value\", 18.49);\n                "
                    }
                }, 
                {
                    "metadata": {}, 
                    "output_type": "display_data", 
                    "data": {
                        "text/plain": "<IPython.core.display.Javascript object>", 
                        "application/javascript": "\n                    $(\"#pm_label3479dc85\").text(\"Downloaded 638976 of 3411524 bytes\");\n                    $(\"#pm_progress3479dc85\").attr(\"value\", 18.73);\n                "
                    }
                }, 
                {
                    "metadata": {}, 
                    "output_type": "display_data", 
                    "data": {
                        "text/plain": "<IPython.core.display.Javascript object>", 
                        "application/javascript": "\n                    $(\"#pm_label3479dc85\").text(\"Downloaded 647168 of 3411524 bytes\");\n                    $(\"#pm_progress3479dc85\").attr(\"value\", 18.97);\n                "
                    }
                }, 
                {
                    "metadata": {}, 
                    "output_type": "display_data", 
                    "data": {
                        "text/plain": "<IPython.core.display.Javascript object>", 
                        "application/javascript": "\n                    $(\"#pm_label3479dc85\").text(\"Downloaded 655360 of 3411524 bytes\");\n                    $(\"#pm_progress3479dc85\").attr(\"value\", 19.21);\n                "
                    }
                }, 
                {
                    "metadata": {}, 
                    "output_type": "display_data", 
                    "data": {
                        "text/plain": "<IPython.core.display.Javascript object>", 
                        "application/javascript": "\n                    $(\"#pm_label3479dc85\").text(\"Downloaded 663552 of 3411524 bytes\");\n                    $(\"#pm_progress3479dc85\").attr(\"value\", 19.45);\n                "
                    }
                }, 
                {
                    "metadata": {}, 
                    "output_type": "display_data", 
                    "data": {
                        "text/plain": "<IPython.core.display.Javascript object>", 
                        "application/javascript": "\n                    $(\"#pm_label3479dc85\").text(\"Downloaded 671744 of 3411524 bytes\");\n                    $(\"#pm_progress3479dc85\").attr(\"value\", 19.69);\n                "
                    }
                }, 
                {
                    "metadata": {}, 
                    "output_type": "display_data", 
                    "data": {
                        "text/plain": "<IPython.core.display.Javascript object>", 
                        "application/javascript": "\n                    $(\"#pm_label3479dc85\").text(\"Downloaded 679936 of 3411524 bytes\");\n                    $(\"#pm_progress3479dc85\").attr(\"value\", 19.93);\n                "
                    }
                }, 
                {
                    "metadata": {}, 
                    "output_type": "display_data", 
                    "data": {
                        "text/plain": "<IPython.core.display.Javascript object>", 
                        "application/javascript": "\n                    $(\"#pm_label3479dc85\").text(\"Downloaded 688128 of 3411524 bytes\");\n                    $(\"#pm_progress3479dc85\").attr(\"value\", 20.17);\n                "
                    }
                }, 
                {
                    "metadata": {}, 
                    "output_type": "display_data", 
                    "data": {
                        "text/plain": "<IPython.core.display.Javascript object>", 
                        "application/javascript": "\n                    $(\"#pm_label3479dc85\").text(\"Downloaded 696320 of 3411524 bytes\");\n                    $(\"#pm_progress3479dc85\").attr(\"value\", 20.41);\n                "
                    }
                }, 
                {
                    "metadata": {}, 
                    "output_type": "display_data", 
                    "data": {
                        "text/plain": "<IPython.core.display.Javascript object>", 
                        "application/javascript": "\n                    $(\"#pm_label3479dc85\").text(\"Downloaded 704512 of 3411524 bytes\");\n                    $(\"#pm_progress3479dc85\").attr(\"value\", 20.65);\n                "
                    }
                }, 
                {
                    "metadata": {}, 
                    "output_type": "display_data", 
                    "data": {
                        "text/plain": "<IPython.core.display.Javascript object>", 
                        "application/javascript": "\n                    $(\"#pm_label3479dc85\").text(\"Downloaded 712704 of 3411524 bytes\");\n                    $(\"#pm_progress3479dc85\").attr(\"value\", 20.89);\n                "
                    }
                }, 
                {
                    "metadata": {}, 
                    "output_type": "display_data", 
                    "data": {
                        "text/plain": "<IPython.core.display.Javascript object>", 
                        "application/javascript": "\n                    $(\"#pm_label3479dc85\").text(\"Downloaded 720896 of 3411524 bytes\");\n                    $(\"#pm_progress3479dc85\").attr(\"value\", 21.13);\n                "
                    }
                }, 
                {
                    "metadata": {}, 
                    "output_type": "display_data", 
                    "data": {
                        "text/plain": "<IPython.core.display.Javascript object>", 
                        "application/javascript": "\n                    $(\"#pm_label3479dc85\").text(\"Downloaded 729088 of 3411524 bytes\");\n                    $(\"#pm_progress3479dc85\").attr(\"value\", 21.37);\n                "
                    }
                }, 
                {
                    "metadata": {}, 
                    "output_type": "display_data", 
                    "data": {
                        "text/plain": "<IPython.core.display.Javascript object>", 
                        "application/javascript": "\n                    $(\"#pm_label3479dc85\").text(\"Downloaded 737280 of 3411524 bytes\");\n                    $(\"#pm_progress3479dc85\").attr(\"value\", 21.61);\n                "
                    }
                }, 
                {
                    "metadata": {}, 
                    "output_type": "display_data", 
                    "data": {
                        "text/plain": "<IPython.core.display.Javascript object>", 
                        "application/javascript": "\n                    $(\"#pm_label3479dc85\").text(\"Downloaded 745472 of 3411524 bytes\");\n                    $(\"#pm_progress3479dc85\").attr(\"value\", 21.85);\n                "
                    }
                }, 
                {
                    "metadata": {}, 
                    "output_type": "display_data", 
                    "data": {
                        "text/plain": "<IPython.core.display.Javascript object>", 
                        "application/javascript": "\n                    $(\"#pm_label3479dc85\").text(\"Downloaded 753664 of 3411524 bytes\");\n                    $(\"#pm_progress3479dc85\").attr(\"value\", 22.09);\n                "
                    }
                }, 
                {
                    "metadata": {}, 
                    "output_type": "display_data", 
                    "data": {
                        "text/plain": "<IPython.core.display.Javascript object>", 
                        "application/javascript": "\n                    $(\"#pm_label3479dc85\").text(\"Downloaded 761856 of 3411524 bytes\");\n                    $(\"#pm_progress3479dc85\").attr(\"value\", 22.33);\n                "
                    }
                }, 
                {
                    "metadata": {}, 
                    "output_type": "display_data", 
                    "data": {
                        "text/plain": "<IPython.core.display.Javascript object>", 
                        "application/javascript": "\n                    $(\"#pm_label3479dc85\").text(\"Downloaded 770048 of 3411524 bytes\");\n                    $(\"#pm_progress3479dc85\").attr(\"value\", 22.57);\n                "
                    }
                }, 
                {
                    "metadata": {}, 
                    "output_type": "display_data", 
                    "data": {
                        "text/plain": "<IPython.core.display.Javascript object>", 
                        "application/javascript": "\n                    $(\"#pm_label3479dc85\").text(\"Downloaded 778240 of 3411524 bytes\");\n                    $(\"#pm_progress3479dc85\").attr(\"value\", 22.81);\n                "
                    }
                }, 
                {
                    "metadata": {}, 
                    "output_type": "display_data", 
                    "data": {
                        "text/plain": "<IPython.core.display.Javascript object>", 
                        "application/javascript": "\n                    $(\"#pm_label3479dc85\").text(\"Downloaded 786432 of 3411524 bytes\");\n                    $(\"#pm_progress3479dc85\").attr(\"value\", 23.05);\n                "
                    }
                }, 
                {
                    "metadata": {}, 
                    "output_type": "display_data", 
                    "data": {
                        "text/plain": "<IPython.core.display.Javascript object>", 
                        "application/javascript": "\n                    $(\"#pm_label3479dc85\").text(\"Downloaded 794624 of 3411524 bytes\");\n                    $(\"#pm_progress3479dc85\").attr(\"value\", 23.29);\n                "
                    }
                }, 
                {
                    "metadata": {}, 
                    "output_type": "display_data", 
                    "data": {
                        "text/plain": "<IPython.core.display.Javascript object>", 
                        "application/javascript": "\n                    $(\"#pm_label3479dc85\").text(\"Downloaded 802816 of 3411524 bytes\");\n                    $(\"#pm_progress3479dc85\").attr(\"value\", 23.53);\n                "
                    }
                }, 
                {
                    "metadata": {}, 
                    "output_type": "display_data", 
                    "data": {
                        "text/plain": "<IPython.core.display.Javascript object>", 
                        "application/javascript": "\n                    $(\"#pm_label3479dc85\").text(\"Downloaded 811008 of 3411524 bytes\");\n                    $(\"#pm_progress3479dc85\").attr(\"value\", 23.77);\n                "
                    }
                }, 
                {
                    "metadata": {}, 
                    "output_type": "display_data", 
                    "data": {
                        "text/plain": "<IPython.core.display.Javascript object>", 
                        "application/javascript": "\n                    $(\"#pm_label3479dc85\").text(\"Downloaded 819200 of 3411524 bytes\");\n                    $(\"#pm_progress3479dc85\").attr(\"value\", 24.01);\n                "
                    }
                }, 
                {
                    "metadata": {}, 
                    "output_type": "display_data", 
                    "data": {
                        "text/plain": "<IPython.core.display.Javascript object>", 
                        "application/javascript": "\n                    $(\"#pm_label3479dc85\").text(\"Downloaded 827392 of 3411524 bytes\");\n                    $(\"#pm_progress3479dc85\").attr(\"value\", 24.25);\n                "
                    }
                }, 
                {
                    "metadata": {}, 
                    "output_type": "display_data", 
                    "data": {
                        "text/plain": "<IPython.core.display.Javascript object>", 
                        "application/javascript": "\n                    $(\"#pm_label3479dc85\").text(\"Downloaded 835584 of 3411524 bytes\");\n                    $(\"#pm_progress3479dc85\").attr(\"value\", 24.49);\n                "
                    }
                }, 
                {
                    "metadata": {}, 
                    "output_type": "display_data", 
                    "data": {
                        "text/plain": "<IPython.core.display.Javascript object>", 
                        "application/javascript": "\n                    $(\"#pm_label3479dc85\").text(\"Downloaded 843776 of 3411524 bytes\");\n                    $(\"#pm_progress3479dc85\").attr(\"value\", 24.73);\n                "
                    }
                }, 
                {
                    "metadata": {}, 
                    "output_type": "display_data", 
                    "data": {
                        "text/plain": "<IPython.core.display.Javascript object>", 
                        "application/javascript": "\n                    $(\"#pm_label3479dc85\").text(\"Downloaded 851968 of 3411524 bytes\");\n                    $(\"#pm_progress3479dc85\").attr(\"value\", 24.97);\n                "
                    }
                }, 
                {
                    "metadata": {}, 
                    "output_type": "display_data", 
                    "data": {
                        "text/plain": "<IPython.core.display.Javascript object>", 
                        "application/javascript": "\n                    $(\"#pm_label3479dc85\").text(\"Downloaded 860160 of 3411524 bytes\");\n                    $(\"#pm_progress3479dc85\").attr(\"value\", 25.21);\n                "
                    }
                }, 
                {
                    "metadata": {}, 
                    "output_type": "display_data", 
                    "data": {
                        "text/plain": "<IPython.core.display.Javascript object>", 
                        "application/javascript": "\n                    $(\"#pm_label3479dc85\").text(\"Downloaded 868352 of 3411524 bytes\");\n                    $(\"#pm_progress3479dc85\").attr(\"value\", 25.45);\n                "
                    }
                }, 
                {
                    "metadata": {}, 
                    "output_type": "display_data", 
                    "data": {
                        "text/plain": "<IPython.core.display.Javascript object>", 
                        "application/javascript": "\n                    $(\"#pm_label3479dc85\").text(\"Downloaded 876544 of 3411524 bytes\");\n                    $(\"#pm_progress3479dc85\").attr(\"value\", 25.69);\n                "
                    }
                }, 
                {
                    "metadata": {}, 
                    "output_type": "display_data", 
                    "data": {
                        "text/plain": "<IPython.core.display.Javascript object>", 
                        "application/javascript": "\n                    $(\"#pm_label3479dc85\").text(\"Downloaded 884736 of 3411524 bytes\");\n                    $(\"#pm_progress3479dc85\").attr(\"value\", 25.93);\n                "
                    }
                }, 
                {
                    "metadata": {}, 
                    "output_type": "display_data", 
                    "data": {
                        "text/plain": "<IPython.core.display.Javascript object>", 
                        "application/javascript": "\n                    $(\"#pm_label3479dc85\").text(\"Downloaded 892928 of 3411524 bytes\");\n                    $(\"#pm_progress3479dc85\").attr(\"value\", 26.17);\n                "
                    }
                }, 
                {
                    "metadata": {}, 
                    "output_type": "display_data", 
                    "data": {
                        "text/plain": "<IPython.core.display.Javascript object>", 
                        "application/javascript": "\n                    $(\"#pm_label3479dc85\").text(\"Downloaded 901120 of 3411524 bytes\");\n                    $(\"#pm_progress3479dc85\").attr(\"value\", 26.41);\n                "
                    }
                }, 
                {
                    "metadata": {}, 
                    "output_type": "display_data", 
                    "data": {
                        "text/plain": "<IPython.core.display.Javascript object>", 
                        "application/javascript": "\n                    $(\"#pm_label3479dc85\").text(\"Downloaded 909312 of 3411524 bytes\");\n                    $(\"#pm_progress3479dc85\").attr(\"value\", 26.65);\n                "
                    }
                }, 
                {
                    "metadata": {}, 
                    "output_type": "display_data", 
                    "data": {
                        "text/plain": "<IPython.core.display.Javascript object>", 
                        "application/javascript": "\n                    $(\"#pm_label3479dc85\").text(\"Downloaded 917504 of 3411524 bytes\");\n                    $(\"#pm_progress3479dc85\").attr(\"value\", 26.89);\n                "
                    }
                }, 
                {
                    "metadata": {}, 
                    "output_type": "display_data", 
                    "data": {
                        "text/plain": "<IPython.core.display.Javascript object>", 
                        "application/javascript": "\n                    $(\"#pm_label3479dc85\").text(\"Downloaded 925696 of 3411524 bytes\");\n                    $(\"#pm_progress3479dc85\").attr(\"value\", 27.13);\n                "
                    }
                }, 
                {
                    "metadata": {}, 
                    "output_type": "display_data", 
                    "data": {
                        "text/plain": "<IPython.core.display.Javascript object>", 
                        "application/javascript": "\n                    $(\"#pm_label3479dc85\").text(\"Downloaded 933888 of 3411524 bytes\");\n                    $(\"#pm_progress3479dc85\").attr(\"value\", 27.37);\n                "
                    }
                }, 
                {
                    "metadata": {}, 
                    "output_type": "display_data", 
                    "data": {
                        "text/plain": "<IPython.core.display.Javascript object>", 
                        "application/javascript": "\n                    $(\"#pm_label3479dc85\").text(\"Downloaded 942080 of 3411524 bytes\");\n                    $(\"#pm_progress3479dc85\").attr(\"value\", 27.61);\n                "
                    }
                }, 
                {
                    "metadata": {}, 
                    "output_type": "display_data", 
                    "data": {
                        "text/plain": "<IPython.core.display.Javascript object>", 
                        "application/javascript": "\n                    $(\"#pm_label3479dc85\").text(\"Downloaded 950272 of 3411524 bytes\");\n                    $(\"#pm_progress3479dc85\").attr(\"value\", 27.85);\n                "
                    }
                }, 
                {
                    "metadata": {}, 
                    "output_type": "display_data", 
                    "data": {
                        "text/plain": "<IPython.core.display.Javascript object>", 
                        "application/javascript": "\n                    $(\"#pm_label3479dc85\").text(\"Downloaded 958464 of 3411524 bytes\");\n                    $(\"#pm_progress3479dc85\").attr(\"value\", 28.09);\n                "
                    }
                }, 
                {
                    "metadata": {}, 
                    "output_type": "display_data", 
                    "data": {
                        "text/plain": "<IPython.core.display.Javascript object>", 
                        "application/javascript": "\n                    $(\"#pm_label3479dc85\").text(\"Downloaded 966656 of 3411524 bytes\");\n                    $(\"#pm_progress3479dc85\").attr(\"value\", 28.34);\n                "
                    }
                }, 
                {
                    "metadata": {}, 
                    "output_type": "display_data", 
                    "data": {
                        "text/plain": "<IPython.core.display.Javascript object>", 
                        "application/javascript": "\n                    $(\"#pm_label3479dc85\").text(\"Downloaded 974848 of 3411524 bytes\");\n                    $(\"#pm_progress3479dc85\").attr(\"value\", 28.58);\n                "
                    }
                }, 
                {
                    "metadata": {}, 
                    "output_type": "display_data", 
                    "data": {
                        "text/plain": "<IPython.core.display.Javascript object>", 
                        "application/javascript": "\n                    $(\"#pm_label3479dc85\").text(\"Downloaded 983040 of 3411524 bytes\");\n                    $(\"#pm_progress3479dc85\").attr(\"value\", 28.82);\n                "
                    }
                }, 
                {
                    "metadata": {}, 
                    "output_type": "display_data", 
                    "data": {
                        "text/plain": "<IPython.core.display.Javascript object>", 
                        "application/javascript": "\n                    $(\"#pm_label3479dc85\").text(\"Downloaded 991232 of 3411524 bytes\");\n                    $(\"#pm_progress3479dc85\").attr(\"value\", 29.06);\n                "
                    }
                }, 
                {
                    "metadata": {}, 
                    "output_type": "display_data", 
                    "data": {
                        "text/plain": "<IPython.core.display.Javascript object>", 
                        "application/javascript": "\n                    $(\"#pm_label3479dc85\").text(\"Downloaded 999424 of 3411524 bytes\");\n                    $(\"#pm_progress3479dc85\").attr(\"value\", 29.3);\n                "
                    }
                }, 
                {
                    "metadata": {}, 
                    "output_type": "display_data", 
                    "data": {
                        "text/plain": "<IPython.core.display.Javascript object>", 
                        "application/javascript": "\n                    $(\"#pm_label3479dc85\").text(\"Downloaded 1007616 of 3411524 bytes\");\n                    $(\"#pm_progress3479dc85\").attr(\"value\", 29.54);\n                "
                    }
                }, 
                {
                    "metadata": {}, 
                    "output_type": "display_data", 
                    "data": {
                        "text/plain": "<IPython.core.display.Javascript object>", 
                        "application/javascript": "\n                    $(\"#pm_label3479dc85\").text(\"Downloaded 1015808 of 3411524 bytes\");\n                    $(\"#pm_progress3479dc85\").attr(\"value\", 29.78);\n                "
                    }
                }, 
                {
                    "metadata": {}, 
                    "output_type": "display_data", 
                    "data": {
                        "text/plain": "<IPython.core.display.Javascript object>", 
                        "application/javascript": "\n                    $(\"#pm_label3479dc85\").text(\"Downloaded 1024000 of 3411524 bytes\");\n                    $(\"#pm_progress3479dc85\").attr(\"value\", 30.02);\n                "
                    }
                }, 
                {
                    "metadata": {}, 
                    "output_type": "display_data", 
                    "data": {
                        "text/plain": "<IPython.core.display.Javascript object>", 
                        "application/javascript": "\n                    $(\"#pm_label3479dc85\").text(\"Downloaded 1032192 of 3411524 bytes\");\n                    $(\"#pm_progress3479dc85\").attr(\"value\", 30.26);\n                "
                    }
                }, 
                {
                    "metadata": {}, 
                    "output_type": "display_data", 
                    "data": {
                        "text/plain": "<IPython.core.display.Javascript object>", 
                        "application/javascript": "\n                    $(\"#pm_label3479dc85\").text(\"Downloaded 1040384 of 3411524 bytes\");\n                    $(\"#pm_progress3479dc85\").attr(\"value\", 30.5);\n                "
                    }
                }, 
                {
                    "metadata": {}, 
                    "output_type": "display_data", 
                    "data": {
                        "text/plain": "<IPython.core.display.Javascript object>", 
                        "application/javascript": "\n                    $(\"#pm_label3479dc85\").text(\"Downloaded 1048576 of 3411524 bytes\");\n                    $(\"#pm_progress3479dc85\").attr(\"value\", 30.74);\n                "
                    }
                }, 
                {
                    "metadata": {}, 
                    "output_type": "display_data", 
                    "data": {
                        "text/plain": "<IPython.core.display.Javascript object>", 
                        "application/javascript": "\n                    $(\"#pm_label3479dc85\").text(\"Downloaded 1056768 of 3411524 bytes\");\n                    $(\"#pm_progress3479dc85\").attr(\"value\", 30.98);\n                "
                    }
                }, 
                {
                    "metadata": {}, 
                    "output_type": "display_data", 
                    "data": {
                        "text/plain": "<IPython.core.display.Javascript object>", 
                        "application/javascript": "\n                    $(\"#pm_label3479dc85\").text(\"Downloaded 1064960 of 3411524 bytes\");\n                    $(\"#pm_progress3479dc85\").attr(\"value\", 31.22);\n                "
                    }
                }, 
                {
                    "metadata": {}, 
                    "output_type": "display_data", 
                    "data": {
                        "text/plain": "<IPython.core.display.Javascript object>", 
                        "application/javascript": "\n                    $(\"#pm_label3479dc85\").text(\"Downloaded 1073152 of 3411524 bytes\");\n                    $(\"#pm_progress3479dc85\").attr(\"value\", 31.46);\n                "
                    }
                }, 
                {
                    "metadata": {}, 
                    "output_type": "display_data", 
                    "data": {
                        "text/plain": "<IPython.core.display.Javascript object>", 
                        "application/javascript": "\n                    $(\"#pm_label3479dc85\").text(\"Downloaded 1081344 of 3411524 bytes\");\n                    $(\"#pm_progress3479dc85\").attr(\"value\", 31.7);\n                "
                    }
                }, 
                {
                    "metadata": {}, 
                    "output_type": "display_data", 
                    "data": {
                        "text/plain": "<IPython.core.display.Javascript object>", 
                        "application/javascript": "\n                    $(\"#pm_label3479dc85\").text(\"Downloaded 1089536 of 3411524 bytes\");\n                    $(\"#pm_progress3479dc85\").attr(\"value\", 31.94);\n                "
                    }
                }, 
                {
                    "metadata": {}, 
                    "output_type": "display_data", 
                    "data": {
                        "text/plain": "<IPython.core.display.Javascript object>", 
                        "application/javascript": "\n                    $(\"#pm_label3479dc85\").text(\"Downloaded 1097728 of 3411524 bytes\");\n                    $(\"#pm_progress3479dc85\").attr(\"value\", 32.18);\n                "
                    }
                }, 
                {
                    "metadata": {}, 
                    "output_type": "display_data", 
                    "data": {
                        "text/plain": "<IPython.core.display.Javascript object>", 
                        "application/javascript": "\n                    $(\"#pm_label3479dc85\").text(\"Downloaded 1105920 of 3411524 bytes\");\n                    $(\"#pm_progress3479dc85\").attr(\"value\", 32.42);\n                "
                    }
                }, 
                {
                    "metadata": {}, 
                    "output_type": "display_data", 
                    "data": {
                        "text/plain": "<IPython.core.display.Javascript object>", 
                        "application/javascript": "\n                    $(\"#pm_label3479dc85\").text(\"Downloaded 1114112 of 3411524 bytes\");\n                    $(\"#pm_progress3479dc85\").attr(\"value\", 32.66);\n                "
                    }
                }, 
                {
                    "metadata": {}, 
                    "output_type": "display_data", 
                    "data": {
                        "text/plain": "<IPython.core.display.Javascript object>", 
                        "application/javascript": "\n                    $(\"#pm_label3479dc85\").text(\"Downloaded 1122304 of 3411524 bytes\");\n                    $(\"#pm_progress3479dc85\").attr(\"value\", 32.9);\n                "
                    }
                }, 
                {
                    "metadata": {}, 
                    "output_type": "display_data", 
                    "data": {
                        "text/plain": "<IPython.core.display.Javascript object>", 
                        "application/javascript": "\n                    $(\"#pm_label3479dc85\").text(\"Downloaded 1130496 of 3411524 bytes\");\n                    $(\"#pm_progress3479dc85\").attr(\"value\", 33.14);\n                "
                    }
                }, 
                {
                    "metadata": {}, 
                    "output_type": "display_data", 
                    "data": {
                        "text/plain": "<IPython.core.display.Javascript object>", 
                        "application/javascript": "\n                    $(\"#pm_label3479dc85\").text(\"Downloaded 1138688 of 3411524 bytes\");\n                    $(\"#pm_progress3479dc85\").attr(\"value\", 33.38);\n                "
                    }
                }, 
                {
                    "metadata": {}, 
                    "output_type": "display_data", 
                    "data": {
                        "text/plain": "<IPython.core.display.Javascript object>", 
                        "application/javascript": "\n                    $(\"#pm_label3479dc85\").text(\"Downloaded 1146880 of 3411524 bytes\");\n                    $(\"#pm_progress3479dc85\").attr(\"value\", 33.62);\n                "
                    }
                }, 
                {
                    "metadata": {}, 
                    "output_type": "display_data", 
                    "data": {
                        "text/plain": "<IPython.core.display.Javascript object>", 
                        "application/javascript": "\n                    $(\"#pm_label3479dc85\").text(\"Downloaded 1155072 of 3411524 bytes\");\n                    $(\"#pm_progress3479dc85\").attr(\"value\", 33.86);\n                "
                    }
                }, 
                {
                    "metadata": {}, 
                    "output_type": "display_data", 
                    "data": {
                        "text/plain": "<IPython.core.display.Javascript object>", 
                        "application/javascript": "\n                    $(\"#pm_label3479dc85\").text(\"Downloaded 1163264 of 3411524 bytes\");\n                    $(\"#pm_progress3479dc85\").attr(\"value\", 34.1);\n                "
                    }
                }, 
                {
                    "metadata": {}, 
                    "output_type": "display_data", 
                    "data": {
                        "text/plain": "<IPython.core.display.Javascript object>", 
                        "application/javascript": "\n                    $(\"#pm_label3479dc85\").text(\"Downloaded 1171456 of 3411524 bytes\");\n                    $(\"#pm_progress3479dc85\").attr(\"value\", 34.34);\n                "
                    }
                }, 
                {
                    "metadata": {}, 
                    "output_type": "display_data", 
                    "data": {
                        "text/plain": "<IPython.core.display.Javascript object>", 
                        "application/javascript": "\n                    $(\"#pm_label3479dc85\").text(\"Downloaded 1179648 of 3411524 bytes\");\n                    $(\"#pm_progress3479dc85\").attr(\"value\", 34.58);\n                "
                    }
                }, 
                {
                    "metadata": {}, 
                    "output_type": "display_data", 
                    "data": {
                        "text/plain": "<IPython.core.display.Javascript object>", 
                        "application/javascript": "\n                    $(\"#pm_label3479dc85\").text(\"Downloaded 1187840 of 3411524 bytes\");\n                    $(\"#pm_progress3479dc85\").attr(\"value\", 34.82);\n                "
                    }
                }, 
                {
                    "metadata": {}, 
                    "output_type": "display_data", 
                    "data": {
                        "text/plain": "<IPython.core.display.Javascript object>", 
                        "application/javascript": "\n                    $(\"#pm_label3479dc85\").text(\"Downloaded 1196032 of 3411524 bytes\");\n                    $(\"#pm_progress3479dc85\").attr(\"value\", 35.06);\n                "
                    }
                }, 
                {
                    "metadata": {}, 
                    "output_type": "display_data", 
                    "data": {
                        "text/plain": "<IPython.core.display.Javascript object>", 
                        "application/javascript": "\n                    $(\"#pm_label3479dc85\").text(\"Downloaded 1204224 of 3411524 bytes\");\n                    $(\"#pm_progress3479dc85\").attr(\"value\", 35.3);\n                "
                    }
                }, 
                {
                    "metadata": {}, 
                    "output_type": "display_data", 
                    "data": {
                        "text/plain": "<IPython.core.display.Javascript object>", 
                        "application/javascript": "\n                    $(\"#pm_label3479dc85\").text(\"Downloaded 1212416 of 3411524 bytes\");\n                    $(\"#pm_progress3479dc85\").attr(\"value\", 35.54);\n                "
                    }
                }, 
                {
                    "metadata": {}, 
                    "output_type": "display_data", 
                    "data": {
                        "text/plain": "<IPython.core.display.Javascript object>", 
                        "application/javascript": "\n                    $(\"#pm_label3479dc85\").text(\"Downloaded 1220608 of 3411524 bytes\");\n                    $(\"#pm_progress3479dc85\").attr(\"value\", 35.78);\n                "
                    }
                }, 
                {
                    "metadata": {}, 
                    "output_type": "display_data", 
                    "data": {
                        "text/plain": "<IPython.core.display.Javascript object>", 
                        "application/javascript": "\n                    $(\"#pm_label3479dc85\").text(\"Downloaded 1228800 of 3411524 bytes\");\n                    $(\"#pm_progress3479dc85\").attr(\"value\", 36.02);\n                "
                    }
                }, 
                {
                    "metadata": {}, 
                    "output_type": "display_data", 
                    "data": {
                        "text/plain": "<IPython.core.display.Javascript object>", 
                        "application/javascript": "\n                    $(\"#pm_label3479dc85\").text(\"Downloaded 1236992 of 3411524 bytes\");\n                    $(\"#pm_progress3479dc85\").attr(\"value\", 36.26);\n                "
                    }
                }, 
                {
                    "metadata": {}, 
                    "output_type": "display_data", 
                    "data": {
                        "text/plain": "<IPython.core.display.Javascript object>", 
                        "application/javascript": "\n                    $(\"#pm_label3479dc85\").text(\"Downloaded 1245184 of 3411524 bytes\");\n                    $(\"#pm_progress3479dc85\").attr(\"value\", 36.5);\n                "
                    }
                }, 
                {
                    "metadata": {}, 
                    "output_type": "display_data", 
                    "data": {
                        "text/plain": "<IPython.core.display.Javascript object>", 
                        "application/javascript": "\n                    $(\"#pm_label3479dc85\").text(\"Downloaded 1253376 of 3411524 bytes\");\n                    $(\"#pm_progress3479dc85\").attr(\"value\", 36.74);\n                "
                    }
                }, 
                {
                    "metadata": {}, 
                    "output_type": "display_data", 
                    "data": {
                        "text/plain": "<IPython.core.display.Javascript object>", 
                        "application/javascript": "\n                    $(\"#pm_label3479dc85\").text(\"Downloaded 1261568 of 3411524 bytes\");\n                    $(\"#pm_progress3479dc85\").attr(\"value\", 36.98);\n                "
                    }
                }, 
                {
                    "metadata": {}, 
                    "output_type": "display_data", 
                    "data": {
                        "text/plain": "<IPython.core.display.Javascript object>", 
                        "application/javascript": "\n                    $(\"#pm_label3479dc85\").text(\"Downloaded 1269760 of 3411524 bytes\");\n                    $(\"#pm_progress3479dc85\").attr(\"value\", 37.22);\n                "
                    }
                }, 
                {
                    "metadata": {}, 
                    "output_type": "display_data", 
                    "data": {
                        "text/plain": "<IPython.core.display.Javascript object>", 
                        "application/javascript": "\n                    $(\"#pm_label3479dc85\").text(\"Downloaded 1277952 of 3411524 bytes\");\n                    $(\"#pm_progress3479dc85\").attr(\"value\", 37.46);\n                "
                    }
                }, 
                {
                    "metadata": {}, 
                    "output_type": "display_data", 
                    "data": {
                        "text/plain": "<IPython.core.display.Javascript object>", 
                        "application/javascript": "\n                    $(\"#pm_label3479dc85\").text(\"Downloaded 1286144 of 3411524 bytes\");\n                    $(\"#pm_progress3479dc85\").attr(\"value\", 37.7);\n                "
                    }
                }, 
                {
                    "metadata": {}, 
                    "output_type": "display_data", 
                    "data": {
                        "text/plain": "<IPython.core.display.Javascript object>", 
                        "application/javascript": "\n                    $(\"#pm_label3479dc85\").text(\"Downloaded 1294336 of 3411524 bytes\");\n                    $(\"#pm_progress3479dc85\").attr(\"value\", 37.94);\n                "
                    }
                }, 
                {
                    "metadata": {}, 
                    "output_type": "display_data", 
                    "data": {
                        "text/plain": "<IPython.core.display.Javascript object>", 
                        "application/javascript": "\n                    $(\"#pm_label3479dc85\").text(\"Downloaded 1302528 of 3411524 bytes\");\n                    $(\"#pm_progress3479dc85\").attr(\"value\", 38.18);\n                "
                    }
                }, 
                {
                    "metadata": {}, 
                    "output_type": "display_data", 
                    "data": {
                        "text/plain": "<IPython.core.display.Javascript object>", 
                        "application/javascript": "\n                    $(\"#pm_label3479dc85\").text(\"Downloaded 1310720 of 3411524 bytes\");\n                    $(\"#pm_progress3479dc85\").attr(\"value\", 38.42);\n                "
                    }
                }, 
                {
                    "metadata": {}, 
                    "output_type": "display_data", 
                    "data": {
                        "text/plain": "<IPython.core.display.Javascript object>", 
                        "application/javascript": "\n                    $(\"#pm_label3479dc85\").text(\"Downloaded 1318912 of 3411524 bytes\");\n                    $(\"#pm_progress3479dc85\").attr(\"value\", 38.66);\n                "
                    }
                }, 
                {
                    "metadata": {}, 
                    "output_type": "display_data", 
                    "data": {
                        "text/plain": "<IPython.core.display.Javascript object>", 
                        "application/javascript": "\n                    $(\"#pm_label3479dc85\").text(\"Downloaded 1327104 of 3411524 bytes\");\n                    $(\"#pm_progress3479dc85\").attr(\"value\", 38.9);\n                "
                    }
                }, 
                {
                    "metadata": {}, 
                    "output_type": "display_data", 
                    "data": {
                        "text/plain": "<IPython.core.display.Javascript object>", 
                        "application/javascript": "\n                    $(\"#pm_label3479dc85\").text(\"Downloaded 1335296 of 3411524 bytes\");\n                    $(\"#pm_progress3479dc85\").attr(\"value\", 39.14);\n                "
                    }
                }, 
                {
                    "metadata": {}, 
                    "output_type": "display_data", 
                    "data": {
                        "text/plain": "<IPython.core.display.Javascript object>", 
                        "application/javascript": "\n                    $(\"#pm_label3479dc85\").text(\"Downloaded 1343488 of 3411524 bytes\");\n                    $(\"#pm_progress3479dc85\").attr(\"value\", 39.38);\n                "
                    }
                }, 
                {
                    "metadata": {}, 
                    "output_type": "display_data", 
                    "data": {
                        "text/plain": "<IPython.core.display.Javascript object>", 
                        "application/javascript": "\n                    $(\"#pm_label3479dc85\").text(\"Downloaded 1351680 of 3411524 bytes\");\n                    $(\"#pm_progress3479dc85\").attr(\"value\", 39.62);\n                "
                    }
                }, 
                {
                    "metadata": {}, 
                    "output_type": "display_data", 
                    "data": {
                        "text/plain": "<IPython.core.display.Javascript object>", 
                        "application/javascript": "\n                    $(\"#pm_label3479dc85\").text(\"Downloaded 1359872 of 3411524 bytes\");\n                    $(\"#pm_progress3479dc85\").attr(\"value\", 39.86);\n                "
                    }
                }, 
                {
                    "metadata": {}, 
                    "output_type": "display_data", 
                    "data": {
                        "text/plain": "<IPython.core.display.Javascript object>", 
                        "application/javascript": "\n                    $(\"#pm_label3479dc85\").text(\"Downloaded 1368064 of 3411524 bytes\");\n                    $(\"#pm_progress3479dc85\").attr(\"value\", 40.1);\n                "
                    }
                }, 
                {
                    "metadata": {}, 
                    "output_type": "display_data", 
                    "data": {
                        "text/plain": "<IPython.core.display.Javascript object>", 
                        "application/javascript": "\n                    $(\"#pm_label3479dc85\").text(\"Downloaded 1376256 of 3411524 bytes\");\n                    $(\"#pm_progress3479dc85\").attr(\"value\", 40.34);\n                "
                    }
                }, 
                {
                    "metadata": {}, 
                    "output_type": "display_data", 
                    "data": {
                        "text/plain": "<IPython.core.display.Javascript object>", 
                        "application/javascript": "\n                    $(\"#pm_label3479dc85\").text(\"Downloaded 1384448 of 3411524 bytes\");\n                    $(\"#pm_progress3479dc85\").attr(\"value\", 40.58);\n                "
                    }
                }, 
                {
                    "metadata": {}, 
                    "output_type": "display_data", 
                    "data": {
                        "text/plain": "<IPython.core.display.Javascript object>", 
                        "application/javascript": "\n                    $(\"#pm_label3479dc85\").text(\"Downloaded 1392640 of 3411524 bytes\");\n                    $(\"#pm_progress3479dc85\").attr(\"value\", 40.82);\n                "
                    }
                }, 
                {
                    "metadata": {}, 
                    "output_type": "display_data", 
                    "data": {
                        "text/plain": "<IPython.core.display.Javascript object>", 
                        "application/javascript": "\n                    $(\"#pm_label3479dc85\").text(\"Downloaded 1400832 of 3411524 bytes\");\n                    $(\"#pm_progress3479dc85\").attr(\"value\", 41.06);\n                "
                    }
                }, 
                {
                    "metadata": {}, 
                    "output_type": "display_data", 
                    "data": {
                        "text/plain": "<IPython.core.display.Javascript object>", 
                        "application/javascript": "\n                    $(\"#pm_label3479dc85\").text(\"Downloaded 1409024 of 3411524 bytes\");\n                    $(\"#pm_progress3479dc85\").attr(\"value\", 41.3);\n                "
                    }
                }, 
                {
                    "metadata": {}, 
                    "output_type": "display_data", 
                    "data": {
                        "text/plain": "<IPython.core.display.Javascript object>", 
                        "application/javascript": "\n                    $(\"#pm_label3479dc85\").text(\"Downloaded 1417216 of 3411524 bytes\");\n                    $(\"#pm_progress3479dc85\").attr(\"value\", 41.54);\n                "
                    }
                }, 
                {
                    "metadata": {}, 
                    "output_type": "display_data", 
                    "data": {
                        "text/plain": "<IPython.core.display.Javascript object>", 
                        "application/javascript": "\n                    $(\"#pm_label3479dc85\").text(\"Downloaded 1425408 of 3411524 bytes\");\n                    $(\"#pm_progress3479dc85\").attr(\"value\", 41.78);\n                "
                    }
                }, 
                {
                    "metadata": {}, 
                    "output_type": "display_data", 
                    "data": {
                        "text/plain": "<IPython.core.display.Javascript object>", 
                        "application/javascript": "\n                    $(\"#pm_label3479dc85\").text(\"Downloaded 1433600 of 3411524 bytes\");\n                    $(\"#pm_progress3479dc85\").attr(\"value\", 42.02);\n                "
                    }
                }, 
                {
                    "metadata": {}, 
                    "output_type": "display_data", 
                    "data": {
                        "text/plain": "<IPython.core.display.Javascript object>", 
                        "application/javascript": "\n                    $(\"#pm_label3479dc85\").text(\"Downloaded 1441792 of 3411524 bytes\");\n                    $(\"#pm_progress3479dc85\").attr(\"value\", 42.26);\n                "
                    }
                }, 
                {
                    "metadata": {}, 
                    "output_type": "display_data", 
                    "data": {
                        "text/plain": "<IPython.core.display.Javascript object>", 
                        "application/javascript": "\n                    $(\"#pm_label3479dc85\").text(\"Downloaded 1449984 of 3411524 bytes\");\n                    $(\"#pm_progress3479dc85\").attr(\"value\", 42.5);\n                "
                    }
                }, 
                {
                    "metadata": {}, 
                    "output_type": "display_data", 
                    "data": {
                        "text/plain": "<IPython.core.display.Javascript object>", 
                        "application/javascript": "\n                    $(\"#pm_label3479dc85\").text(\"Downloaded 1458176 of 3411524 bytes\");\n                    $(\"#pm_progress3479dc85\").attr(\"value\", 42.74);\n                "
                    }
                }, 
                {
                    "metadata": {}, 
                    "output_type": "display_data", 
                    "data": {
                        "text/plain": "<IPython.core.display.Javascript object>", 
                        "application/javascript": "\n                    $(\"#pm_label3479dc85\").text(\"Downloaded 1466368 of 3411524 bytes\");\n                    $(\"#pm_progress3479dc85\").attr(\"value\", 42.98);\n                "
                    }
                }, 
                {
                    "metadata": {}, 
                    "output_type": "display_data", 
                    "data": {
                        "text/plain": "<IPython.core.display.Javascript object>", 
                        "application/javascript": "\n                    $(\"#pm_label3479dc85\").text(\"Downloaded 1474560 of 3411524 bytes\");\n                    $(\"#pm_progress3479dc85\").attr(\"value\", 43.22);\n                "
                    }
                }, 
                {
                    "metadata": {}, 
                    "output_type": "display_data", 
                    "data": {
                        "text/plain": "<IPython.core.display.Javascript object>", 
                        "application/javascript": "\n                    $(\"#pm_label3479dc85\").text(\"Downloaded 1482752 of 3411524 bytes\");\n                    $(\"#pm_progress3479dc85\").attr(\"value\", 43.46);\n                "
                    }
                }, 
                {
                    "metadata": {}, 
                    "output_type": "display_data", 
                    "data": {
                        "text/plain": "<IPython.core.display.Javascript object>", 
                        "application/javascript": "\n                    $(\"#pm_label3479dc85\").text(\"Downloaded 1490944 of 3411524 bytes\");\n                    $(\"#pm_progress3479dc85\").attr(\"value\", 43.7);\n                "
                    }
                }, 
                {
                    "metadata": {}, 
                    "output_type": "display_data", 
                    "data": {
                        "text/plain": "<IPython.core.display.Javascript object>", 
                        "application/javascript": "\n                    $(\"#pm_label3479dc85\").text(\"Downloaded 1499136 of 3411524 bytes\");\n                    $(\"#pm_progress3479dc85\").attr(\"value\", 43.94);\n                "
                    }
                }, 
                {
                    "metadata": {}, 
                    "output_type": "display_data", 
                    "data": {
                        "text/plain": "<IPython.core.display.Javascript object>", 
                        "application/javascript": "\n                    $(\"#pm_label3479dc85\").text(\"Downloaded 1507328 of 3411524 bytes\");\n                    $(\"#pm_progress3479dc85\").attr(\"value\", 44.18);\n                "
                    }
                }, 
                {
                    "metadata": {}, 
                    "output_type": "display_data", 
                    "data": {
                        "text/plain": "<IPython.core.display.Javascript object>", 
                        "application/javascript": "\n                    $(\"#pm_label3479dc85\").text(\"Downloaded 1515520 of 3411524 bytes\");\n                    $(\"#pm_progress3479dc85\").attr(\"value\", 44.42);\n                "
                    }
                }, 
                {
                    "metadata": {}, 
                    "output_type": "display_data", 
                    "data": {
                        "text/plain": "<IPython.core.display.Javascript object>", 
                        "application/javascript": "\n                    $(\"#pm_label3479dc85\").text(\"Downloaded 1523712 of 3411524 bytes\");\n                    $(\"#pm_progress3479dc85\").attr(\"value\", 44.66);\n                "
                    }
                }, 
                {
                    "metadata": {}, 
                    "output_type": "display_data", 
                    "data": {
                        "text/plain": "<IPython.core.display.Javascript object>", 
                        "application/javascript": "\n                    $(\"#pm_label3479dc85\").text(\"Downloaded 1531904 of 3411524 bytes\");\n                    $(\"#pm_progress3479dc85\").attr(\"value\", 44.9);\n                "
                    }
                }, 
                {
                    "metadata": {}, 
                    "output_type": "display_data", 
                    "data": {
                        "text/plain": "<IPython.core.display.Javascript object>", 
                        "application/javascript": "\n                    $(\"#pm_label3479dc85\").text(\"Downloaded 1540096 of 3411524 bytes\");\n                    $(\"#pm_progress3479dc85\").attr(\"value\", 45.14);\n                "
                    }
                }, 
                {
                    "metadata": {}, 
                    "output_type": "display_data", 
                    "data": {
                        "text/plain": "<IPython.core.display.Javascript object>", 
                        "application/javascript": "\n                    $(\"#pm_label3479dc85\").text(\"Downloaded 1548288 of 3411524 bytes\");\n                    $(\"#pm_progress3479dc85\").attr(\"value\", 45.38);\n                "
                    }
                }, 
                {
                    "metadata": {}, 
                    "output_type": "display_data", 
                    "data": {
                        "text/plain": "<IPython.core.display.Javascript object>", 
                        "application/javascript": "\n                    $(\"#pm_label3479dc85\").text(\"Downloaded 1556480 of 3411524 bytes\");\n                    $(\"#pm_progress3479dc85\").attr(\"value\", 45.62);\n                "
                    }
                }, 
                {
                    "metadata": {}, 
                    "output_type": "display_data", 
                    "data": {
                        "text/plain": "<IPython.core.display.Javascript object>", 
                        "application/javascript": "\n                    $(\"#pm_label3479dc85\").text(\"Downloaded 1564672 of 3411524 bytes\");\n                    $(\"#pm_progress3479dc85\").attr(\"value\", 45.86);\n                "
                    }
                }, 
                {
                    "metadata": {}, 
                    "output_type": "display_data", 
                    "data": {
                        "text/plain": "<IPython.core.display.Javascript object>", 
                        "application/javascript": "\n                    $(\"#pm_label3479dc85\").text(\"Downloaded 1572864 of 3411524 bytes\");\n                    $(\"#pm_progress3479dc85\").attr(\"value\", 46.1);\n                "
                    }
                }, 
                {
                    "metadata": {}, 
                    "output_type": "display_data", 
                    "data": {
                        "text/plain": "<IPython.core.display.Javascript object>", 
                        "application/javascript": "\n                    $(\"#pm_label3479dc85\").text(\"Downloaded 1581056 of 3411524 bytes\");\n                    $(\"#pm_progress3479dc85\").attr(\"value\", 46.34);\n                "
                    }
                }, 
                {
                    "metadata": {}, 
                    "output_type": "display_data", 
                    "data": {
                        "text/plain": "<IPython.core.display.Javascript object>", 
                        "application/javascript": "\n                    $(\"#pm_label3479dc85\").text(\"Downloaded 1589248 of 3411524 bytes\");\n                    $(\"#pm_progress3479dc85\").attr(\"value\", 46.58);\n                "
                    }
                }, 
                {
                    "metadata": {}, 
                    "output_type": "display_data", 
                    "data": {
                        "text/plain": "<IPython.core.display.Javascript object>", 
                        "application/javascript": "\n                    $(\"#pm_label3479dc85\").text(\"Downloaded 1597440 of 3411524 bytes\");\n                    $(\"#pm_progress3479dc85\").attr(\"value\", 46.82);\n                "
                    }
                }, 
                {
                    "metadata": {}, 
                    "output_type": "display_data", 
                    "data": {
                        "text/plain": "<IPython.core.display.Javascript object>", 
                        "application/javascript": "\n                    $(\"#pm_label3479dc85\").text(\"Downloaded 1605632 of 3411524 bytes\");\n                    $(\"#pm_progress3479dc85\").attr(\"value\", 47.06);\n                "
                    }
                }, 
                {
                    "metadata": {}, 
                    "output_type": "display_data", 
                    "data": {
                        "text/plain": "<IPython.core.display.Javascript object>", 
                        "application/javascript": "\n                    $(\"#pm_label3479dc85\").text(\"Downloaded 1613824 of 3411524 bytes\");\n                    $(\"#pm_progress3479dc85\").attr(\"value\", 47.31);\n                "
                    }
                }, 
                {
                    "metadata": {}, 
                    "output_type": "display_data", 
                    "data": {
                        "text/plain": "<IPython.core.display.Javascript object>", 
                        "application/javascript": "\n                    $(\"#pm_label3479dc85\").text(\"Downloaded 1622016 of 3411524 bytes\");\n                    $(\"#pm_progress3479dc85\").attr(\"value\", 47.55);\n                "
                    }
                }, 
                {
                    "metadata": {}, 
                    "output_type": "display_data", 
                    "data": {
                        "text/plain": "<IPython.core.display.Javascript object>", 
                        "application/javascript": "\n                    $(\"#pm_label3479dc85\").text(\"Downloaded 1630208 of 3411524 bytes\");\n                    $(\"#pm_progress3479dc85\").attr(\"value\", 47.79);\n                "
                    }
                }, 
                {
                    "metadata": {}, 
                    "output_type": "display_data", 
                    "data": {
                        "text/plain": "<IPython.core.display.Javascript object>", 
                        "application/javascript": "\n                    $(\"#pm_label3479dc85\").text(\"Downloaded 1638400 of 3411524 bytes\");\n                    $(\"#pm_progress3479dc85\").attr(\"value\", 48.03);\n                "
                    }
                }, 
                {
                    "metadata": {}, 
                    "output_type": "display_data", 
                    "data": {
                        "text/plain": "<IPython.core.display.Javascript object>", 
                        "application/javascript": "\n                    $(\"#pm_label3479dc85\").text(\"Downloaded 1646592 of 3411524 bytes\");\n                    $(\"#pm_progress3479dc85\").attr(\"value\", 48.27);\n                "
                    }
                }, 
                {
                    "metadata": {}, 
                    "output_type": "display_data", 
                    "data": {
                        "text/plain": "<IPython.core.display.Javascript object>", 
                        "application/javascript": "\n                    $(\"#pm_label3479dc85\").text(\"Downloaded 1654784 of 3411524 bytes\");\n                    $(\"#pm_progress3479dc85\").attr(\"value\", 48.51);\n                "
                    }
                }, 
                {
                    "metadata": {}, 
                    "output_type": "display_data", 
                    "data": {
                        "text/plain": "<IPython.core.display.Javascript object>", 
                        "application/javascript": "\n                    $(\"#pm_label3479dc85\").text(\"Downloaded 1662976 of 3411524 bytes\");\n                    $(\"#pm_progress3479dc85\").attr(\"value\", 48.75);\n                "
                    }
                }, 
                {
                    "metadata": {}, 
                    "output_type": "display_data", 
                    "data": {
                        "text/plain": "<IPython.core.display.Javascript object>", 
                        "application/javascript": "\n                    $(\"#pm_label3479dc85\").text(\"Downloaded 1671168 of 3411524 bytes\");\n                    $(\"#pm_progress3479dc85\").attr(\"value\", 48.99);\n                "
                    }
                }, 
                {
                    "metadata": {}, 
                    "output_type": "display_data", 
                    "data": {
                        "text/plain": "<IPython.core.display.Javascript object>", 
                        "application/javascript": "\n                    $(\"#pm_label3479dc85\").text(\"Downloaded 1679360 of 3411524 bytes\");\n                    $(\"#pm_progress3479dc85\").attr(\"value\", 49.23);\n                "
                    }
                }, 
                {
                    "metadata": {}, 
                    "output_type": "display_data", 
                    "data": {
                        "text/plain": "<IPython.core.display.Javascript object>", 
                        "application/javascript": "\n                    $(\"#pm_label3479dc85\").text(\"Downloaded 1687552 of 3411524 bytes\");\n                    $(\"#pm_progress3479dc85\").attr(\"value\", 49.47);\n                "
                    }
                }, 
                {
                    "metadata": {}, 
                    "output_type": "display_data", 
                    "data": {
                        "text/plain": "<IPython.core.display.Javascript object>", 
                        "application/javascript": "\n                    $(\"#pm_label3479dc85\").text(\"Downloaded 1695744 of 3411524 bytes\");\n                    $(\"#pm_progress3479dc85\").attr(\"value\", 49.71);\n                "
                    }
                }, 
                {
                    "metadata": {}, 
                    "output_type": "display_data", 
                    "data": {
                        "text/plain": "<IPython.core.display.Javascript object>", 
                        "application/javascript": "\n                    $(\"#pm_label3479dc85\").text(\"Downloaded 1703936 of 3411524 bytes\");\n                    $(\"#pm_progress3479dc85\").attr(\"value\", 49.95);\n                "
                    }
                }, 
                {
                    "metadata": {}, 
                    "output_type": "display_data", 
                    "data": {
                        "text/plain": "<IPython.core.display.Javascript object>", 
                        "application/javascript": "\n                    $(\"#pm_label3479dc85\").text(\"Downloaded 1712128 of 3411524 bytes\");\n                    $(\"#pm_progress3479dc85\").attr(\"value\", 50.19);\n                "
                    }
                }, 
                {
                    "metadata": {}, 
                    "output_type": "display_data", 
                    "data": {
                        "text/plain": "<IPython.core.display.Javascript object>", 
                        "application/javascript": "\n                    $(\"#pm_label3479dc85\").text(\"Downloaded 1720320 of 3411524 bytes\");\n                    $(\"#pm_progress3479dc85\").attr(\"value\", 50.43);\n                "
                    }
                }, 
                {
                    "metadata": {}, 
                    "output_type": "display_data", 
                    "data": {
                        "text/plain": "<IPython.core.display.Javascript object>", 
                        "application/javascript": "\n                    $(\"#pm_label3479dc85\").text(\"Downloaded 1728512 of 3411524 bytes\");\n                    $(\"#pm_progress3479dc85\").attr(\"value\", 50.67);\n                "
                    }
                }, 
                {
                    "metadata": {}, 
                    "output_type": "display_data", 
                    "data": {
                        "text/plain": "<IPython.core.display.Javascript object>", 
                        "application/javascript": "\n                    $(\"#pm_label3479dc85\").text(\"Downloaded 1736704 of 3411524 bytes\");\n                    $(\"#pm_progress3479dc85\").attr(\"value\", 50.91);\n                "
                    }
                }, 
                {
                    "metadata": {}, 
                    "output_type": "display_data", 
                    "data": {
                        "text/plain": "<IPython.core.display.Javascript object>", 
                        "application/javascript": "\n                    $(\"#pm_label3479dc85\").text(\"Downloaded 1744896 of 3411524 bytes\");\n                    $(\"#pm_progress3479dc85\").attr(\"value\", 51.15);\n                "
                    }
                }, 
                {
                    "metadata": {}, 
                    "output_type": "display_data", 
                    "data": {
                        "text/plain": "<IPython.core.display.Javascript object>", 
                        "application/javascript": "\n                    $(\"#pm_label3479dc85\").text(\"Downloaded 1753088 of 3411524 bytes\");\n                    $(\"#pm_progress3479dc85\").attr(\"value\", 51.39);\n                "
                    }
                }, 
                {
                    "metadata": {}, 
                    "output_type": "display_data", 
                    "data": {
                        "text/plain": "<IPython.core.display.Javascript object>", 
                        "application/javascript": "\n                    $(\"#pm_label3479dc85\").text(\"Downloaded 1761280 of 3411524 bytes\");\n                    $(\"#pm_progress3479dc85\").attr(\"value\", 51.63);\n                "
                    }
                }, 
                {
                    "metadata": {}, 
                    "output_type": "display_data", 
                    "data": {
                        "text/plain": "<IPython.core.display.Javascript object>", 
                        "application/javascript": "\n                    $(\"#pm_label3479dc85\").text(\"Downloaded 1769472 of 3411524 bytes\");\n                    $(\"#pm_progress3479dc85\").attr(\"value\", 51.87);\n                "
                    }
                }, 
                {
                    "metadata": {}, 
                    "output_type": "display_data", 
                    "data": {
                        "text/plain": "<IPython.core.display.Javascript object>", 
                        "application/javascript": "\n                    $(\"#pm_label3479dc85\").text(\"Downloaded 1777664 of 3411524 bytes\");\n                    $(\"#pm_progress3479dc85\").attr(\"value\", 52.11);\n                "
                    }
                }, 
                {
                    "metadata": {}, 
                    "output_type": "display_data", 
                    "data": {
                        "text/plain": "<IPython.core.display.Javascript object>", 
                        "application/javascript": "\n                    $(\"#pm_label3479dc85\").text(\"Downloaded 1785856 of 3411524 bytes\");\n                    $(\"#pm_progress3479dc85\").attr(\"value\", 52.35);\n                "
                    }
                }, 
                {
                    "metadata": {}, 
                    "output_type": "display_data", 
                    "data": {
                        "text/plain": "<IPython.core.display.Javascript object>", 
                        "application/javascript": "\n                    $(\"#pm_label3479dc85\").text(\"Downloaded 1794048 of 3411524 bytes\");\n                    $(\"#pm_progress3479dc85\").attr(\"value\", 52.59);\n                "
                    }
                }, 
                {
                    "metadata": {}, 
                    "output_type": "display_data", 
                    "data": {
                        "text/plain": "<IPython.core.display.Javascript object>", 
                        "application/javascript": "\n                    $(\"#pm_label3479dc85\").text(\"Downloaded 1802240 of 3411524 bytes\");\n                    $(\"#pm_progress3479dc85\").attr(\"value\", 52.83);\n                "
                    }
                }, 
                {
                    "metadata": {}, 
                    "output_type": "display_data", 
                    "data": {
                        "text/plain": "<IPython.core.display.Javascript object>", 
                        "application/javascript": "\n                    $(\"#pm_label3479dc85\").text(\"Downloaded 1810432 of 3411524 bytes\");\n                    $(\"#pm_progress3479dc85\").attr(\"value\", 53.07);\n                "
                    }
                }, 
                {
                    "metadata": {}, 
                    "output_type": "display_data", 
                    "data": {
                        "text/plain": "<IPython.core.display.Javascript object>", 
                        "application/javascript": "\n                    $(\"#pm_label3479dc85\").text(\"Downloaded 1818624 of 3411524 bytes\");\n                    $(\"#pm_progress3479dc85\").attr(\"value\", 53.31);\n                "
                    }
                }, 
                {
                    "metadata": {}, 
                    "output_type": "display_data", 
                    "data": {
                        "text/plain": "<IPython.core.display.Javascript object>", 
                        "application/javascript": "\n                    $(\"#pm_label3479dc85\").text(\"Downloaded 1826816 of 3411524 bytes\");\n                    $(\"#pm_progress3479dc85\").attr(\"value\", 53.55);\n                "
                    }
                }, 
                {
                    "metadata": {}, 
                    "output_type": "display_data", 
                    "data": {
                        "text/plain": "<IPython.core.display.Javascript object>", 
                        "application/javascript": "\n                    $(\"#pm_label3479dc85\").text(\"Downloaded 1835008 of 3411524 bytes\");\n                    $(\"#pm_progress3479dc85\").attr(\"value\", 53.79);\n                "
                    }
                }, 
                {
                    "metadata": {}, 
                    "output_type": "display_data", 
                    "data": {
                        "text/plain": "<IPython.core.display.Javascript object>", 
                        "application/javascript": "\n                    $(\"#pm_label3479dc85\").text(\"Downloaded 1843200 of 3411524 bytes\");\n                    $(\"#pm_progress3479dc85\").attr(\"value\", 54.03);\n                "
                    }
                }, 
                {
                    "metadata": {}, 
                    "output_type": "display_data", 
                    "data": {
                        "text/plain": "<IPython.core.display.Javascript object>", 
                        "application/javascript": "\n                    $(\"#pm_label3479dc85\").text(\"Downloaded 1851392 of 3411524 bytes\");\n                    $(\"#pm_progress3479dc85\").attr(\"value\", 54.27);\n                "
                    }
                }, 
                {
                    "metadata": {}, 
                    "output_type": "display_data", 
                    "data": {
                        "text/plain": "<IPython.core.display.Javascript object>", 
                        "application/javascript": "\n                    $(\"#pm_label3479dc85\").text(\"Downloaded 1859584 of 3411524 bytes\");\n                    $(\"#pm_progress3479dc85\").attr(\"value\", 54.51);\n                "
                    }
                }, 
                {
                    "metadata": {}, 
                    "output_type": "display_data", 
                    "data": {
                        "text/plain": "<IPython.core.display.Javascript object>", 
                        "application/javascript": "\n                    $(\"#pm_label3479dc85\").text(\"Downloaded 1867776 of 3411524 bytes\");\n                    $(\"#pm_progress3479dc85\").attr(\"value\", 54.75);\n                "
                    }
                }, 
                {
                    "metadata": {}, 
                    "output_type": "display_data", 
                    "data": {
                        "text/plain": "<IPython.core.display.Javascript object>", 
                        "application/javascript": "\n                    $(\"#pm_label3479dc85\").text(\"Downloaded 1875968 of 3411524 bytes\");\n                    $(\"#pm_progress3479dc85\").attr(\"value\", 54.99);\n                "
                    }
                }, 
                {
                    "metadata": {}, 
                    "output_type": "display_data", 
                    "data": {
                        "text/plain": "<IPython.core.display.Javascript object>", 
                        "application/javascript": "\n                    $(\"#pm_label3479dc85\").text(\"Downloaded 1884160 of 3411524 bytes\");\n                    $(\"#pm_progress3479dc85\").attr(\"value\", 55.23);\n                "
                    }
                }, 
                {
                    "metadata": {}, 
                    "output_type": "display_data", 
                    "data": {
                        "text/plain": "<IPython.core.display.Javascript object>", 
                        "application/javascript": "\n                    $(\"#pm_label3479dc85\").text(\"Downloaded 1892352 of 3411524 bytes\");\n                    $(\"#pm_progress3479dc85\").attr(\"value\", 55.47);\n                "
                    }
                }, 
                {
                    "metadata": {}, 
                    "output_type": "display_data", 
                    "data": {
                        "text/plain": "<IPython.core.display.Javascript object>", 
                        "application/javascript": "\n                    $(\"#pm_label3479dc85\").text(\"Downloaded 1900544 of 3411524 bytes\");\n                    $(\"#pm_progress3479dc85\").attr(\"value\", 55.71);\n                "
                    }
                }, 
                {
                    "metadata": {}, 
                    "output_type": "display_data", 
                    "data": {
                        "text/plain": "<IPython.core.display.Javascript object>", 
                        "application/javascript": "\n                    $(\"#pm_label3479dc85\").text(\"Downloaded 1908736 of 3411524 bytes\");\n                    $(\"#pm_progress3479dc85\").attr(\"value\", 55.95);\n                "
                    }
                }, 
                {
                    "metadata": {}, 
                    "output_type": "display_data", 
                    "data": {
                        "text/plain": "<IPython.core.display.Javascript object>", 
                        "application/javascript": "\n                    $(\"#pm_label3479dc85\").text(\"Downloaded 1916928 of 3411524 bytes\");\n                    $(\"#pm_progress3479dc85\").attr(\"value\", 56.19);\n                "
                    }
                }, 
                {
                    "metadata": {}, 
                    "output_type": "display_data", 
                    "data": {
                        "text/plain": "<IPython.core.display.Javascript object>", 
                        "application/javascript": "\n                    $(\"#pm_label3479dc85\").text(\"Downloaded 1925120 of 3411524 bytes\");\n                    $(\"#pm_progress3479dc85\").attr(\"value\", 56.43);\n                "
                    }
                }, 
                {
                    "metadata": {}, 
                    "output_type": "display_data", 
                    "data": {
                        "text/plain": "<IPython.core.display.Javascript object>", 
                        "application/javascript": "\n                    $(\"#pm_label3479dc85\").text(\"Downloaded 1933312 of 3411524 bytes\");\n                    $(\"#pm_progress3479dc85\").attr(\"value\", 56.67);\n                "
                    }
                }, 
                {
                    "metadata": {}, 
                    "output_type": "display_data", 
                    "data": {
                        "text/plain": "<IPython.core.display.Javascript object>", 
                        "application/javascript": "\n                    $(\"#pm_label3479dc85\").text(\"Downloaded 1941504 of 3411524 bytes\");\n                    $(\"#pm_progress3479dc85\").attr(\"value\", 56.91);\n                "
                    }
                }, 
                {
                    "metadata": {}, 
                    "output_type": "display_data", 
                    "data": {
                        "text/plain": "<IPython.core.display.Javascript object>", 
                        "application/javascript": "\n                    $(\"#pm_label3479dc85\").text(\"Downloaded 1949696 of 3411524 bytes\");\n                    $(\"#pm_progress3479dc85\").attr(\"value\", 57.15);\n                "
                    }
                }, 
                {
                    "metadata": {}, 
                    "output_type": "display_data", 
                    "data": {
                        "text/plain": "<IPython.core.display.Javascript object>", 
                        "application/javascript": "\n                    $(\"#pm_label3479dc85\").text(\"Downloaded 1957888 of 3411524 bytes\");\n                    $(\"#pm_progress3479dc85\").attr(\"value\", 57.39);\n                "
                    }
                }, 
                {
                    "metadata": {}, 
                    "output_type": "display_data", 
                    "data": {
                        "text/plain": "<IPython.core.display.Javascript object>", 
                        "application/javascript": "\n                    $(\"#pm_label3479dc85\").text(\"Downloaded 1966080 of 3411524 bytes\");\n                    $(\"#pm_progress3479dc85\").attr(\"value\", 57.63);\n                "
                    }
                }, 
                {
                    "metadata": {}, 
                    "output_type": "display_data", 
                    "data": {
                        "text/plain": "<IPython.core.display.Javascript object>", 
                        "application/javascript": "\n                    $(\"#pm_label3479dc85\").text(\"Downloaded 1974272 of 3411524 bytes\");\n                    $(\"#pm_progress3479dc85\").attr(\"value\", 57.87);\n                "
                    }
                }, 
                {
                    "metadata": {}, 
                    "output_type": "display_data", 
                    "data": {
                        "text/plain": "<IPython.core.display.Javascript object>", 
                        "application/javascript": "\n                    $(\"#pm_label3479dc85\").text(\"Downloaded 1982464 of 3411524 bytes\");\n                    $(\"#pm_progress3479dc85\").attr(\"value\", 58.11);\n                "
                    }
                }, 
                {
                    "metadata": {}, 
                    "output_type": "display_data", 
                    "data": {
                        "text/plain": "<IPython.core.display.Javascript object>", 
                        "application/javascript": "\n                    $(\"#pm_label3479dc85\").text(\"Downloaded 1990656 of 3411524 bytes\");\n                    $(\"#pm_progress3479dc85\").attr(\"value\", 58.35);\n                "
                    }
                }, 
                {
                    "metadata": {}, 
                    "output_type": "display_data", 
                    "data": {
                        "text/plain": "<IPython.core.display.Javascript object>", 
                        "application/javascript": "\n                    $(\"#pm_label3479dc85\").text(\"Downloaded 1998848 of 3411524 bytes\");\n                    $(\"#pm_progress3479dc85\").attr(\"value\", 58.59);\n                "
                    }
                }, 
                {
                    "metadata": {}, 
                    "output_type": "display_data", 
                    "data": {
                        "text/plain": "<IPython.core.display.Javascript object>", 
                        "application/javascript": "\n                    $(\"#pm_label3479dc85\").text(\"Downloaded 2007040 of 3411524 bytes\");\n                    $(\"#pm_progress3479dc85\").attr(\"value\", 58.83);\n                "
                    }
                }, 
                {
                    "metadata": {}, 
                    "output_type": "display_data", 
                    "data": {
                        "text/plain": "<IPython.core.display.Javascript object>", 
                        "application/javascript": "\n                    $(\"#pm_label3479dc85\").text(\"Downloaded 2015232 of 3411524 bytes\");\n                    $(\"#pm_progress3479dc85\").attr(\"value\", 59.07);\n                "
                    }
                }, 
                {
                    "metadata": {}, 
                    "output_type": "display_data", 
                    "data": {
                        "text/plain": "<IPython.core.display.Javascript object>", 
                        "application/javascript": "\n                    $(\"#pm_label3479dc85\").text(\"Downloaded 2023424 of 3411524 bytes\");\n                    $(\"#pm_progress3479dc85\").attr(\"value\", 59.31);\n                "
                    }
                }, 
                {
                    "metadata": {}, 
                    "output_type": "display_data", 
                    "data": {
                        "text/plain": "<IPython.core.display.Javascript object>", 
                        "application/javascript": "\n                    $(\"#pm_label3479dc85\").text(\"Downloaded 2031616 of 3411524 bytes\");\n                    $(\"#pm_progress3479dc85\").attr(\"value\", 59.55);\n                "
                    }
                }, 
                {
                    "metadata": {}, 
                    "output_type": "display_data", 
                    "data": {
                        "text/plain": "<IPython.core.display.Javascript object>", 
                        "application/javascript": "\n                    $(\"#pm_label3479dc85\").text(\"Downloaded 2039808 of 3411524 bytes\");\n                    $(\"#pm_progress3479dc85\").attr(\"value\", 59.79);\n                "
                    }
                }, 
                {
                    "metadata": {}, 
                    "output_type": "display_data", 
                    "data": {
                        "text/plain": "<IPython.core.display.Javascript object>", 
                        "application/javascript": "\n                    $(\"#pm_label3479dc85\").text(\"Downloaded 2048000 of 3411524 bytes\");\n                    $(\"#pm_progress3479dc85\").attr(\"value\", 60.03);\n                "
                    }
                }, 
                {
                    "metadata": {}, 
                    "output_type": "display_data", 
                    "data": {
                        "text/plain": "<IPython.core.display.Javascript object>", 
                        "application/javascript": "\n                    $(\"#pm_label3479dc85\").text(\"Downloaded 2056192 of 3411524 bytes\");\n                    $(\"#pm_progress3479dc85\").attr(\"value\", 60.27);\n                "
                    }
                }, 
                {
                    "metadata": {}, 
                    "output_type": "display_data", 
                    "data": {
                        "text/plain": "<IPython.core.display.Javascript object>", 
                        "application/javascript": "\n                    $(\"#pm_label3479dc85\").text(\"Downloaded 2064384 of 3411524 bytes\");\n                    $(\"#pm_progress3479dc85\").attr(\"value\", 60.51);\n                "
                    }
                }, 
                {
                    "metadata": {}, 
                    "output_type": "display_data", 
                    "data": {
                        "text/plain": "<IPython.core.display.Javascript object>", 
                        "application/javascript": "\n                    $(\"#pm_label3479dc85\").text(\"Downloaded 2072576 of 3411524 bytes\");\n                    $(\"#pm_progress3479dc85\").attr(\"value\", 60.75);\n                "
                    }
                }, 
                {
                    "metadata": {}, 
                    "output_type": "display_data", 
                    "data": {
                        "text/plain": "<IPython.core.display.Javascript object>", 
                        "application/javascript": "\n                    $(\"#pm_label3479dc85\").text(\"Downloaded 2080768 of 3411524 bytes\");\n                    $(\"#pm_progress3479dc85\").attr(\"value\", 60.99);\n                "
                    }
                }, 
                {
                    "metadata": {}, 
                    "output_type": "display_data", 
                    "data": {
                        "text/plain": "<IPython.core.display.Javascript object>", 
                        "application/javascript": "\n                    $(\"#pm_label3479dc85\").text(\"Downloaded 2088960 of 3411524 bytes\");\n                    $(\"#pm_progress3479dc85\").attr(\"value\", 61.23);\n                "
                    }
                }, 
                {
                    "metadata": {}, 
                    "output_type": "display_data", 
                    "data": {
                        "text/plain": "<IPython.core.display.Javascript object>", 
                        "application/javascript": "\n                    $(\"#pm_label3479dc85\").text(\"Downloaded 2097152 of 3411524 bytes\");\n                    $(\"#pm_progress3479dc85\").attr(\"value\", 61.47);\n                "
                    }
                }, 
                {
                    "metadata": {}, 
                    "output_type": "display_data", 
                    "data": {
                        "text/plain": "<IPython.core.display.Javascript object>", 
                        "application/javascript": "\n                    $(\"#pm_label3479dc85\").text(\"Downloaded 2105344 of 3411524 bytes\");\n                    $(\"#pm_progress3479dc85\").attr(\"value\", 61.71);\n                "
                    }
                }, 
                {
                    "metadata": {}, 
                    "output_type": "display_data", 
                    "data": {
                        "text/plain": "<IPython.core.display.Javascript object>", 
                        "application/javascript": "\n                    $(\"#pm_label3479dc85\").text(\"Downloaded 2113536 of 3411524 bytes\");\n                    $(\"#pm_progress3479dc85\").attr(\"value\", 61.95);\n                "
                    }
                }, 
                {
                    "metadata": {}, 
                    "output_type": "display_data", 
                    "data": {
                        "text/plain": "<IPython.core.display.Javascript object>", 
                        "application/javascript": "\n                    $(\"#pm_label3479dc85\").text(\"Downloaded 2121728 of 3411524 bytes\");\n                    $(\"#pm_progress3479dc85\").attr(\"value\", 62.19);\n                "
                    }
                }, 
                {
                    "metadata": {}, 
                    "output_type": "display_data", 
                    "data": {
                        "text/plain": "<IPython.core.display.Javascript object>", 
                        "application/javascript": "\n                    $(\"#pm_label3479dc85\").text(\"Downloaded 2129920 of 3411524 bytes\");\n                    $(\"#pm_progress3479dc85\").attr(\"value\", 62.43);\n                "
                    }
                }, 
                {
                    "metadata": {}, 
                    "output_type": "display_data", 
                    "data": {
                        "text/plain": "<IPython.core.display.Javascript object>", 
                        "application/javascript": "\n                    $(\"#pm_label3479dc85\").text(\"Downloaded 2138112 of 3411524 bytes\");\n                    $(\"#pm_progress3479dc85\").attr(\"value\", 62.67);\n                "
                    }
                }, 
                {
                    "metadata": {}, 
                    "output_type": "display_data", 
                    "data": {
                        "text/plain": "<IPython.core.display.Javascript object>", 
                        "application/javascript": "\n                    $(\"#pm_label3479dc85\").text(\"Downloaded 2146304 of 3411524 bytes\");\n                    $(\"#pm_progress3479dc85\").attr(\"value\", 62.91);\n                "
                    }
                }, 
                {
                    "metadata": {}, 
                    "output_type": "display_data", 
                    "data": {
                        "text/plain": "<IPython.core.display.Javascript object>", 
                        "application/javascript": "\n                    $(\"#pm_label3479dc85\").text(\"Downloaded 2154496 of 3411524 bytes\");\n                    $(\"#pm_progress3479dc85\").attr(\"value\", 63.15);\n                "
                    }
                }, 
                {
                    "metadata": {}, 
                    "output_type": "display_data", 
                    "data": {
                        "text/plain": "<IPython.core.display.Javascript object>", 
                        "application/javascript": "\n                    $(\"#pm_label3479dc85\").text(\"Downloaded 2162688 of 3411524 bytes\");\n                    $(\"#pm_progress3479dc85\").attr(\"value\", 63.39);\n                "
                    }
                }, 
                {
                    "metadata": {}, 
                    "output_type": "display_data", 
                    "data": {
                        "text/plain": "<IPython.core.display.Javascript object>", 
                        "application/javascript": "\n                    $(\"#pm_label3479dc85\").text(\"Downloaded 2170880 of 3411524 bytes\");\n                    $(\"#pm_progress3479dc85\").attr(\"value\", 63.63);\n                "
                    }
                }, 
                {
                    "metadata": {}, 
                    "output_type": "display_data", 
                    "data": {
                        "text/plain": "<IPython.core.display.Javascript object>", 
                        "application/javascript": "\n                    $(\"#pm_label3479dc85\").text(\"Downloaded 2179072 of 3411524 bytes\");\n                    $(\"#pm_progress3479dc85\").attr(\"value\", 63.87);\n                "
                    }
                }, 
                {
                    "metadata": {}, 
                    "output_type": "display_data", 
                    "data": {
                        "text/plain": "<IPython.core.display.Javascript object>", 
                        "application/javascript": "\n                    $(\"#pm_label3479dc85\").text(\"Downloaded 2187264 of 3411524 bytes\");\n                    $(\"#pm_progress3479dc85\").attr(\"value\", 64.11);\n                "
                    }
                }, 
                {
                    "metadata": {}, 
                    "output_type": "display_data", 
                    "data": {
                        "text/plain": "<IPython.core.display.Javascript object>", 
                        "application/javascript": "\n                    $(\"#pm_label3479dc85\").text(\"Downloaded 2195456 of 3411524 bytes\");\n                    $(\"#pm_progress3479dc85\").attr(\"value\", 64.35);\n                "
                    }
                }, 
                {
                    "metadata": {}, 
                    "output_type": "display_data", 
                    "data": {
                        "text/plain": "<IPython.core.display.Javascript object>", 
                        "application/javascript": "\n                    $(\"#pm_label3479dc85\").text(\"Downloaded 2203648 of 3411524 bytes\");\n                    $(\"#pm_progress3479dc85\").attr(\"value\", 64.59);\n                "
                    }
                }, 
                {
                    "metadata": {}, 
                    "output_type": "display_data", 
                    "data": {
                        "text/plain": "<IPython.core.display.Javascript object>", 
                        "application/javascript": "\n                    $(\"#pm_label3479dc85\").text(\"Downloaded 2211840 of 3411524 bytes\");\n                    $(\"#pm_progress3479dc85\").attr(\"value\", 64.83);\n                "
                    }
                }, 
                {
                    "metadata": {}, 
                    "output_type": "display_data", 
                    "data": {
                        "text/plain": "<IPython.core.display.Javascript object>", 
                        "application/javascript": "\n                    $(\"#pm_label3479dc85\").text(\"Downloaded 2220032 of 3411524 bytes\");\n                    $(\"#pm_progress3479dc85\").attr(\"value\", 65.07);\n                "
                    }
                }, 
                {
                    "metadata": {}, 
                    "output_type": "display_data", 
                    "data": {
                        "text/plain": "<IPython.core.display.Javascript object>", 
                        "application/javascript": "\n                    $(\"#pm_label3479dc85\").text(\"Downloaded 2228224 of 3411524 bytes\");\n                    $(\"#pm_progress3479dc85\").attr(\"value\", 65.31);\n                "
                    }
                }, 
                {
                    "metadata": {}, 
                    "output_type": "display_data", 
                    "data": {
                        "text/plain": "<IPython.core.display.Javascript object>", 
                        "application/javascript": "\n                    $(\"#pm_label3479dc85\").text(\"Downloaded 2236416 of 3411524 bytes\");\n                    $(\"#pm_progress3479dc85\").attr(\"value\", 65.55);\n                "
                    }
                }, 
                {
                    "metadata": {}, 
                    "output_type": "display_data", 
                    "data": {
                        "text/plain": "<IPython.core.display.Javascript object>", 
                        "application/javascript": "\n                    $(\"#pm_label3479dc85\").text(\"Downloaded 2244608 of 3411524 bytes\");\n                    $(\"#pm_progress3479dc85\").attr(\"value\", 65.79);\n                "
                    }
                }, 
                {
                    "metadata": {}, 
                    "output_type": "display_data", 
                    "data": {
                        "text/plain": "<IPython.core.display.Javascript object>", 
                        "application/javascript": "\n                    $(\"#pm_label3479dc85\").text(\"Downloaded 2252800 of 3411524 bytes\");\n                    $(\"#pm_progress3479dc85\").attr(\"value\", 66.04);\n                "
                    }
                }, 
                {
                    "metadata": {}, 
                    "output_type": "display_data", 
                    "data": {
                        "text/plain": "<IPython.core.display.Javascript object>", 
                        "application/javascript": "\n                    $(\"#pm_label3479dc85\").text(\"Downloaded 2260992 of 3411524 bytes\");\n                    $(\"#pm_progress3479dc85\").attr(\"value\", 66.28);\n                "
                    }
                }, 
                {
                    "metadata": {}, 
                    "output_type": "display_data", 
                    "data": {
                        "text/plain": "<IPython.core.display.Javascript object>", 
                        "application/javascript": "\n                    $(\"#pm_label3479dc85\").text(\"Downloaded 2269184 of 3411524 bytes\");\n                    $(\"#pm_progress3479dc85\").attr(\"value\", 66.52);\n                "
                    }
                }, 
                {
                    "metadata": {}, 
                    "output_type": "display_data", 
                    "data": {
                        "text/plain": "<IPython.core.display.Javascript object>", 
                        "application/javascript": "\n                    $(\"#pm_label3479dc85\").text(\"Downloaded 2277376 of 3411524 bytes\");\n                    $(\"#pm_progress3479dc85\").attr(\"value\", 66.76);\n                "
                    }
                }, 
                {
                    "metadata": {}, 
                    "output_type": "display_data", 
                    "data": {
                        "text/plain": "<IPython.core.display.Javascript object>", 
                        "application/javascript": "\n                    $(\"#pm_label3479dc85\").text(\"Downloaded 2285568 of 3411524 bytes\");\n                    $(\"#pm_progress3479dc85\").attr(\"value\", 67.0);\n                "
                    }
                }, 
                {
                    "metadata": {}, 
                    "output_type": "display_data", 
                    "data": {
                        "text/plain": "<IPython.core.display.Javascript object>", 
                        "application/javascript": "\n                    $(\"#pm_label3479dc85\").text(\"Downloaded 2293760 of 3411524 bytes\");\n                    $(\"#pm_progress3479dc85\").attr(\"value\", 67.24);\n                "
                    }
                }, 
                {
                    "metadata": {}, 
                    "output_type": "display_data", 
                    "data": {
                        "text/plain": "<IPython.core.display.Javascript object>", 
                        "application/javascript": "\n                    $(\"#pm_label3479dc85\").text(\"Downloaded 2301952 of 3411524 bytes\");\n                    $(\"#pm_progress3479dc85\").attr(\"value\", 67.48);\n                "
                    }
                }, 
                {
                    "metadata": {}, 
                    "output_type": "display_data", 
                    "data": {
                        "text/plain": "<IPython.core.display.Javascript object>", 
                        "application/javascript": "\n                    $(\"#pm_label3479dc85\").text(\"Downloaded 2310144 of 3411524 bytes\");\n                    $(\"#pm_progress3479dc85\").attr(\"value\", 67.72);\n                "
                    }
                }, 
                {
                    "metadata": {}, 
                    "output_type": "display_data", 
                    "data": {
                        "text/plain": "<IPython.core.display.Javascript object>", 
                        "application/javascript": "\n                    $(\"#pm_label3479dc85\").text(\"Downloaded 2318336 of 3411524 bytes\");\n                    $(\"#pm_progress3479dc85\").attr(\"value\", 67.96);\n                "
                    }
                }, 
                {
                    "metadata": {}, 
                    "output_type": "display_data", 
                    "data": {
                        "text/plain": "<IPython.core.display.Javascript object>", 
                        "application/javascript": "\n                    $(\"#pm_label3479dc85\").text(\"Downloaded 2326528 of 3411524 bytes\");\n                    $(\"#pm_progress3479dc85\").attr(\"value\", 68.2);\n                "
                    }
                }, 
                {
                    "metadata": {}, 
                    "output_type": "display_data", 
                    "data": {
                        "text/plain": "<IPython.core.display.Javascript object>", 
                        "application/javascript": "\n                    $(\"#pm_label3479dc85\").text(\"Downloaded 2334720 of 3411524 bytes\");\n                    $(\"#pm_progress3479dc85\").attr(\"value\", 68.44);\n                "
                    }
                }, 
                {
                    "metadata": {}, 
                    "output_type": "display_data", 
                    "data": {
                        "text/plain": "<IPython.core.display.Javascript object>", 
                        "application/javascript": "\n                    $(\"#pm_label3479dc85\").text(\"Downloaded 2342912 of 3411524 bytes\");\n                    $(\"#pm_progress3479dc85\").attr(\"value\", 68.68);\n                "
                    }
                }, 
                {
                    "metadata": {}, 
                    "output_type": "display_data", 
                    "data": {
                        "text/plain": "<IPython.core.display.Javascript object>", 
                        "application/javascript": "\n                    $(\"#pm_label3479dc85\").text(\"Downloaded 2351104 of 3411524 bytes\");\n                    $(\"#pm_progress3479dc85\").attr(\"value\", 68.92);\n                "
                    }
                }, 
                {
                    "metadata": {}, 
                    "output_type": "display_data", 
                    "data": {
                        "text/plain": "<IPython.core.display.Javascript object>", 
                        "application/javascript": "\n                    $(\"#pm_label3479dc85\").text(\"Downloaded 2359296 of 3411524 bytes\");\n                    $(\"#pm_progress3479dc85\").attr(\"value\", 69.16);\n                "
                    }
                }, 
                {
                    "metadata": {}, 
                    "output_type": "display_data", 
                    "data": {
                        "text/plain": "<IPython.core.display.Javascript object>", 
                        "application/javascript": "\n                    $(\"#pm_label3479dc85\").text(\"Downloaded 2367488 of 3411524 bytes\");\n                    $(\"#pm_progress3479dc85\").attr(\"value\", 69.4);\n                "
                    }
                }, 
                {
                    "metadata": {}, 
                    "output_type": "display_data", 
                    "data": {
                        "text/plain": "<IPython.core.display.Javascript object>", 
                        "application/javascript": "\n                    $(\"#pm_label3479dc85\").text(\"Downloaded 2375680 of 3411524 bytes\");\n                    $(\"#pm_progress3479dc85\").attr(\"value\", 69.64);\n                "
                    }
                }, 
                {
                    "metadata": {}, 
                    "output_type": "display_data", 
                    "data": {
                        "text/plain": "<IPython.core.display.Javascript object>", 
                        "application/javascript": "\n                    $(\"#pm_label3479dc85\").text(\"Downloaded 2383872 of 3411524 bytes\");\n                    $(\"#pm_progress3479dc85\").attr(\"value\", 69.88);\n                "
                    }
                }, 
                {
                    "metadata": {}, 
                    "output_type": "display_data", 
                    "data": {
                        "text/plain": "<IPython.core.display.Javascript object>", 
                        "application/javascript": "\n                    $(\"#pm_label3479dc85\").text(\"Downloaded 2392064 of 3411524 bytes\");\n                    $(\"#pm_progress3479dc85\").attr(\"value\", 70.12);\n                "
                    }
                }, 
                {
                    "metadata": {}, 
                    "output_type": "display_data", 
                    "data": {
                        "text/plain": "<IPython.core.display.Javascript object>", 
                        "application/javascript": "\n                    $(\"#pm_label3479dc85\").text(\"Downloaded 2400256 of 3411524 bytes\");\n                    $(\"#pm_progress3479dc85\").attr(\"value\", 70.36);\n                "
                    }
                }, 
                {
                    "metadata": {}, 
                    "output_type": "display_data", 
                    "data": {
                        "text/plain": "<IPython.core.display.Javascript object>", 
                        "application/javascript": "\n                    $(\"#pm_label3479dc85\").text(\"Downloaded 2408448 of 3411524 bytes\");\n                    $(\"#pm_progress3479dc85\").attr(\"value\", 70.6);\n                "
                    }
                }, 
                {
                    "metadata": {}, 
                    "output_type": "display_data", 
                    "data": {
                        "text/plain": "<IPython.core.display.Javascript object>", 
                        "application/javascript": "\n                    $(\"#pm_label3479dc85\").text(\"Downloaded 2416640 of 3411524 bytes\");\n                    $(\"#pm_progress3479dc85\").attr(\"value\", 70.84);\n                "
                    }
                }, 
                {
                    "metadata": {}, 
                    "output_type": "display_data", 
                    "data": {
                        "text/plain": "<IPython.core.display.Javascript object>", 
                        "application/javascript": "\n                    $(\"#pm_label3479dc85\").text(\"Downloaded 2424832 of 3411524 bytes\");\n                    $(\"#pm_progress3479dc85\").attr(\"value\", 71.08);\n                "
                    }
                }, 
                {
                    "metadata": {}, 
                    "output_type": "display_data", 
                    "data": {
                        "text/plain": "<IPython.core.display.Javascript object>", 
                        "application/javascript": "\n                    $(\"#pm_label3479dc85\").text(\"Downloaded 2433024 of 3411524 bytes\");\n                    $(\"#pm_progress3479dc85\").attr(\"value\", 71.32);\n                "
                    }
                }, 
                {
                    "metadata": {}, 
                    "output_type": "display_data", 
                    "data": {
                        "text/plain": "<IPython.core.display.Javascript object>", 
                        "application/javascript": "\n                    $(\"#pm_label3479dc85\").text(\"Downloaded 2441216 of 3411524 bytes\");\n                    $(\"#pm_progress3479dc85\").attr(\"value\", 71.56);\n                "
                    }
                }, 
                {
                    "metadata": {}, 
                    "output_type": "display_data", 
                    "data": {
                        "text/plain": "<IPython.core.display.Javascript object>", 
                        "application/javascript": "\n                    $(\"#pm_label3479dc85\").text(\"Downloaded 2449408 of 3411524 bytes\");\n                    $(\"#pm_progress3479dc85\").attr(\"value\", 71.8);\n                "
                    }
                }, 
                {
                    "metadata": {}, 
                    "output_type": "display_data", 
                    "data": {
                        "text/plain": "<IPython.core.display.Javascript object>", 
                        "application/javascript": "\n                    $(\"#pm_label3479dc85\").text(\"Downloaded 2457600 of 3411524 bytes\");\n                    $(\"#pm_progress3479dc85\").attr(\"value\", 72.04);\n                "
                    }
                }, 
                {
                    "metadata": {}, 
                    "output_type": "display_data", 
                    "data": {
                        "text/plain": "<IPython.core.display.Javascript object>", 
                        "application/javascript": "\n                    $(\"#pm_label3479dc85\").text(\"Downloaded 2465792 of 3411524 bytes\");\n                    $(\"#pm_progress3479dc85\").attr(\"value\", 72.28);\n                "
                    }
                }, 
                {
                    "metadata": {}, 
                    "output_type": "display_data", 
                    "data": {
                        "text/plain": "<IPython.core.display.Javascript object>", 
                        "application/javascript": "\n                    $(\"#pm_label3479dc85\").text(\"Downloaded 2473984 of 3411524 bytes\");\n                    $(\"#pm_progress3479dc85\").attr(\"value\", 72.52);\n                "
                    }
                }, 
                {
                    "metadata": {}, 
                    "output_type": "display_data", 
                    "data": {
                        "text/plain": "<IPython.core.display.Javascript object>", 
                        "application/javascript": "\n                    $(\"#pm_label3479dc85\").text(\"Downloaded 2482176 of 3411524 bytes\");\n                    $(\"#pm_progress3479dc85\").attr(\"value\", 72.76);\n                "
                    }
                }, 
                {
                    "metadata": {}, 
                    "output_type": "display_data", 
                    "data": {
                        "text/plain": "<IPython.core.display.Javascript object>", 
                        "application/javascript": "\n                    $(\"#pm_label3479dc85\").text(\"Downloaded 2490368 of 3411524 bytes\");\n                    $(\"#pm_progress3479dc85\").attr(\"value\", 73.0);\n                "
                    }
                }, 
                {
                    "metadata": {}, 
                    "output_type": "display_data", 
                    "data": {
                        "text/plain": "<IPython.core.display.Javascript object>", 
                        "application/javascript": "\n                    $(\"#pm_label3479dc85\").text(\"Downloaded 2498560 of 3411524 bytes\");\n                    $(\"#pm_progress3479dc85\").attr(\"value\", 73.24);\n                "
                    }
                }, 
                {
                    "metadata": {}, 
                    "output_type": "display_data", 
                    "data": {
                        "text/plain": "<IPython.core.display.Javascript object>", 
                        "application/javascript": "\n                    $(\"#pm_label3479dc85\").text(\"Downloaded 2506752 of 3411524 bytes\");\n                    $(\"#pm_progress3479dc85\").attr(\"value\", 73.48);\n                "
                    }
                }, 
                {
                    "metadata": {}, 
                    "output_type": "display_data", 
                    "data": {
                        "text/plain": "<IPython.core.display.Javascript object>", 
                        "application/javascript": "\n                    $(\"#pm_label3479dc85\").text(\"Downloaded 2514944 of 3411524 bytes\");\n                    $(\"#pm_progress3479dc85\").attr(\"value\", 73.72);\n                "
                    }
                }, 
                {
                    "metadata": {}, 
                    "output_type": "display_data", 
                    "data": {
                        "text/plain": "<IPython.core.display.Javascript object>", 
                        "application/javascript": "\n                    $(\"#pm_label3479dc85\").text(\"Downloaded 2523136 of 3411524 bytes\");\n                    $(\"#pm_progress3479dc85\").attr(\"value\", 73.96);\n                "
                    }
                }, 
                {
                    "metadata": {}, 
                    "output_type": "display_data", 
                    "data": {
                        "text/plain": "<IPython.core.display.Javascript object>", 
                        "application/javascript": "\n                    $(\"#pm_label3479dc85\").text(\"Downloaded 2531328 of 3411524 bytes\");\n                    $(\"#pm_progress3479dc85\").attr(\"value\", 74.2);\n                "
                    }
                }, 
                {
                    "metadata": {}, 
                    "output_type": "display_data", 
                    "data": {
                        "text/plain": "<IPython.core.display.Javascript object>", 
                        "application/javascript": "\n                    $(\"#pm_label3479dc85\").text(\"Downloaded 2539520 of 3411524 bytes\");\n                    $(\"#pm_progress3479dc85\").attr(\"value\", 74.44);\n                "
                    }
                }, 
                {
                    "metadata": {}, 
                    "output_type": "display_data", 
                    "data": {
                        "text/plain": "<IPython.core.display.Javascript object>", 
                        "application/javascript": "\n                    $(\"#pm_label3479dc85\").text(\"Downloaded 2547712 of 3411524 bytes\");\n                    $(\"#pm_progress3479dc85\").attr(\"value\", 74.68);\n                "
                    }
                }, 
                {
                    "metadata": {}, 
                    "output_type": "display_data", 
                    "data": {
                        "text/plain": "<IPython.core.display.Javascript object>", 
                        "application/javascript": "\n                    $(\"#pm_label3479dc85\").text(\"Downloaded 2555904 of 3411524 bytes\");\n                    $(\"#pm_progress3479dc85\").attr(\"value\", 74.92);\n                "
                    }
                }, 
                {
                    "metadata": {}, 
                    "output_type": "display_data", 
                    "data": {
                        "text/plain": "<IPython.core.display.Javascript object>", 
                        "application/javascript": "\n                    $(\"#pm_label3479dc85\").text(\"Downloaded 2564096 of 3411524 bytes\");\n                    $(\"#pm_progress3479dc85\").attr(\"value\", 75.16);\n                "
                    }
                }, 
                {
                    "metadata": {}, 
                    "output_type": "display_data", 
                    "data": {
                        "text/plain": "<IPython.core.display.Javascript object>", 
                        "application/javascript": "\n                    $(\"#pm_label3479dc85\").text(\"Downloaded 2572288 of 3411524 bytes\");\n                    $(\"#pm_progress3479dc85\").attr(\"value\", 75.4);\n                "
                    }
                }, 
                {
                    "metadata": {}, 
                    "output_type": "display_data", 
                    "data": {
                        "text/plain": "<IPython.core.display.Javascript object>", 
                        "application/javascript": "\n                    $(\"#pm_label3479dc85\").text(\"Downloaded 2580480 of 3411524 bytes\");\n                    $(\"#pm_progress3479dc85\").attr(\"value\", 75.64);\n                "
                    }
                }, 
                {
                    "metadata": {}, 
                    "output_type": "display_data", 
                    "data": {
                        "text/plain": "<IPython.core.display.Javascript object>", 
                        "application/javascript": "\n                    $(\"#pm_label3479dc85\").text(\"Downloaded 2588672 of 3411524 bytes\");\n                    $(\"#pm_progress3479dc85\").attr(\"value\", 75.88);\n                "
                    }
                }, 
                {
                    "metadata": {}, 
                    "output_type": "display_data", 
                    "data": {
                        "text/plain": "<IPython.core.display.Javascript object>", 
                        "application/javascript": "\n                    $(\"#pm_label3479dc85\").text(\"Downloaded 2596864 of 3411524 bytes\");\n                    $(\"#pm_progress3479dc85\").attr(\"value\", 76.12);\n                "
                    }
                }, 
                {
                    "metadata": {}, 
                    "output_type": "display_data", 
                    "data": {
                        "text/plain": "<IPython.core.display.Javascript object>", 
                        "application/javascript": "\n                    $(\"#pm_label3479dc85\").text(\"Downloaded 2605056 of 3411524 bytes\");\n                    $(\"#pm_progress3479dc85\").attr(\"value\", 76.36);\n                "
                    }
                }, 
                {
                    "metadata": {}, 
                    "output_type": "display_data", 
                    "data": {
                        "text/plain": "<IPython.core.display.Javascript object>", 
                        "application/javascript": "\n                    $(\"#pm_label3479dc85\").text(\"Downloaded 2613248 of 3411524 bytes\");\n                    $(\"#pm_progress3479dc85\").attr(\"value\", 76.6);\n                "
                    }
                }, 
                {
                    "metadata": {}, 
                    "output_type": "display_data", 
                    "data": {
                        "text/plain": "<IPython.core.display.Javascript object>", 
                        "application/javascript": "\n                    $(\"#pm_label3479dc85\").text(\"Downloaded 2621440 of 3411524 bytes\");\n                    $(\"#pm_progress3479dc85\").attr(\"value\", 76.84);\n                "
                    }
                }, 
                {
                    "metadata": {}, 
                    "output_type": "display_data", 
                    "data": {
                        "text/plain": "<IPython.core.display.Javascript object>", 
                        "application/javascript": "\n                    $(\"#pm_label3479dc85\").text(\"Downloaded 2629632 of 3411524 bytes\");\n                    $(\"#pm_progress3479dc85\").attr(\"value\", 77.08);\n                "
                    }
                }, 
                {
                    "metadata": {}, 
                    "output_type": "display_data", 
                    "data": {
                        "text/plain": "<IPython.core.display.Javascript object>", 
                        "application/javascript": "\n                    $(\"#pm_label3479dc85\").text(\"Downloaded 2637824 of 3411524 bytes\");\n                    $(\"#pm_progress3479dc85\").attr(\"value\", 77.32);\n                "
                    }
                }, 
                {
                    "metadata": {}, 
                    "output_type": "display_data", 
                    "data": {
                        "text/plain": "<IPython.core.display.Javascript object>", 
                        "application/javascript": "\n                    $(\"#pm_label3479dc85\").text(\"Downloaded 2646016 of 3411524 bytes\");\n                    $(\"#pm_progress3479dc85\").attr(\"value\", 77.56);\n                "
                    }
                }, 
                {
                    "metadata": {}, 
                    "output_type": "display_data", 
                    "data": {
                        "text/plain": "<IPython.core.display.Javascript object>", 
                        "application/javascript": "\n                    $(\"#pm_label3479dc85\").text(\"Downloaded 2654208 of 3411524 bytes\");\n                    $(\"#pm_progress3479dc85\").attr(\"value\", 77.8);\n                "
                    }
                }, 
                {
                    "metadata": {}, 
                    "output_type": "display_data", 
                    "data": {
                        "text/plain": "<IPython.core.display.Javascript object>", 
                        "application/javascript": "\n                    $(\"#pm_label3479dc85\").text(\"Downloaded 2662400 of 3411524 bytes\");\n                    $(\"#pm_progress3479dc85\").attr(\"value\", 78.04);\n                "
                    }
                }, 
                {
                    "metadata": {}, 
                    "output_type": "display_data", 
                    "data": {
                        "text/plain": "<IPython.core.display.Javascript object>", 
                        "application/javascript": "\n                    $(\"#pm_label3479dc85\").text(\"Downloaded 2670592 of 3411524 bytes\");\n                    $(\"#pm_progress3479dc85\").attr(\"value\", 78.28);\n                "
                    }
                }, 
                {
                    "metadata": {}, 
                    "output_type": "display_data", 
                    "data": {
                        "text/plain": "<IPython.core.display.Javascript object>", 
                        "application/javascript": "\n                    $(\"#pm_label3479dc85\").text(\"Downloaded 2678784 of 3411524 bytes\");\n                    $(\"#pm_progress3479dc85\").attr(\"value\", 78.52);\n                "
                    }
                }, 
                {
                    "metadata": {}, 
                    "output_type": "display_data", 
                    "data": {
                        "text/plain": "<IPython.core.display.Javascript object>", 
                        "application/javascript": "\n                    $(\"#pm_label3479dc85\").text(\"Downloaded 2686976 of 3411524 bytes\");\n                    $(\"#pm_progress3479dc85\").attr(\"value\", 78.76);\n                "
                    }
                }, 
                {
                    "metadata": {}, 
                    "output_type": "display_data", 
                    "data": {
                        "text/plain": "<IPython.core.display.Javascript object>", 
                        "application/javascript": "\n                    $(\"#pm_label3479dc85\").text(\"Downloaded 2695168 of 3411524 bytes\");\n                    $(\"#pm_progress3479dc85\").attr(\"value\", 79.0);\n                "
                    }
                }, 
                {
                    "metadata": {}, 
                    "output_type": "display_data", 
                    "data": {
                        "text/plain": "<IPython.core.display.Javascript object>", 
                        "application/javascript": "\n                    $(\"#pm_label3479dc85\").text(\"Downloaded 2703360 of 3411524 bytes\");\n                    $(\"#pm_progress3479dc85\").attr(\"value\", 79.24);\n                "
                    }
                }, 
                {
                    "metadata": {}, 
                    "output_type": "display_data", 
                    "data": {
                        "text/plain": "<IPython.core.display.Javascript object>", 
                        "application/javascript": "\n                    $(\"#pm_label3479dc85\").text(\"Downloaded 2711552 of 3411524 bytes\");\n                    $(\"#pm_progress3479dc85\").attr(\"value\", 79.48);\n                "
                    }
                }, 
                {
                    "metadata": {}, 
                    "output_type": "display_data", 
                    "data": {
                        "text/plain": "<IPython.core.display.Javascript object>", 
                        "application/javascript": "\n                    $(\"#pm_label3479dc85\").text(\"Downloaded 2719744 of 3411524 bytes\");\n                    $(\"#pm_progress3479dc85\").attr(\"value\", 79.72);\n                "
                    }
                }, 
                {
                    "metadata": {}, 
                    "output_type": "display_data", 
                    "data": {
                        "text/plain": "<IPython.core.display.Javascript object>", 
                        "application/javascript": "\n                    $(\"#pm_label3479dc85\").text(\"Downloaded 2727936 of 3411524 bytes\");\n                    $(\"#pm_progress3479dc85\").attr(\"value\", 79.96);\n                "
                    }
                }, 
                {
                    "metadata": {}, 
                    "output_type": "display_data", 
                    "data": {
                        "text/plain": "<IPython.core.display.Javascript object>", 
                        "application/javascript": "\n                    $(\"#pm_label3479dc85\").text(\"Downloaded 2736128 of 3411524 bytes\");\n                    $(\"#pm_progress3479dc85\").attr(\"value\", 80.2);\n                "
                    }
                }, 
                {
                    "metadata": {}, 
                    "output_type": "display_data", 
                    "data": {
                        "text/plain": "<IPython.core.display.Javascript object>", 
                        "application/javascript": "\n                    $(\"#pm_label3479dc85\").text(\"Downloaded 2744320 of 3411524 bytes\");\n                    $(\"#pm_progress3479dc85\").attr(\"value\", 80.44);\n                "
                    }
                }, 
                {
                    "metadata": {}, 
                    "output_type": "display_data", 
                    "data": {
                        "text/plain": "<IPython.core.display.Javascript object>", 
                        "application/javascript": "\n                    $(\"#pm_label3479dc85\").text(\"Downloaded 2752512 of 3411524 bytes\");\n                    $(\"#pm_progress3479dc85\").attr(\"value\", 80.68);\n                "
                    }
                }, 
                {
                    "metadata": {}, 
                    "output_type": "display_data", 
                    "data": {
                        "text/plain": "<IPython.core.display.Javascript object>", 
                        "application/javascript": "\n                    $(\"#pm_label3479dc85\").text(\"Downloaded 2760704 of 3411524 bytes\");\n                    $(\"#pm_progress3479dc85\").attr(\"value\", 80.92);\n                "
                    }
                }, 
                {
                    "metadata": {}, 
                    "output_type": "display_data", 
                    "data": {
                        "text/plain": "<IPython.core.display.Javascript object>", 
                        "application/javascript": "\n                    $(\"#pm_label3479dc85\").text(\"Downloaded 2768896 of 3411524 bytes\");\n                    $(\"#pm_progress3479dc85\").attr(\"value\", 81.16);\n                "
                    }
                }, 
                {
                    "metadata": {}, 
                    "output_type": "display_data", 
                    "data": {
                        "text/plain": "<IPython.core.display.Javascript object>", 
                        "application/javascript": "\n                    $(\"#pm_label3479dc85\").text(\"Downloaded 2777088 of 3411524 bytes\");\n                    $(\"#pm_progress3479dc85\").attr(\"value\", 81.4);\n                "
                    }
                }, 
                {
                    "metadata": {}, 
                    "output_type": "display_data", 
                    "data": {
                        "text/plain": "<IPython.core.display.Javascript object>", 
                        "application/javascript": "\n                    $(\"#pm_label3479dc85\").text(\"Downloaded 2785280 of 3411524 bytes\");\n                    $(\"#pm_progress3479dc85\").attr(\"value\", 81.64);\n                "
                    }
                }, 
                {
                    "metadata": {}, 
                    "output_type": "display_data", 
                    "data": {
                        "text/plain": "<IPython.core.display.Javascript object>", 
                        "application/javascript": "\n                    $(\"#pm_label3479dc85\").text(\"Downloaded 2793472 of 3411524 bytes\");\n                    $(\"#pm_progress3479dc85\").attr(\"value\", 81.88);\n                "
                    }
                }, 
                {
                    "metadata": {}, 
                    "output_type": "display_data", 
                    "data": {
                        "text/plain": "<IPython.core.display.Javascript object>", 
                        "application/javascript": "\n                    $(\"#pm_label3479dc85\").text(\"Downloaded 2801664 of 3411524 bytes\");\n                    $(\"#pm_progress3479dc85\").attr(\"value\", 82.12);\n                "
                    }
                }, 
                {
                    "metadata": {}, 
                    "output_type": "display_data", 
                    "data": {
                        "text/plain": "<IPython.core.display.Javascript object>", 
                        "application/javascript": "\n                    $(\"#pm_label3479dc85\").text(\"Downloaded 2809856 of 3411524 bytes\");\n                    $(\"#pm_progress3479dc85\").attr(\"value\", 82.36);\n                "
                    }
                }, 
                {
                    "metadata": {}, 
                    "output_type": "display_data", 
                    "data": {
                        "text/plain": "<IPython.core.display.Javascript object>", 
                        "application/javascript": "\n                    $(\"#pm_label3479dc85\").text(\"Downloaded 2818048 of 3411524 bytes\");\n                    $(\"#pm_progress3479dc85\").attr(\"value\", 82.6);\n                "
                    }
                }, 
                {
                    "metadata": {}, 
                    "output_type": "display_data", 
                    "data": {
                        "text/plain": "<IPython.core.display.Javascript object>", 
                        "application/javascript": "\n                    $(\"#pm_label3479dc85\").text(\"Downloaded 2826240 of 3411524 bytes\");\n                    $(\"#pm_progress3479dc85\").attr(\"value\", 82.84);\n                "
                    }
                }, 
                {
                    "metadata": {}, 
                    "output_type": "display_data", 
                    "data": {
                        "text/plain": "<IPython.core.display.Javascript object>", 
                        "application/javascript": "\n                    $(\"#pm_label3479dc85\").text(\"Downloaded 2834432 of 3411524 bytes\");\n                    $(\"#pm_progress3479dc85\").attr(\"value\", 83.08);\n                "
                    }
                }, 
                {
                    "metadata": {}, 
                    "output_type": "display_data", 
                    "data": {
                        "text/plain": "<IPython.core.display.Javascript object>", 
                        "application/javascript": "\n                    $(\"#pm_label3479dc85\").text(\"Downloaded 2842624 of 3411524 bytes\");\n                    $(\"#pm_progress3479dc85\").attr(\"value\", 83.32);\n                "
                    }
                }, 
                {
                    "metadata": {}, 
                    "output_type": "display_data", 
                    "data": {
                        "text/plain": "<IPython.core.display.Javascript object>", 
                        "application/javascript": "\n                    $(\"#pm_label3479dc85\").text(\"Downloaded 2850816 of 3411524 bytes\");\n                    $(\"#pm_progress3479dc85\").attr(\"value\", 83.56);\n                "
                    }
                }, 
                {
                    "metadata": {}, 
                    "output_type": "display_data", 
                    "data": {
                        "text/plain": "<IPython.core.display.Javascript object>", 
                        "application/javascript": "\n                    $(\"#pm_label3479dc85\").text(\"Downloaded 2859008 of 3411524 bytes\");\n                    $(\"#pm_progress3479dc85\").attr(\"value\", 83.8);\n                "
                    }
                }, 
                {
                    "metadata": {}, 
                    "output_type": "display_data", 
                    "data": {
                        "text/plain": "<IPython.core.display.Javascript object>", 
                        "application/javascript": "\n                    $(\"#pm_label3479dc85\").text(\"Downloaded 2867200 of 3411524 bytes\");\n                    $(\"#pm_progress3479dc85\").attr(\"value\", 84.04);\n                "
                    }
                }, 
                {
                    "metadata": {}, 
                    "output_type": "display_data", 
                    "data": {
                        "text/plain": "<IPython.core.display.Javascript object>", 
                        "application/javascript": "\n                    $(\"#pm_label3479dc85\").text(\"Downloaded 2875392 of 3411524 bytes\");\n                    $(\"#pm_progress3479dc85\").attr(\"value\", 84.28);\n                "
                    }
                }, 
                {
                    "metadata": {}, 
                    "output_type": "display_data", 
                    "data": {
                        "text/plain": "<IPython.core.display.Javascript object>", 
                        "application/javascript": "\n                    $(\"#pm_label3479dc85\").text(\"Downloaded 2883584 of 3411524 bytes\");\n                    $(\"#pm_progress3479dc85\").attr(\"value\", 84.52);\n                "
                    }
                }, 
                {
                    "metadata": {}, 
                    "output_type": "display_data", 
                    "data": {
                        "text/plain": "<IPython.core.display.Javascript object>", 
                        "application/javascript": "\n                    $(\"#pm_label3479dc85\").text(\"Downloaded 2891776 of 3411524 bytes\");\n                    $(\"#pm_progress3479dc85\").attr(\"value\", 84.76);\n                "
                    }
                }, 
                {
                    "metadata": {}, 
                    "output_type": "display_data", 
                    "data": {
                        "text/plain": "<IPython.core.display.Javascript object>", 
                        "application/javascript": "\n                    $(\"#pm_label3479dc85\").text(\"Downloaded 2899968 of 3411524 bytes\");\n                    $(\"#pm_progress3479dc85\").attr(\"value\", 85.01);\n                "
                    }
                }, 
                {
                    "metadata": {}, 
                    "output_type": "display_data", 
                    "data": {
                        "text/plain": "<IPython.core.display.Javascript object>", 
                        "application/javascript": "\n                    $(\"#pm_label3479dc85\").text(\"Downloaded 2908160 of 3411524 bytes\");\n                    $(\"#pm_progress3479dc85\").attr(\"value\", 85.25);\n                "
                    }
                }, 
                {
                    "metadata": {}, 
                    "output_type": "display_data", 
                    "data": {
                        "text/plain": "<IPython.core.display.Javascript object>", 
                        "application/javascript": "\n                    $(\"#pm_label3479dc85\").text(\"Downloaded 2916352 of 3411524 bytes\");\n                    $(\"#pm_progress3479dc85\").attr(\"value\", 85.49);\n                "
                    }
                }, 
                {
                    "metadata": {}, 
                    "output_type": "display_data", 
                    "data": {
                        "text/plain": "<IPython.core.display.Javascript object>", 
                        "application/javascript": "\n                    $(\"#pm_label3479dc85\").text(\"Downloaded 2924544 of 3411524 bytes\");\n                    $(\"#pm_progress3479dc85\").attr(\"value\", 85.73);\n                "
                    }
                }, 
                {
                    "metadata": {}, 
                    "output_type": "display_data", 
                    "data": {
                        "text/plain": "<IPython.core.display.Javascript object>", 
                        "application/javascript": "\n                    $(\"#pm_label3479dc85\").text(\"Downloaded 2932736 of 3411524 bytes\");\n                    $(\"#pm_progress3479dc85\").attr(\"value\", 85.97);\n                "
                    }
                }, 
                {
                    "metadata": {}, 
                    "output_type": "display_data", 
                    "data": {
                        "text/plain": "<IPython.core.display.Javascript object>", 
                        "application/javascript": "\n                    $(\"#pm_label3479dc85\").text(\"Downloaded 2940928 of 3411524 bytes\");\n                    $(\"#pm_progress3479dc85\").attr(\"value\", 86.21);\n                "
                    }
                }, 
                {
                    "metadata": {}, 
                    "output_type": "display_data", 
                    "data": {
                        "text/plain": "<IPython.core.display.Javascript object>", 
                        "application/javascript": "\n                    $(\"#pm_label3479dc85\").text(\"Downloaded 2949120 of 3411524 bytes\");\n                    $(\"#pm_progress3479dc85\").attr(\"value\", 86.45);\n                "
                    }
                }, 
                {
                    "metadata": {}, 
                    "output_type": "display_data", 
                    "data": {
                        "text/plain": "<IPython.core.display.Javascript object>", 
                        "application/javascript": "\n                    $(\"#pm_label3479dc85\").text(\"Downloaded 2957312 of 3411524 bytes\");\n                    $(\"#pm_progress3479dc85\").attr(\"value\", 86.69);\n                "
                    }
                }, 
                {
                    "metadata": {}, 
                    "output_type": "display_data", 
                    "data": {
                        "text/plain": "<IPython.core.display.Javascript object>", 
                        "application/javascript": "\n                    $(\"#pm_label3479dc85\").text(\"Downloaded 2965504 of 3411524 bytes\");\n                    $(\"#pm_progress3479dc85\").attr(\"value\", 86.93);\n                "
                    }
                }, 
                {
                    "metadata": {}, 
                    "output_type": "display_data", 
                    "data": {
                        "text/plain": "<IPython.core.display.Javascript object>", 
                        "application/javascript": "\n                    $(\"#pm_label3479dc85\").text(\"Downloaded 2973696 of 3411524 bytes\");\n                    $(\"#pm_progress3479dc85\").attr(\"value\", 87.17);\n                "
                    }
                }, 
                {
                    "metadata": {}, 
                    "output_type": "display_data", 
                    "data": {
                        "text/plain": "<IPython.core.display.Javascript object>", 
                        "application/javascript": "\n                    $(\"#pm_label3479dc85\").text(\"Downloaded 2981888 of 3411524 bytes\");\n                    $(\"#pm_progress3479dc85\").attr(\"value\", 87.41);\n                "
                    }
                }, 
                {
                    "metadata": {}, 
                    "output_type": "display_data", 
                    "data": {
                        "text/plain": "<IPython.core.display.Javascript object>", 
                        "application/javascript": "\n                    $(\"#pm_label3479dc85\").text(\"Downloaded 2990080 of 3411524 bytes\");\n                    $(\"#pm_progress3479dc85\").attr(\"value\", 87.65);\n                "
                    }
                }, 
                {
                    "metadata": {}, 
                    "output_type": "display_data", 
                    "data": {
                        "text/plain": "<IPython.core.display.Javascript object>", 
                        "application/javascript": "\n                    $(\"#pm_label3479dc85\").text(\"Downloaded 2998272 of 3411524 bytes\");\n                    $(\"#pm_progress3479dc85\").attr(\"value\", 87.89);\n                "
                    }
                }, 
                {
                    "metadata": {}, 
                    "output_type": "display_data", 
                    "data": {
                        "text/plain": "<IPython.core.display.Javascript object>", 
                        "application/javascript": "\n                    $(\"#pm_label3479dc85\").text(\"Downloaded 3006464 of 3411524 bytes\");\n                    $(\"#pm_progress3479dc85\").attr(\"value\", 88.13);\n                "
                    }
                }, 
                {
                    "metadata": {}, 
                    "output_type": "display_data", 
                    "data": {
                        "text/plain": "<IPython.core.display.Javascript object>", 
                        "application/javascript": "\n                    $(\"#pm_label3479dc85\").text(\"Downloaded 3014656 of 3411524 bytes\");\n                    $(\"#pm_progress3479dc85\").attr(\"value\", 88.37);\n                "
                    }
                }, 
                {
                    "metadata": {}, 
                    "output_type": "display_data", 
                    "data": {
                        "text/plain": "<IPython.core.display.Javascript object>", 
                        "application/javascript": "\n                    $(\"#pm_label3479dc85\").text(\"Downloaded 3022848 of 3411524 bytes\");\n                    $(\"#pm_progress3479dc85\").attr(\"value\", 88.61);\n                "
                    }
                }, 
                {
                    "metadata": {}, 
                    "output_type": "display_data", 
                    "data": {
                        "text/plain": "<IPython.core.display.Javascript object>", 
                        "application/javascript": "\n                    $(\"#pm_label3479dc85\").text(\"Downloaded 3031040 of 3411524 bytes\");\n                    $(\"#pm_progress3479dc85\").attr(\"value\", 88.85);\n                "
                    }
                }, 
                {
                    "metadata": {}, 
                    "output_type": "display_data", 
                    "data": {
                        "text/plain": "<IPython.core.display.Javascript object>", 
                        "application/javascript": "\n                    $(\"#pm_label3479dc85\").text(\"Downloaded 3039232 of 3411524 bytes\");\n                    $(\"#pm_progress3479dc85\").attr(\"value\", 89.09);\n                "
                    }
                }, 
                {
                    "metadata": {}, 
                    "output_type": "display_data", 
                    "data": {
                        "text/plain": "<IPython.core.display.Javascript object>", 
                        "application/javascript": "\n                    $(\"#pm_label3479dc85\").text(\"Downloaded 3047424 of 3411524 bytes\");\n                    $(\"#pm_progress3479dc85\").attr(\"value\", 89.33);\n                "
                    }
                }, 
                {
                    "metadata": {}, 
                    "output_type": "display_data", 
                    "data": {
                        "text/plain": "<IPython.core.display.Javascript object>", 
                        "application/javascript": "\n                    $(\"#pm_label3479dc85\").text(\"Downloaded 3055616 of 3411524 bytes\");\n                    $(\"#pm_progress3479dc85\").attr(\"value\", 89.57);\n                "
                    }
                }, 
                {
                    "metadata": {}, 
                    "output_type": "display_data", 
                    "data": {
                        "text/plain": "<IPython.core.display.Javascript object>", 
                        "application/javascript": "\n                    $(\"#pm_label3479dc85\").text(\"Downloaded 3063808 of 3411524 bytes\");\n                    $(\"#pm_progress3479dc85\").attr(\"value\", 89.81);\n                "
                    }
                }, 
                {
                    "metadata": {}, 
                    "output_type": "display_data", 
                    "data": {
                        "text/plain": "<IPython.core.display.Javascript object>", 
                        "application/javascript": "\n                    $(\"#pm_label3479dc85\").text(\"Downloaded 3072000 of 3411524 bytes\");\n                    $(\"#pm_progress3479dc85\").attr(\"value\", 90.05);\n                "
                    }
                }, 
                {
                    "metadata": {}, 
                    "output_type": "display_data", 
                    "data": {
                        "text/plain": "<IPython.core.display.Javascript object>", 
                        "application/javascript": "\n                    $(\"#pm_label3479dc85\").text(\"Downloaded 3080192 of 3411524 bytes\");\n                    $(\"#pm_progress3479dc85\").attr(\"value\", 90.29);\n                "
                    }
                }, 
                {
                    "metadata": {}, 
                    "output_type": "display_data", 
                    "data": {
                        "text/plain": "<IPython.core.display.Javascript object>", 
                        "application/javascript": "\n                    $(\"#pm_label3479dc85\").text(\"Downloaded 3088384 of 3411524 bytes\");\n                    $(\"#pm_progress3479dc85\").attr(\"value\", 90.53);\n                "
                    }
                }, 
                {
                    "metadata": {}, 
                    "output_type": "display_data", 
                    "data": {
                        "text/plain": "<IPython.core.display.Javascript object>", 
                        "application/javascript": "\n                    $(\"#pm_label3479dc85\").text(\"Downloaded 3096576 of 3411524 bytes\");\n                    $(\"#pm_progress3479dc85\").attr(\"value\", 90.77);\n                "
                    }
                }, 
                {
                    "metadata": {}, 
                    "output_type": "display_data", 
                    "data": {
                        "text/plain": "<IPython.core.display.Javascript object>", 
                        "application/javascript": "\n                    $(\"#pm_label3479dc85\").text(\"Downloaded 3104768 of 3411524 bytes\");\n                    $(\"#pm_progress3479dc85\").attr(\"value\", 91.01);\n                "
                    }
                }, 
                {
                    "metadata": {}, 
                    "output_type": "display_data", 
                    "data": {
                        "text/plain": "<IPython.core.display.Javascript object>", 
                        "application/javascript": "\n                    $(\"#pm_label3479dc85\").text(\"Downloaded 3112960 of 3411524 bytes\");\n                    $(\"#pm_progress3479dc85\").attr(\"value\", 91.25);\n                "
                    }
                }, 
                {
                    "metadata": {}, 
                    "output_type": "display_data", 
                    "data": {
                        "text/plain": "<IPython.core.display.Javascript object>", 
                        "application/javascript": "\n                    $(\"#pm_label3479dc85\").text(\"Downloaded 3121152 of 3411524 bytes\");\n                    $(\"#pm_progress3479dc85\").attr(\"value\", 91.49);\n                "
                    }
                }, 
                {
                    "metadata": {}, 
                    "output_type": "display_data", 
                    "data": {
                        "text/plain": "<IPython.core.display.Javascript object>", 
                        "application/javascript": "\n                    $(\"#pm_label3479dc85\").text(\"Downloaded 3129344 of 3411524 bytes\");\n                    $(\"#pm_progress3479dc85\").attr(\"value\", 91.73);\n                "
                    }
                }, 
                {
                    "metadata": {}, 
                    "output_type": "display_data", 
                    "data": {
                        "text/plain": "<IPython.core.display.Javascript object>", 
                        "application/javascript": "\n                    $(\"#pm_label3479dc85\").text(\"Downloaded 3137536 of 3411524 bytes\");\n                    $(\"#pm_progress3479dc85\").attr(\"value\", 91.97);\n                "
                    }
                }, 
                {
                    "metadata": {}, 
                    "output_type": "display_data", 
                    "data": {
                        "text/plain": "<IPython.core.display.Javascript object>", 
                        "application/javascript": "\n                    $(\"#pm_label3479dc85\").text(\"Downloaded 3145728 of 3411524 bytes\");\n                    $(\"#pm_progress3479dc85\").attr(\"value\", 92.21);\n                "
                    }
                }, 
                {
                    "metadata": {}, 
                    "output_type": "display_data", 
                    "data": {
                        "text/plain": "<IPython.core.display.Javascript object>", 
                        "application/javascript": "\n                    $(\"#pm_label3479dc85\").text(\"Downloaded 3153920 of 3411524 bytes\");\n                    $(\"#pm_progress3479dc85\").attr(\"value\", 92.45);\n                "
                    }
                }, 
                {
                    "metadata": {}, 
                    "output_type": "display_data", 
                    "data": {
                        "text/plain": "<IPython.core.display.Javascript object>", 
                        "application/javascript": "\n                    $(\"#pm_label3479dc85\").text(\"Downloaded 3162112 of 3411524 bytes\");\n                    $(\"#pm_progress3479dc85\").attr(\"value\", 92.69);\n                "
                    }
                }, 
                {
                    "metadata": {}, 
                    "output_type": "display_data", 
                    "data": {
                        "text/plain": "<IPython.core.display.Javascript object>", 
                        "application/javascript": "\n                    $(\"#pm_label3479dc85\").text(\"Downloaded 3170304 of 3411524 bytes\");\n                    $(\"#pm_progress3479dc85\").attr(\"value\", 92.93);\n                "
                    }
                }, 
                {
                    "metadata": {}, 
                    "output_type": "display_data", 
                    "data": {
                        "text/plain": "<IPython.core.display.Javascript object>", 
                        "application/javascript": "\n                    $(\"#pm_label3479dc85\").text(\"Downloaded 3178496 of 3411524 bytes\");\n                    $(\"#pm_progress3479dc85\").attr(\"value\", 93.17);\n                "
                    }
                }, 
                {
                    "metadata": {}, 
                    "output_type": "display_data", 
                    "data": {
                        "text/plain": "<IPython.core.display.Javascript object>", 
                        "application/javascript": "\n                    $(\"#pm_label3479dc85\").text(\"Downloaded 3186688 of 3411524 bytes\");\n                    $(\"#pm_progress3479dc85\").attr(\"value\", 93.41);\n                "
                    }
                }, 
                {
                    "metadata": {}, 
                    "output_type": "display_data", 
                    "data": {
                        "text/plain": "<IPython.core.display.Javascript object>", 
                        "application/javascript": "\n                    $(\"#pm_label3479dc85\").text(\"Downloaded 3194880 of 3411524 bytes\");\n                    $(\"#pm_progress3479dc85\").attr(\"value\", 93.65);\n                "
                    }
                }, 
                {
                    "metadata": {}, 
                    "output_type": "display_data", 
                    "data": {
                        "text/plain": "<IPython.core.display.Javascript object>", 
                        "application/javascript": "\n                    $(\"#pm_label3479dc85\").text(\"Downloaded 3203072 of 3411524 bytes\");\n                    $(\"#pm_progress3479dc85\").attr(\"value\", 93.89);\n                "
                    }
                }, 
                {
                    "metadata": {}, 
                    "output_type": "display_data", 
                    "data": {
                        "text/plain": "<IPython.core.display.Javascript object>", 
                        "application/javascript": "\n                    $(\"#pm_label3479dc85\").text(\"Downloaded 3211264 of 3411524 bytes\");\n                    $(\"#pm_progress3479dc85\").attr(\"value\", 94.13);\n                "
                    }
                }, 
                {
                    "metadata": {}, 
                    "output_type": "display_data", 
                    "data": {
                        "text/plain": "<IPython.core.display.Javascript object>", 
                        "application/javascript": "\n                    $(\"#pm_label3479dc85\").text(\"Downloaded 3219456 of 3411524 bytes\");\n                    $(\"#pm_progress3479dc85\").attr(\"value\", 94.37);\n                "
                    }
                }, 
                {
                    "metadata": {}, 
                    "output_type": "display_data", 
                    "data": {
                        "text/plain": "<IPython.core.display.Javascript object>", 
                        "application/javascript": "\n                    $(\"#pm_label3479dc85\").text(\"Downloaded 3227648 of 3411524 bytes\");\n                    $(\"#pm_progress3479dc85\").attr(\"value\", 94.61);\n                "
                    }
                }, 
                {
                    "metadata": {}, 
                    "output_type": "display_data", 
                    "data": {
                        "text/plain": "<IPython.core.display.Javascript object>", 
                        "application/javascript": "\n                    $(\"#pm_label3479dc85\").text(\"Downloaded 3235840 of 3411524 bytes\");\n                    $(\"#pm_progress3479dc85\").attr(\"value\", 94.85);\n                "
                    }
                }, 
                {
                    "metadata": {}, 
                    "output_type": "display_data", 
                    "data": {
                        "text/plain": "<IPython.core.display.Javascript object>", 
                        "application/javascript": "\n                    $(\"#pm_label3479dc85\").text(\"Downloaded 3244032 of 3411524 bytes\");\n                    $(\"#pm_progress3479dc85\").attr(\"value\", 95.09);\n                "
                    }
                }, 
                {
                    "metadata": {}, 
                    "output_type": "display_data", 
                    "data": {
                        "text/plain": "<IPython.core.display.Javascript object>", 
                        "application/javascript": "\n                    $(\"#pm_label3479dc85\").text(\"Downloaded 3252224 of 3411524 bytes\");\n                    $(\"#pm_progress3479dc85\").attr(\"value\", 95.33);\n                "
                    }
                }, 
                {
                    "metadata": {}, 
                    "output_type": "display_data", 
                    "data": {
                        "text/plain": "<IPython.core.display.Javascript object>", 
                        "application/javascript": "\n                    $(\"#pm_label3479dc85\").text(\"Downloaded 3260416 of 3411524 bytes\");\n                    $(\"#pm_progress3479dc85\").attr(\"value\", 95.57);\n                "
                    }
                }, 
                {
                    "metadata": {}, 
                    "output_type": "display_data", 
                    "data": {
                        "text/plain": "<IPython.core.display.Javascript object>", 
                        "application/javascript": "\n                    $(\"#pm_label3479dc85\").text(\"Downloaded 3268608 of 3411524 bytes\");\n                    $(\"#pm_progress3479dc85\").attr(\"value\", 95.81);\n                "
                    }
                }, 
                {
                    "metadata": {}, 
                    "output_type": "display_data", 
                    "data": {
                        "text/plain": "<IPython.core.display.Javascript object>", 
                        "application/javascript": "\n                    $(\"#pm_label3479dc85\").text(\"Downloaded 3276800 of 3411524 bytes\");\n                    $(\"#pm_progress3479dc85\").attr(\"value\", 96.05);\n                "
                    }
                }, 
                {
                    "metadata": {}, 
                    "output_type": "display_data", 
                    "data": {
                        "text/plain": "<IPython.core.display.Javascript object>", 
                        "application/javascript": "\n                    $(\"#pm_label3479dc85\").text(\"Downloaded 3284992 of 3411524 bytes\");\n                    $(\"#pm_progress3479dc85\").attr(\"value\", 96.29);\n                "
                    }
                }, 
                {
                    "metadata": {}, 
                    "output_type": "display_data", 
                    "data": {
                        "text/plain": "<IPython.core.display.Javascript object>", 
                        "application/javascript": "\n                    $(\"#pm_label3479dc85\").text(\"Downloaded 3293184 of 3411524 bytes\");\n                    $(\"#pm_progress3479dc85\").attr(\"value\", 96.53);\n                "
                    }
                }, 
                {
                    "metadata": {}, 
                    "output_type": "display_data", 
                    "data": {
                        "text/plain": "<IPython.core.display.Javascript object>", 
                        "application/javascript": "\n                    $(\"#pm_label3479dc85\").text(\"Downloaded 3301376 of 3411524 bytes\");\n                    $(\"#pm_progress3479dc85\").attr(\"value\", 96.77);\n                "
                    }
                }, 
                {
                    "metadata": {}, 
                    "output_type": "display_data", 
                    "data": {
                        "text/plain": "<IPython.core.display.Javascript object>", 
                        "application/javascript": "\n                    $(\"#pm_label3479dc85\").text(\"Downloaded 3309568 of 3411524 bytes\");\n                    $(\"#pm_progress3479dc85\").attr(\"value\", 97.01);\n                "
                    }
                }, 
                {
                    "metadata": {}, 
                    "output_type": "display_data", 
                    "data": {
                        "text/plain": "<IPython.core.display.Javascript object>", 
                        "application/javascript": "\n                    $(\"#pm_label3479dc85\").text(\"Downloaded 3317760 of 3411524 bytes\");\n                    $(\"#pm_progress3479dc85\").attr(\"value\", 97.25);\n                "
                    }
                }, 
                {
                    "metadata": {}, 
                    "output_type": "display_data", 
                    "data": {
                        "text/plain": "<IPython.core.display.Javascript object>", 
                        "application/javascript": "\n                    $(\"#pm_label3479dc85\").text(\"Downloaded 3325952 of 3411524 bytes\");\n                    $(\"#pm_progress3479dc85\").attr(\"value\", 97.49);\n                "
                    }
                }, 
                {
                    "metadata": {}, 
                    "output_type": "display_data", 
                    "data": {
                        "text/plain": "<IPython.core.display.Javascript object>", 
                        "application/javascript": "\n                    $(\"#pm_label3479dc85\").text(\"Downloaded 3334144 of 3411524 bytes\");\n                    $(\"#pm_progress3479dc85\").attr(\"value\", 97.73);\n                "
                    }
                }, 
                {
                    "metadata": {}, 
                    "output_type": "display_data", 
                    "data": {
                        "text/plain": "<IPython.core.display.Javascript object>", 
                        "application/javascript": "\n                    $(\"#pm_label3479dc85\").text(\"Downloaded 3342336 of 3411524 bytes\");\n                    $(\"#pm_progress3479dc85\").attr(\"value\", 97.97);\n                "
                    }
                }, 
                {
                    "metadata": {}, 
                    "output_type": "display_data", 
                    "data": {
                        "text/plain": "<IPython.core.display.Javascript object>", 
                        "application/javascript": "\n                    $(\"#pm_label3479dc85\").text(\"Downloaded 3350528 of 3411524 bytes\");\n                    $(\"#pm_progress3479dc85\").attr(\"value\", 98.21);\n                "
                    }
                }, 
                {
                    "metadata": {}, 
                    "output_type": "display_data", 
                    "data": {
                        "text/plain": "<IPython.core.display.Javascript object>", 
                        "application/javascript": "\n                    $(\"#pm_label3479dc85\").text(\"Downloaded 3358720 of 3411524 bytes\");\n                    $(\"#pm_progress3479dc85\").attr(\"value\", 98.45);\n                "
                    }
                }, 
                {
                    "metadata": {}, 
                    "output_type": "display_data", 
                    "data": {
                        "text/plain": "<IPython.core.display.Javascript object>", 
                        "application/javascript": "\n                    $(\"#pm_label3479dc85\").text(\"Downloaded 3366912 of 3411524 bytes\");\n                    $(\"#pm_progress3479dc85\").attr(\"value\", 98.69);\n                "
                    }
                }, 
                {
                    "metadata": {}, 
                    "output_type": "display_data", 
                    "data": {
                        "text/plain": "<IPython.core.display.Javascript object>", 
                        "application/javascript": "\n                    $(\"#pm_label3479dc85\").text(\"Downloaded 3375104 of 3411524 bytes\");\n                    $(\"#pm_progress3479dc85\").attr(\"value\", 98.93);\n                "
                    }
                }, 
                {
                    "metadata": {}, 
                    "output_type": "display_data", 
                    "data": {
                        "text/plain": "<IPython.core.display.Javascript object>", 
                        "application/javascript": "\n                    $(\"#pm_label3479dc85\").text(\"Downloaded 3383296 of 3411524 bytes\");\n                    $(\"#pm_progress3479dc85\").attr(\"value\", 99.17);\n                "
                    }
                }, 
                {
                    "metadata": {}, 
                    "output_type": "display_data", 
                    "data": {
                        "text/plain": "<IPython.core.display.Javascript object>", 
                        "application/javascript": "\n                    $(\"#pm_label3479dc85\").text(\"Downloaded 3391488 of 3411524 bytes\");\n                    $(\"#pm_progress3479dc85\").attr(\"value\", 99.41);\n                "
                    }
                }, 
                {
                    "metadata": {}, 
                    "output_type": "display_data", 
                    "data": {
                        "text/plain": "<IPython.core.display.Javascript object>", 
                        "application/javascript": "\n                    $(\"#pm_label3479dc85\").text(\"Downloaded 3399680 of 3411524 bytes\");\n                    $(\"#pm_progress3479dc85\").attr(\"value\", 99.65);\n                "
                    }
                }, 
                {
                    "metadata": {}, 
                    "output_type": "display_data", 
                    "data": {
                        "text/plain": "<IPython.core.display.Javascript object>", 
                        "application/javascript": "\n                    $(\"#pm_label3479dc85\").text(\"Downloaded 3407872 of 3411524 bytes\");\n                    $(\"#pm_progress3479dc85\").attr(\"value\", 99.89);\n                "
                    }
                }, 
                {
                    "metadata": {}, 
                    "output_type": "display_data", 
                    "data": {
                        "text/plain": "<IPython.core.display.Javascript object>", 
                        "application/javascript": "\n                    $(\"#pm_label3479dc85\").text(\"Downloaded 3411524 of 3411524 bytes\");\n                    $(\"#pm_progress3479dc85\").attr(\"value\", 100.0);\n                "
                    }
                }, 
                {
                    "name": "stdout", 
                    "output_type": "stream", 
                    "text": "Package file:///usr/local/src/data-connectors-1.4.1/db2jcc4-10.5.0.6.jar downloaded successfully\n\u001b[31mPlease restart Kernel to complete installation of the new package\u001b[0m\nSuccessfully added package file:///usr/local/src/data-connectors-1.4.1/db2jcc4-10.5.0.6.jar\n"
                }, 
                {
                    "metadata": {}, 
                    "output_type": "execute_result", 
                    "execution_count": 3, 
                    "data": {
                        "text/plain": "<pixiedust.packageManager.package.Package at 0x7fa8c689da90>"
                    }
                }
            ], 
            "cell_type": "code"
        }, 
        {
            "execution_count": 4, 
            "source": "# The code was removed by DSX for sharing.", 
            "metadata": {
                "collapsed": true
            }, 
            "outputs": [], 
            "cell_type": "code"
        }, 
        {
            "execution_count": 5, 
            "source": "# insert connection here\nconnection_string='DASHDB;Database={db};Hostname={hostname};Port={port};PROTOCOL=TCPIP;UID={username};PWD={password}'.format(**credentials_1)\nidadb = IdaDataBase(dsn=connection_string)", 
            "metadata": {
                "collapsed": true
            }, 
            "outputs": [], 
            "cell_type": "code"
        }, 
        {
            "execution_count": 6, 
            "source": "df = idadb.show_tables(show_all = True)\ndf.head(10)", 
            "metadata": {}, 
            "outputs": [
                {
                    "metadata": {}, 
                    "output_type": "execute_result", 
                    "execution_count": 6, 
                    "data": {
                        "text/plain": "   TABSCHEMA                   TABNAME      OWNER TYPE\n0  DASH11481  FEMALE_HUMAN_TRAFFICKING  DASH11481    T\n1    GOSALES                    BRANCH   DB2INST1    T\n2    GOSALES           CONVERSION_RATE   DB2INST1    T\n3    GOSALES                   COUNTRY   DB2INST1    T\n4    GOSALES           CURRENCY_LOOKUP   DB2INST1    T\n5    GOSALES           EURO_CONVERSION   DB2INST1    T\n6    GOSALES          INVENTORY_LEVELS   DB2INST1    T\n7    GOSALES             ORDER_DETAILS   DB2INST1    T\n8    GOSALES              ORDER_HEADER   DB2INST1    T\n9    GOSALES              ORDER_METHOD   DB2INST1    T", 
                        "text/html": "<div>\n<table border=\"1\" class=\"dataframe\">\n  <thead>\n    <tr style=\"text-align: right;\">\n      <th></th>\n      <th>TABSCHEMA</th>\n      <th>TABNAME</th>\n      <th>OWNER</th>\n      <th>TYPE</th>\n    </tr>\n  </thead>\n  <tbody>\n    <tr>\n      <th>0</th>\n      <td>DASH11481</td>\n      <td>FEMALE_HUMAN_TRAFFICKING</td>\n      <td>DASH11481</td>\n      <td>T</td>\n    </tr>\n    <tr>\n      <th>1</th>\n      <td>GOSALES</td>\n      <td>BRANCH</td>\n      <td>DB2INST1</td>\n      <td>T</td>\n    </tr>\n    <tr>\n      <th>2</th>\n      <td>GOSALES</td>\n      <td>CONVERSION_RATE</td>\n      <td>DB2INST1</td>\n      <td>T</td>\n    </tr>\n    <tr>\n      <th>3</th>\n      <td>GOSALES</td>\n      <td>COUNTRY</td>\n      <td>DB2INST1</td>\n      <td>T</td>\n    </tr>\n    <tr>\n      <th>4</th>\n      <td>GOSALES</td>\n      <td>CURRENCY_LOOKUP</td>\n      <td>DB2INST1</td>\n      <td>T</td>\n    </tr>\n    <tr>\n      <th>5</th>\n      <td>GOSALES</td>\n      <td>EURO_CONVERSION</td>\n      <td>DB2INST1</td>\n      <td>T</td>\n    </tr>\n    <tr>\n      <th>6</th>\n      <td>GOSALES</td>\n      <td>INVENTORY_LEVELS</td>\n      <td>DB2INST1</td>\n      <td>T</td>\n    </tr>\n    <tr>\n      <th>7</th>\n      <td>GOSALES</td>\n      <td>ORDER_DETAILS</td>\n      <td>DB2INST1</td>\n      <td>T</td>\n    </tr>\n    <tr>\n      <th>8</th>\n      <td>GOSALES</td>\n      <td>ORDER_HEADER</td>\n      <td>DB2INST1</td>\n      <td>T</td>\n    </tr>\n    <tr>\n      <th>9</th>\n      <td>GOSALES</td>\n      <td>ORDER_METHOD</td>\n      <td>DB2INST1</td>\n      <td>T</td>\n    </tr>\n  </tbody>\n</table>\n</div>"
                    }
                }
            ], 
            "cell_type": "code"
        }, 
        {
            "execution_count": 7, 
            "source": "idadb.exists_table_or_view('GOSALESDW.EMP_EXPENSE_FACT')", 
            "metadata": {}, 
            "outputs": [
                {
                    "metadata": {}, 
                    "output_type": "execute_result", 
                    "execution_count": 7, 
                    "data": {
                        "text/plain": "True"
                    }
                }
            ], 
            "cell_type": "code"
        }, 
        {
            "execution_count": 8, 
            "source": "idadf.dtypes", 
            "metadata": {}, 
            "outputs": [
                {
                    "ename": "NameError", 
                    "evalue": "name 'idadf' is not defined", 
                    "traceback": [
                        "\u001b[0;31m\u001b[0m", 
                        "\u001b[0;31mNameError\u001b[0mTraceback (most recent call last)", 
                        "\u001b[0;32m<ipython-input-8-5b17188f407b>\u001b[0m in \u001b[0;36m<module>\u001b[0;34m()\u001b[0m\n\u001b[0;32m----> 1\u001b[0;31m \u001b[0midadf\u001b[0m\u001b[0;34m.\u001b[0m\u001b[0mdtypes\u001b[0m\u001b[0;34m\u001b[0m\u001b[0m\n\u001b[0m", 
                        "\u001b[0;31mNameError\u001b[0m: name 'idadf' is not defined"
                    ], 
                    "output_type": "error"
                }
            ], 
            "cell_type": "code"
        }, 
        {
            "execution_count": 9, 
            "source": "top_10_df = idadb.ida_query('SELECT * FROM GOSALESDW.EMP_EXPENSE_FACT LIMIT 10')\ntop_10_df", 
            "metadata": {}, 
            "outputs": [
                {
                    "metadata": {}, 
                    "output_type": "execute_result", 
                    "execution_count": 9, 
                    "data": {
                        "text/plain": "       \u4144\u5f59\u454by  \u524f\u4147\u494e\u415a\u4954\u4e4f\u4b5f\u5945  \u4f50\u4953\u4954\u4e4f\u4b5f\u5945\u4b00\u5945  \u4d45\u4c50\u594f\u4545\u4b5f\u5945\u4b00\u5945  \u5845\u4550\u534e\u5f45\u5954\u4550\u4b5f\u5945  \u4341\u4f43\u4e55\u5f54\u454by\u4b5f\u5945  \u5845\u4550\u534e\u5f45\u4e55\u5449\u515f\u4155\u544e\u5449y  \\\n0  20120731     11112     43637      4100      2120      8052        0.080   \n1  20120731     11112     43637      4100      2122      8054        0.110   \n2  20120731     11112     43637      4100      2124      8056        0.030   \n3  20120731     11112     43637      4100      2130      8050        0.005   \n4  20120731     11112     43637      4100      2131      8049      112.500   \n5  20120831     11112     43637      4100      2120      8052        0.080   \n6  20120831     11112     43637      4100      2122      8054        0.110   \n7  20120831     11112     43637      4100      2124      8056        0.030   \n8  20120831     11112     43637      4100      2130      8050        0.005   \n9  20120831     11112     43637      4100      2131      8049      172.500   \n\n   \u5845\u4550\u534e\u5f45\u4f54\u4154l\u4155\u544e\u5449y  \n0       451.06  \n1       620.21  \n2       169.15  \n3      3170.35  \n4      1762.82  \n5       425.68  \n6       585.32  \n7       159.63  \n8      2853.11  \n9      2467.95  ", 
                        "text/html": "<div>\n<table border=\"1\" class=\"dataframe\">\n  <thead>\n    <tr style=\"text-align: right;\">\n      <th></th>\n      <th>\u4144\u5f59\u454by</th>\n      <th>\u524f\u4147\u494e\u415a\u4954\u4e4f\u4b5f\u5945</th>\n      <th>\u4f50\u4953\u4954\u4e4f\u4b5f\u5945\u4b00\u5945</th>\n      <th>\u4d45\u4c50\u594f\u4545\u4b5f\u5945\u4b00\u5945</th>\n      <th>\u5845\u4550\u534e\u5f45\u5954\u4550\u4b5f\u5945</th>\n      <th>\u4341\u4f43\u4e55\u5f54\u454by\u4b5f\u5945</th>\n      <th>\u5845\u4550\u534e\u5f45\u4e55\u5449\u515f\u4155\u544e\u5449y</th>\n      <th>\u5845\u4550\u534e\u5f45\u4f54\u4154l\u4155\u544e\u5449y</th>\n    </tr>\n  </thead>\n  <tbody>\n    <tr>\n      <th>0</th>\n      <td>20120731</td>\n      <td>11112</td>\n      <td>43637</td>\n      <td>4100</td>\n      <td>2120</td>\n      <td>8052</td>\n      <td>0.080</td>\n      <td>451.06</td>\n    </tr>\n    <tr>\n      <th>1</th>\n      <td>20120731</td>\n      <td>11112</td>\n      <td>43637</td>\n      <td>4100</td>\n      <td>2122</td>\n      <td>8054</td>\n      <td>0.110</td>\n      <td>620.21</td>\n    </tr>\n    <tr>\n      <th>2</th>\n      <td>20120731</td>\n      <td>11112</td>\n      <td>43637</td>\n      <td>4100</td>\n      <td>2124</td>\n      <td>8056</td>\n      <td>0.030</td>\n      <td>169.15</td>\n    </tr>\n    <tr>\n      <th>3</th>\n      <td>20120731</td>\n      <td>11112</td>\n      <td>43637</td>\n      <td>4100</td>\n      <td>2130</td>\n      <td>8050</td>\n      <td>0.005</td>\n      <td>3170.35</td>\n    </tr>\n    <tr>\n      <th>4</th>\n      <td>20120731</td>\n      <td>11112</td>\n      <td>43637</td>\n      <td>4100</td>\n      <td>2131</td>\n      <td>8049</td>\n      <td>112.500</td>\n      <td>1762.82</td>\n    </tr>\n    <tr>\n      <th>5</th>\n      <td>20120831</td>\n      <td>11112</td>\n      <td>43637</td>\n      <td>4100</td>\n      <td>2120</td>\n      <td>8052</td>\n      <td>0.080</td>\n      <td>425.68</td>\n    </tr>\n    <tr>\n      <th>6</th>\n      <td>20120831</td>\n      <td>11112</td>\n      <td>43637</td>\n      <td>4100</td>\n      <td>2122</td>\n      <td>8054</td>\n      <td>0.110</td>\n      <td>585.32</td>\n    </tr>\n    <tr>\n      <th>7</th>\n      <td>20120831</td>\n      <td>11112</td>\n      <td>43637</td>\n      <td>4100</td>\n      <td>2124</td>\n      <td>8056</td>\n      <td>0.030</td>\n      <td>159.63</td>\n    </tr>\n    <tr>\n      <th>8</th>\n      <td>20120831</td>\n      <td>11112</td>\n      <td>43637</td>\n      <td>4100</td>\n      <td>2130</td>\n      <td>8050</td>\n      <td>0.005</td>\n      <td>2853.11</td>\n    </tr>\n    <tr>\n      <th>9</th>\n      <td>20120831</td>\n      <td>11112</td>\n      <td>43637</td>\n      <td>4100</td>\n      <td>2131</td>\n      <td>8049</td>\n      <td>172.500</td>\n      <td>2467.95</td>\n    </tr>\n  </tbody>\n</table>\n</div>"
                    }
                }
            ], 
            "cell_type": "code"
        }, 
        {
            "execution_count": 10, 
            "source": "idadb.ida_query('SELECT EMPLOYEE_KEY, COUNT(*) AS COUNT FROM GOSALESDW.EMP_EXPENSE_FACT GROUP BY EMPLOYEE_KEY ORDER BY COUNT DESC LIMIT 10')", 
            "metadata": {}, 
            "outputs": [
                {
                    "metadata": {}, 
                    "output_type": "execute_result", 
                    "execution_count": 10, 
                    "data": {
                        "text/plain": "   \u4d45\u4c50\u594f\u4545\u4b5f\u5945  \u4f43\u4e55t\u4545\u4b5f\u5945\n0    4112     263\n1    4134     263\n2    4135     261\n3    4368     260\n4    4016     260\n5    4053     260\n6    4019     260\n7    4480     259\n8    4129     259\n9    4221     258", 
                        "text/html": "<div>\n<table border=\"1\" class=\"dataframe\">\n  <thead>\n    <tr style=\"text-align: right;\">\n      <th></th>\n      <th>\u4d45\u4c50\u594f\u4545\u4b5f\u5945</th>\n      <th>\u4f43\u4e55t\u4545\u4b5f\u5945</th>\n    </tr>\n  </thead>\n  <tbody>\n    <tr>\n      <th>0</th>\n      <td>4112</td>\n      <td>263</td>\n    </tr>\n    <tr>\n      <th>1</th>\n      <td>4134</td>\n      <td>263</td>\n    </tr>\n    <tr>\n      <th>2</th>\n      <td>4135</td>\n      <td>261</td>\n    </tr>\n    <tr>\n      <th>3</th>\n      <td>4368</td>\n      <td>260</td>\n    </tr>\n    <tr>\n      <th>4</th>\n      <td>4016</td>\n      <td>260</td>\n    </tr>\n    <tr>\n      <th>5</th>\n      <td>4053</td>\n      <td>260</td>\n    </tr>\n    <tr>\n      <th>6</th>\n      <td>4019</td>\n      <td>260</td>\n    </tr>\n    <tr>\n      <th>7</th>\n      <td>4480</td>\n      <td>259</td>\n    </tr>\n    <tr>\n      <th>8</th>\n      <td>4129</td>\n      <td>259</td>\n    </tr>\n    <tr>\n      <th>9</th>\n      <td>4221</td>\n      <td>258</td>\n    </tr>\n  </tbody>\n</table>\n</div>"
                    }
                }
            ], 
            "cell_type": "code"
        }, 
        {
            "execution_count": 11, 
            "source": "# The code was removed by DSX for sharing.", 
            "metadata": {}, 
            "outputs": [
                {
                    "metadata": {}, 
                    "output_type": "execute_result", 
                    "execution_count": 11, 
                    "data": {
                        "text/plain": "   INTERNAL_ID  VETTING_LEVEL DESCRIPTION  VETTING_LEVEL_PREDICTION  \\\n0          363            100          NA                        30   \n1          364             30          NA                        30   \n2          365             10          NA                        30   \n3          366             30          NA                        30   \n4          367            100          NA                       100   \n\n  ALGORITHM_NAME                     NAME GENDER  BIRTH_DATE BIRTH_COUNTRY  \\\n0  DECISION_TREE      Joyce Valerie Jones      F  1990-11-25         Ghana   \n1  DECISION_TREE  Veronica Breanna French      F  2001-05-26         Ghana   \n2  DECISION_TREE   Darlene Kendra Jackson      F  1978-09-01        Brazil   \n3  DECISION_TREE     Lisa Melissa Russell      F  1990-04-05        Brazil   \n4  DECISION_TREE            Caitlin Moore      F  1973-09-08         Ghana   \n\n  BIRTH_COUNTRY_CODE ... ARRIVAL_AIRPORT_COUNTRY_CODE ARRIVAL_AIRPORT_IATA  \\\n0                 GH ...                           US                  SAT   \n1                 GH ...                           US                  RDU   \n2                 BR ...                           US                  BLV   \n3                 BR ...                           US                  LCK   \n4                 GH ...                           US                  DLF   \n\n  ARRIVAL_AIRPORT_MUNICIPALITY  ARRIVAL_AIRPORT_REGION  \\\n0                  San Antonio                   US-TX   \n1               Raleigh/Durham                   US-NC   \n2                   Belleville                   US-IL   \n3                     Columbus                   US-OH   \n4                      Del Rio                   US-TX   \n\n  DEPARTURE_AIRPORT_COUNTRY_CODE DEPARTURE_AIRPORT_IATA  \\\n0                             FI                    HEL   \n1                             RU                    KJA   \n2                             IE                    ORK   \n3                             RU                    AER   \n4                             CZ                    PRG   \n\n  DEPARTURE_AIRPORT_MUNICIPALITY  DEPARTURE_AIRPORT_REGION  \\\n0                       Helsinki                     FI-ES   \n1                    Krasnoyarsk                    RU-KYA   \n2                           Cork                      IE-C   \n3                          Sochi                    RU-KDA   \n4                         Prague                     CZ-PR   \n\n                                   UUID AGE  \n0  13363a0f-1a5e-4f68-9e53-a9d52845f33b  26  \n1  8c5fb696-09bf-4071-810b-1eef79bcd19f  15  \n2  b0def062-af37-441d-b611-580befa71cc6  38  \n3  96d9f810-42ec-4851-bef8-8919661cb960  26  \n4  93adb238-ba71-4525-95fe-b111e41d57b4  43  \n\n[5 rows x 28 columns]", 
                        "text/html": "<div>\n<table border=\"1\" class=\"dataframe\">\n  <thead>\n    <tr style=\"text-align: right;\">\n      <th></th>\n      <th>INTERNAL_ID</th>\n      <th>VETTING_LEVEL</th>\n      <th>DESCRIPTION</th>\n      <th>VETTING_LEVEL_PREDICTION</th>\n      <th>ALGORITHM_NAME</th>\n      <th>NAME</th>\n      <th>GENDER</th>\n      <th>BIRTH_DATE</th>\n      <th>BIRTH_COUNTRY</th>\n      <th>BIRTH_COUNTRY_CODE</th>\n      <th>...</th>\n      <th>ARRIVAL_AIRPORT_COUNTRY_CODE</th>\n      <th>ARRIVAL_AIRPORT_IATA</th>\n      <th>ARRIVAL_AIRPORT_MUNICIPALITY</th>\n      <th>ARRIVAL_AIRPORT_REGION</th>\n      <th>DEPARTURE_AIRPORT_COUNTRY_CODE</th>\n      <th>DEPARTURE_AIRPORT_IATA</th>\n      <th>DEPARTURE_AIRPORT_MUNICIPALITY</th>\n      <th>DEPARTURE_AIRPORT_REGION</th>\n      <th>UUID</th>\n      <th>AGE</th>\n    </tr>\n  </thead>\n  <tbody>\n    <tr>\n      <th>0</th>\n      <td>363</td>\n      <td>100</td>\n      <td>NA</td>\n      <td>30</td>\n      <td>DECISION_TREE</td>\n      <td>Joyce Valerie Jones</td>\n      <td>F</td>\n      <td>1990-11-25</td>\n      <td>Ghana</td>\n      <td>GH</td>\n      <td>...</td>\n      <td>US</td>\n      <td>SAT</td>\n      <td>San Antonio</td>\n      <td>US-TX</td>\n      <td>FI</td>\n      <td>HEL</td>\n      <td>Helsinki</td>\n      <td>FI-ES</td>\n      <td>13363a0f-1a5e-4f68-9e53-a9d52845f33b</td>\n      <td>26</td>\n    </tr>\n    <tr>\n      <th>1</th>\n      <td>364</td>\n      <td>30</td>\n      <td>NA</td>\n      <td>30</td>\n      <td>DECISION_TREE</td>\n      <td>Veronica Breanna French</td>\n      <td>F</td>\n      <td>2001-05-26</td>\n      <td>Ghana</td>\n      <td>GH</td>\n      <td>...</td>\n      <td>US</td>\n      <td>RDU</td>\n      <td>Raleigh/Durham</td>\n      <td>US-NC</td>\n      <td>RU</td>\n      <td>KJA</td>\n      <td>Krasnoyarsk</td>\n      <td>RU-KYA</td>\n      <td>8c5fb696-09bf-4071-810b-1eef79bcd19f</td>\n      <td>15</td>\n    </tr>\n    <tr>\n      <th>2</th>\n      <td>365</td>\n      <td>10</td>\n      <td>NA</td>\n      <td>30</td>\n      <td>DECISION_TREE</td>\n      <td>Darlene Kendra Jackson</td>\n      <td>F</td>\n      <td>1978-09-01</td>\n      <td>Brazil</td>\n      <td>BR</td>\n      <td>...</td>\n      <td>US</td>\n      <td>BLV</td>\n      <td>Belleville</td>\n      <td>US-IL</td>\n      <td>IE</td>\n      <td>ORK</td>\n      <td>Cork</td>\n      <td>IE-C</td>\n      <td>b0def062-af37-441d-b611-580befa71cc6</td>\n      <td>38</td>\n    </tr>\n    <tr>\n      <th>3</th>\n      <td>366</td>\n      <td>30</td>\n      <td>NA</td>\n      <td>30</td>\n      <td>DECISION_TREE</td>\n      <td>Lisa Melissa Russell</td>\n      <td>F</td>\n      <td>1990-04-05</td>\n      <td>Brazil</td>\n      <td>BR</td>\n      <td>...</td>\n      <td>US</td>\n      <td>LCK</td>\n      <td>Columbus</td>\n      <td>US-OH</td>\n      <td>RU</td>\n      <td>AER</td>\n      <td>Sochi</td>\n      <td>RU-KDA</td>\n      <td>96d9f810-42ec-4851-bef8-8919661cb960</td>\n      <td>26</td>\n    </tr>\n    <tr>\n      <th>4</th>\n      <td>367</td>\n      <td>100</td>\n      <td>NA</td>\n      <td>100</td>\n      <td>DECISION_TREE</td>\n      <td>Caitlin Moore</td>\n      <td>F</td>\n      <td>1973-09-08</td>\n      <td>Ghana</td>\n      <td>GH</td>\n      <td>...</td>\n      <td>US</td>\n      <td>DLF</td>\n      <td>Del Rio</td>\n      <td>US-TX</td>\n      <td>CZ</td>\n      <td>PRG</td>\n      <td>Prague</td>\n      <td>CZ-PR</td>\n      <td>93adb238-ba71-4525-95fe-b111e41d57b4</td>\n      <td>43</td>\n    </tr>\n  </tbody>\n</table>\n<p>5 rows \u00d7 28 columns</p>\n</div>"
                    }
                }
            ], 
            "cell_type": "code"
        }, 
        {
            "execution_count": 12, 
            "source": "data_df_1.shape", 
            "metadata": {}, 
            "outputs": [
                {
                    "metadata": {}, 
                    "output_type": "execute_result", 
                    "execution_count": 12, 
                    "data": {
                        "text/plain": "(1085, 28)"
                    }
                }
            ], 
            "cell_type": "code"
        }, 
        {
            "execution_count": 13, 
            "source": "data_df_1.columns", 
            "metadata": {}, 
            "outputs": [
                {
                    "metadata": {}, 
                    "output_type": "execute_result", 
                    "execution_count": 13, 
                    "data": {
                        "text/plain": "Index([u'INTERNAL_ID', u'VETTING_LEVEL', u'DESCRIPTION',\n       u'VETTING_LEVEL_PREDICTION', u'ALGORITHM_NAME', u'NAME', u'GENDER',\n       u'BIRTH_DATE', u'BIRTH_COUNTRY', u'BIRTH_COUNTRY_CODE', u'OCCUPATION',\n       u'ADDRESS', u'SSN', u'PASSPORT_NUMBER', u'PASSPORT_COUNTRY',\n       u'PASSPORT_COUNTRY_CODE', u'COUNTRIES_VISITED',\n       u'COUNTRIES_VISITED_COUNT', u'ARRIVAL_AIRPORT_COUNTRY_CODE',\n       u'ARRIVAL_AIRPORT_IATA', u'ARRIVAL_AIRPORT_MUNICIPALITY',\n       u'ARRIVAL_AIRPORT_REGION', u'DEPARTURE_AIRPORT_COUNTRY_CODE',\n       u'DEPARTURE_AIRPORT_IATA', u'DEPARTURE_AIRPORT_MUNICIPALITY',\n       u'DEPARTURE_AIRPORT_REGION', u'UUID', u'AGE'],\n      dtype='object')"
                    }
                }
            ], 
            "cell_type": "code"
        }, 
        {
            "execution_count": 14, 
            "source": "trafficking_df = data_df_1", 
            "metadata": {
                "collapsed": true
            }, 
            "outputs": [], 
            "cell_type": "code"
        }, 
        {
            "execution_count": 15, 
            "source": "idadb.exists_table_or_view(trafficking_df.name)", 
            "metadata": {}, 
            "outputs": [
                {
                    "metadata": {}, 
                    "output_type": "execute_result", 
                    "execution_count": 15, 
                    "data": {
                        "text/plain": "True"
                    }
                }
            ], 
            "cell_type": "code"
        }, 
        {
            "execution_count": 16, 
            "source": "trafficking_df.head()", 
            "metadata": {}, 
            "outputs": [
                {
                    "metadata": {}, 
                    "output_type": "execute_result", 
                    "execution_count": 16, 
                    "data": {
                        "text/plain": "   INTERNAL_ID  VETTING_LEVEL DESCRIPTION  VETTING_LEVEL_PREDICTION  \\\n0          363            100          NA                        30   \n1          364             30          NA                        30   \n2          365             10          NA                        30   \n3          366             30          NA                        30   \n4          367            100          NA                       100   \n\n  ALGORITHM_NAME                     NAME GENDER  BIRTH_DATE BIRTH_COUNTRY  \\\n0  DECISION_TREE      Joyce Valerie Jones      F  1990-11-25         Ghana   \n1  DECISION_TREE  Veronica Breanna French      F  2001-05-26         Ghana   \n2  DECISION_TREE   Darlene Kendra Jackson      F  1978-09-01        Brazil   \n3  DECISION_TREE     Lisa Melissa Russell      F  1990-04-05        Brazil   \n4  DECISION_TREE            Caitlin Moore      F  1973-09-08         Ghana   \n\n  BIRTH_COUNTRY_CODE ... ARRIVAL_AIRPORT_COUNTRY_CODE ARRIVAL_AIRPORT_IATA  \\\n0                 GH ...                           US                  SAT   \n1                 GH ...                           US                  RDU   \n2                 BR ...                           US                  BLV   \n3                 BR ...                           US                  LCK   \n4                 GH ...                           US                  DLF   \n\n  ARRIVAL_AIRPORT_MUNICIPALITY  ARRIVAL_AIRPORT_REGION  \\\n0                  San Antonio                   US-TX   \n1               Raleigh/Durham                   US-NC   \n2                   Belleville                   US-IL   \n3                     Columbus                   US-OH   \n4                      Del Rio                   US-TX   \n\n  DEPARTURE_AIRPORT_COUNTRY_CODE DEPARTURE_AIRPORT_IATA  \\\n0                             FI                    HEL   \n1                             RU                    KJA   \n2                             IE                    ORK   \n3                             RU                    AER   \n4                             CZ                    PRG   \n\n  DEPARTURE_AIRPORT_MUNICIPALITY  DEPARTURE_AIRPORT_REGION  \\\n0                       Helsinki                     FI-ES   \n1                    Krasnoyarsk                    RU-KYA   \n2                           Cork                      IE-C   \n3                          Sochi                    RU-KDA   \n4                         Prague                     CZ-PR   \n\n                                   UUID AGE  \n0  13363a0f-1a5e-4f68-9e53-a9d52845f33b  26  \n1  8c5fb696-09bf-4071-810b-1eef79bcd19f  15  \n2  b0def062-af37-441d-b611-580befa71cc6  38  \n3  96d9f810-42ec-4851-bef8-8919661cb960  26  \n4  93adb238-ba71-4525-95fe-b111e41d57b4  43  \n\n[5 rows x 28 columns]", 
                        "text/html": "<div>\n<table border=\"1\" class=\"dataframe\">\n  <thead>\n    <tr style=\"text-align: right;\">\n      <th></th>\n      <th>INTERNAL_ID</th>\n      <th>VETTING_LEVEL</th>\n      <th>DESCRIPTION</th>\n      <th>VETTING_LEVEL_PREDICTION</th>\n      <th>ALGORITHM_NAME</th>\n      <th>NAME</th>\n      <th>GENDER</th>\n      <th>BIRTH_DATE</th>\n      <th>BIRTH_COUNTRY</th>\n      <th>BIRTH_COUNTRY_CODE</th>\n      <th>...</th>\n      <th>ARRIVAL_AIRPORT_COUNTRY_CODE</th>\n      <th>ARRIVAL_AIRPORT_IATA</th>\n      <th>ARRIVAL_AIRPORT_MUNICIPALITY</th>\n      <th>ARRIVAL_AIRPORT_REGION</th>\n      <th>DEPARTURE_AIRPORT_COUNTRY_CODE</th>\n      <th>DEPARTURE_AIRPORT_IATA</th>\n      <th>DEPARTURE_AIRPORT_MUNICIPALITY</th>\n      <th>DEPARTURE_AIRPORT_REGION</th>\n      <th>UUID</th>\n      <th>AGE</th>\n    </tr>\n  </thead>\n  <tbody>\n    <tr>\n      <th>0</th>\n      <td>363</td>\n      <td>100</td>\n      <td>NA</td>\n      <td>30</td>\n      <td>DECISION_TREE</td>\n      <td>Joyce Valerie Jones</td>\n      <td>F</td>\n      <td>1990-11-25</td>\n      <td>Ghana</td>\n      <td>GH</td>\n      <td>...</td>\n      <td>US</td>\n      <td>SAT</td>\n      <td>San Antonio</td>\n      <td>US-TX</td>\n      <td>FI</td>\n      <td>HEL</td>\n      <td>Helsinki</td>\n      <td>FI-ES</td>\n      <td>13363a0f-1a5e-4f68-9e53-a9d52845f33b</td>\n      <td>26</td>\n    </tr>\n    <tr>\n      <th>1</th>\n      <td>364</td>\n      <td>30</td>\n      <td>NA</td>\n      <td>30</td>\n      <td>DECISION_TREE</td>\n      <td>Veronica Breanna French</td>\n      <td>F</td>\n      <td>2001-05-26</td>\n      <td>Ghana</td>\n      <td>GH</td>\n      <td>...</td>\n      <td>US</td>\n      <td>RDU</td>\n      <td>Raleigh/Durham</td>\n      <td>US-NC</td>\n      <td>RU</td>\n      <td>KJA</td>\n      <td>Krasnoyarsk</td>\n      <td>RU-KYA</td>\n      <td>8c5fb696-09bf-4071-810b-1eef79bcd19f</td>\n      <td>15</td>\n    </tr>\n    <tr>\n      <th>2</th>\n      <td>365</td>\n      <td>10</td>\n      <td>NA</td>\n      <td>30</td>\n      <td>DECISION_TREE</td>\n      <td>Darlene Kendra Jackson</td>\n      <td>F</td>\n      <td>1978-09-01</td>\n      <td>Brazil</td>\n      <td>BR</td>\n      <td>...</td>\n      <td>US</td>\n      <td>BLV</td>\n      <td>Belleville</td>\n      <td>US-IL</td>\n      <td>IE</td>\n      <td>ORK</td>\n      <td>Cork</td>\n      <td>IE-C</td>\n      <td>b0def062-af37-441d-b611-580befa71cc6</td>\n      <td>38</td>\n    </tr>\n    <tr>\n      <th>3</th>\n      <td>366</td>\n      <td>30</td>\n      <td>NA</td>\n      <td>30</td>\n      <td>DECISION_TREE</td>\n      <td>Lisa Melissa Russell</td>\n      <td>F</td>\n      <td>1990-04-05</td>\n      <td>Brazil</td>\n      <td>BR</td>\n      <td>...</td>\n      <td>US</td>\n      <td>LCK</td>\n      <td>Columbus</td>\n      <td>US-OH</td>\n      <td>RU</td>\n      <td>AER</td>\n      <td>Sochi</td>\n      <td>RU-KDA</td>\n      <td>96d9f810-42ec-4851-bef8-8919661cb960</td>\n      <td>26</td>\n    </tr>\n    <tr>\n      <th>4</th>\n      <td>367</td>\n      <td>100</td>\n      <td>NA</td>\n      <td>100</td>\n      <td>DECISION_TREE</td>\n      <td>Caitlin Moore</td>\n      <td>F</td>\n      <td>1973-09-08</td>\n      <td>Ghana</td>\n      <td>GH</td>\n      <td>...</td>\n      <td>US</td>\n      <td>DLF</td>\n      <td>Del Rio</td>\n      <td>US-TX</td>\n      <td>CZ</td>\n      <td>PRG</td>\n      <td>Prague</td>\n      <td>CZ-PR</td>\n      <td>93adb238-ba71-4525-95fe-b111e41d57b4</td>\n      <td>43</td>\n    </tr>\n  </tbody>\n</table>\n<p>5 rows \u00d7 28 columns</p>\n</div>"
                    }
                }
            ], 
            "cell_type": "code"
        }, 
        {
            "execution_count": 17, 
            "source": "idadb.ida_query('SELECT VETTING_LEVEL, COUNT(*) AS COUNT FROM ' + trafficking_df.name + ' GROUP BY VETTING_LEVEL ORDER BY VETTING_LEVEL')", 
            "metadata": {}, 
            "outputs": [
                {
                    "metadata": {}, 
                    "output_type": "execute_result", 
                    "execution_count": 17, 
                    "data": {
                        "text/plain": "   \u4556\u5454\u4e49\u5f47\u454c\u4556l  \u4f43\u4e55t\u5f47\u454c\u4556l\n0       10       42\n1       20       40\n2       30       96\n3      100      907", 
                        "text/html": "<div>\n<table border=\"1\" class=\"dataframe\">\n  <thead>\n    <tr style=\"text-align: right;\">\n      <th></th>\n      <th>\u4556\u5454\u4e49\u5f47\u454c\u4556l</th>\n      <th>\u4f43\u4e55t\u5f47\u454c\u4556l</th>\n    </tr>\n  </thead>\n  <tbody>\n    <tr>\n      <th>0</th>\n      <td>10</td>\n      <td>42</td>\n    </tr>\n    <tr>\n      <th>1</th>\n      <td>20</td>\n      <td>40</td>\n    </tr>\n    <tr>\n      <th>2</th>\n      <td>30</td>\n      <td>96</td>\n    </tr>\n    <tr>\n      <th>3</th>\n      <td>100</td>\n      <td>907</td>\n    </tr>\n  </tbody>\n</table>\n</div>"
                    }
                }
            ], 
            "cell_type": "code"
        }, 
        {
            "execution_count": 18, 
            "source": "trafficking_df.ida_query('SELECT VETTING_LEVEL, COUNT(*) AS COUNT FROM ' + trafficking_df.name + ' GROUP BY VETTING_LEVEL ORDER BY VETTING_LEVEL')", 
            "metadata": {}, 
            "outputs": [
                {
                    "ename": "AttributeError", 
                    "evalue": "'DataFrame' object has no attribute 'ida_query'", 
                    "traceback": [
                        "\u001b[0;31m\u001b[0m", 
                        "\u001b[0;31mAttributeError\u001b[0mTraceback (most recent call last)", 
                        "\u001b[0;32m<ipython-input-18-bee651eb3264>\u001b[0m in \u001b[0;36m<module>\u001b[0;34m()\u001b[0m\n\u001b[0;32m----> 1\u001b[0;31m \u001b[0mtrafficking_df\u001b[0m\u001b[0;34m.\u001b[0m\u001b[0mida_query\u001b[0m\u001b[0;34m(\u001b[0m\u001b[0;34m'SELECT VETTING_LEVEL, COUNT(*) AS COUNT FROM '\u001b[0m \u001b[0;34m+\u001b[0m \u001b[0mtrafficking_df\u001b[0m\u001b[0;34m.\u001b[0m\u001b[0mname\u001b[0m \u001b[0;34m+\u001b[0m \u001b[0;34m' GROUP BY VETTING_LEVEL ORDER BY VETTING_LEVEL'\u001b[0m\u001b[0;34m)\u001b[0m\u001b[0;34m\u001b[0m\u001b[0m\n\u001b[0m", 
                        "\u001b[0;32m/usr/local/src/bluemix_jupyter_bundle.v69/notebook/lib/python2.7/site-packages/pandas/core/generic.pyc\u001b[0m in \u001b[0;36m__getattr__\u001b[0;34m(self, name)\u001b[0m\n\u001b[1;32m   2358\u001b[0m                 \u001b[0;32mreturn\u001b[0m \u001b[0mself\u001b[0m\u001b[0;34m[\u001b[0m\u001b[0mname\u001b[0m\u001b[0;34m]\u001b[0m\u001b[0;34m\u001b[0m\u001b[0m\n\u001b[1;32m   2359\u001b[0m             raise AttributeError(\"'%s' object has no attribute '%s'\" %\n\u001b[0;32m-> 2360\u001b[0;31m                                  (type(self).__name__, name))\n\u001b[0m\u001b[1;32m   2361\u001b[0m \u001b[0;34m\u001b[0m\u001b[0m\n\u001b[1;32m   2362\u001b[0m     \u001b[0;32mdef\u001b[0m \u001b[0m__setattr__\u001b[0m\u001b[0;34m(\u001b[0m\u001b[0mself\u001b[0m\u001b[0;34m,\u001b[0m \u001b[0mname\u001b[0m\u001b[0;34m,\u001b[0m \u001b[0mvalue\u001b[0m\u001b[0;34m)\u001b[0m\u001b[0;34m:\u001b[0m\u001b[0;34m\u001b[0m\u001b[0m\n", 
                        "\u001b[0;31mAttributeError\u001b[0m: 'DataFrame' object has no attribute 'ida_query'"
                    ], 
                    "output_type": "error"
                }
            ], 
            "cell_type": "code"
        }, 
        {
            "execution_count": 1, 
            "source": "import jaydebeapi\nfrom ibmdbpy import IdaDataBase\nfrom ibmdbpy import IdaDataFrame", 
            "metadata": {
                "collapsed": true
            }, 
            "outputs": [], 
            "cell_type": "code"
        }, 
        {
            "execution_count": 2, 
            "source": "import pixiedust", 
            "metadata": {}, 
            "outputs": [
                {
                    "name": "stdout", 
                    "output_type": "stream", 
                    "text": "Pixiedust database opened successfully\n"
                }, 
                {
                    "metadata": {}, 
                    "output_type": "display_data", 
                    "data": {
                        "text/plain": "<IPython.core.display.HTML object>", 
                        "text/html": "\n        <div style=\"margin:10px\">\n            <a href=\"https://github.com/ibm-watson-data-lab/pixiedust\" target=\"_new\">\n                <img src=\"https://github.com/ibm-watson-data-lab/pixiedust/raw/master/docs/_static/pd_icon32.png\" style=\"float:left;margin-right:10px\"/>\n            </a>\n            <span>Pixiedust version 1.1.0.1</span>\n        </div>\n        "
                    }
                }, 
                {
                    "metadata": {}, 
                    "output_type": "display_data", 
                    "data": {
                        "text/plain": "<IPython.core.display.HTML object>", 
                        "text/html": "<div>Warning: You are not running the latest version of PixieDust. Current is 1.1.0.1, Latest is 1.1.1</div>"
                    }
                }, 
                {
                    "metadata": {}, 
                    "output_type": "display_data", 
                    "data": {
                        "text/plain": "<IPython.core.display.HTML object>", 
                        "text/html": "\n                <div>Please copy and run the following command in a new cell to upgrade: <span style=\"background-color:#ececec;font-family:monospace;padding:0 5px\">!pip install --user --upgrade pixiedust</span></div>\n            "
                    }
                }, 
                {
                    "metadata": {}, 
                    "output_type": "display_data", 
                    "data": {
                        "text/plain": "<IPython.core.display.HTML object>", 
                        "text/html": "<div>Please restart kernel after upgrading.</div>"
                    }
                }
            ], 
            "cell_type": "code"
        }, 
        {
            "execution_count": 4, 
            "source": "!pip install --user --upgrade pixiedust", 
            "metadata": {}, 
            "outputs": [
                {
                    "name": "stdout", 
                    "output_type": "stream", 
                    "text": "Collecting pixiedust\n  Downloading pixiedust-1.1.1.tar.gz (168kB)\n\u001b[K    100% |\u2588\u2588\u2588\u2588\u2588\u2588\u2588\u2588\u2588\u2588\u2588\u2588\u2588\u2588\u2588\u2588\u2588\u2588\u2588\u2588\u2588\u2588\u2588\u2588\u2588\u2588\u2588\u2588\u2588\u2588\u2588\u2588| 174kB 4.0MB/s eta 0:00:01\n\u001b[?25hCollecting mpld3 (from pixiedust)\n  Downloading mpld3-0.3.tar.gz (788kB)\n\u001b[K    100% |\u2588\u2588\u2588\u2588\u2588\u2588\u2588\u2588\u2588\u2588\u2588\u2588\u2588\u2588\u2588\u2588\u2588\u2588\u2588\u2588\u2588\u2588\u2588\u2588\u2588\u2588\u2588\u2588\u2588\u2588\u2588\u2588| 798kB 1.4MB/s eta 0:00:01\n\u001b[?25hCollecting lxml (from pixiedust)\n  Downloading lxml-4.1.0-cp27-cp27mu-manylinux1_x86_64.whl (5.6MB)\n\u001b[K    100% |\u2588\u2588\u2588\u2588\u2588\u2588\u2588\u2588\u2588\u2588\u2588\u2588\u2588\u2588\u2588\u2588\u2588\u2588\u2588\u2588\u2588\u2588\u2588\u2588\u2588\u2588\u2588\u2588\u2588\u2588\u2588\u2588| 5.6MB 204kB/s eta 0:00:01\n\u001b[?25hCollecting geojson (from pixiedust)\n  Downloading geojson-2.3.0-py2.py3-none-any.whl\nCollecting jupyter_kernel_gateway (from pixiedust)\n  Downloading jupyter_kernel_gateway-2.0.1-py2.py3-none-any.whl (45kB)\n\u001b[K    100% |\u2588\u2588\u2588\u2588\u2588\u2588\u2588\u2588\u2588\u2588\u2588\u2588\u2588\u2588\u2588\u2588\u2588\u2588\u2588\u2588\u2588\u2588\u2588\u2588\u2588\u2588\u2588\u2588\u2588\u2588\u2588\u2588| 51kB 8.0MB/s eta 0:00:01\n\u001b[?25hRequirement already up-to-date: astunparse in /usr/local/src/bluemix_jupyter_bundle.v69/notebook/lib/python2.7/site-packages (from pixiedust)\nCollecting traitlets>=4.2.0 (from jupyter_kernel_gateway->pixiedust)\n  Downloading traitlets-4.3.2-py2.py3-none-any.whl (74kB)\n\u001b[K    100% |\u2588\u2588\u2588\u2588\u2588\u2588\u2588\u2588\u2588\u2588\u2588\u2588\u2588\u2588\u2588\u2588\u2588\u2588\u2588\u2588\u2588\u2588\u2588\u2588\u2588\u2588\u2588\u2588\u2588\u2588\u2588\u2588| 81kB 2.7MB/s eta 0:00:01\n\u001b[?25hCollecting tornado>=4.2.0 (from jupyter_kernel_gateway->pixiedust)\n  Downloading tornado-4.5.2.tar.gz (483kB)\n\u001b[K    100% |\u2588\u2588\u2588\u2588\u2588\u2588\u2588\u2588\u2588\u2588\u2588\u2588\u2588\u2588\u2588\u2588\u2588\u2588\u2588\u2588\u2588\u2588\u2588\u2588\u2588\u2588\u2588\u2588\u2588\u2588\u2588\u2588| 491kB 1.7MB/s eta 0:00:01\n\u001b[?25hRequirement already up-to-date: jupyter-client>=4.2.0 in /usr/local/src/bluemix_jupyter_bundle.v69/notebook/lib/python2.7/site-packages (from jupyter_kernel_gateway->pixiedust)\nRequirement already up-to-date: requests<3.0,>=2.7 in /usr/local/src/bluemix_jupyter_bundle.v69/notebook/lib/python2.7/site-packages (from jupyter_kernel_gateway->pixiedust)\nCollecting jupyter-core>=4.0 (from jupyter_kernel_gateway->pixiedust)\n  Downloading jupyter_core-4.4.0-py2.py3-none-any.whl (126kB)\n\u001b[K    100% |\u2588\u2588\u2588\u2588\u2588\u2588\u2588\u2588\u2588\u2588\u2588\u2588\u2588\u2588\u2588\u2588\u2588\u2588\u2588\u2588\u2588\u2588\u2588\u2588\u2588\u2588\u2588\u2588\u2588\u2588\u2588\u2588| 133kB 1.9MB/s eta 0:00:01\n\u001b[?25hCollecting notebook<6.0,>=5.0.0 (from jupyter_kernel_gateway->pixiedust)\n  Downloading notebook-5.2.0-py2.py3-none-any.whl (8.0MB)\n\u001b[K    100% |\u2588\u2588\u2588\u2588\u2588\u2588\u2588\u2588\u2588\u2588\u2588\u2588\u2588\u2588\u2588\u2588\u2588\u2588\u2588\u2588\u2588\u2588\u2588\u2588\u2588\u2588\u2588\u2588\u2588\u2588\u2588\u2588| 8.0MB 153kB/s eta 0:00:01\n\u001b[?25hCollecting six<2.0,>=1.6.1 (from astunparse->pixiedust)\n  Downloading six-1.11.0-py2.py3-none-any.whl\nCollecting wheel<1.0,>=0.23.0 (from astunparse->pixiedust)\n  Downloading wheel-0.30.0-py2.py3-none-any.whl (49kB)\n\u001b[K    100% |\u2588\u2588\u2588\u2588\u2588\u2588\u2588\u2588\u2588\u2588\u2588\u2588\u2588\u2588\u2588\u2588\u2588\u2588\u2588\u2588\u2588\u2588\u2588\u2588\u2588\u2588\u2588\u2588\u2588\u2588\u2588\u2588| 51kB 4.9MB/s eta 0:00:01\n\u001b[?25hCollecting enum34; python_version == \"2.7\" (from traitlets>=4.2.0->jupyter_kernel_gateway->pixiedust)\n  Downloading enum34-1.1.6-py2-none-any.whl\nCollecting ipython-genutils (from traitlets>=4.2.0->jupyter_kernel_gateway->pixiedust)\n  Downloading ipython_genutils-0.2.0-py2.py3-none-any.whl\nCollecting decorator (from traitlets>=4.2.0->jupyter_kernel_gateway->pixiedust)\n  Downloading decorator-4.1.2-py2.py3-none-any.whl\nRequirement already up-to-date: singledispatch in /usr/local/src/bluemix_jupyter_bundle.v69/notebook/lib/python2.7/site-packages (from tornado>=4.2.0->jupyter_kernel_gateway->pixiedust)\nRequirement already up-to-date: certifi in /usr/local/src/bluemix_jupyter_bundle.v69/notebook/lib/python2.7/site-packages (from tornado>=4.2.0->jupyter_kernel_gateway->pixiedust)\nCollecting backports_abc>=0.4 (from tornado>=4.2.0->jupyter_kernel_gateway->pixiedust)\n  Downloading backports_abc-0.5-py2.py3-none-any.whl\nCollecting pyzmq>=13 (from jupyter-client>=4.2.0->jupyter_kernel_gateway->pixiedust)\n  Downloading pyzmq-16.0.3-cp27-cp27mu-manylinux1_x86_64.whl (3.0MB)\n\u001b[K    100% |\u2588\u2588\u2588\u2588\u2588\u2588\u2588\u2588\u2588\u2588\u2588\u2588\u2588\u2588\u2588\u2588\u2588\u2588\u2588\u2588\u2588\u2588\u2588\u2588\u2588\u2588\u2588\u2588\u2588\u2588\u2588\u2588| 3.0MB 418kB/s eta 0:00:01\n\u001b[?25hCollecting python-dateutil>=2.1 (from jupyter-client>=4.2.0->jupyter_kernel_gateway->pixiedust)\n  Downloading python_dateutil-2.6.1-py2.py3-none-any.whl (194kB)\n\u001b[K    100% |\u2588\u2588\u2588\u2588\u2588\u2588\u2588\u2588\u2588\u2588\u2588\u2588\u2588\u2588\u2588\u2588\u2588\u2588\u2588\u2588\u2588\u2588\u2588\u2588\u2588\u2588\u2588\u2588\u2588\u2588\u2588\u2588| 194kB 5.6MB/s eta 0:00:01\n\u001b[?25hRequirement already up-to-date: urllib3<1.23,>=1.21.1 in /usr/local/src/bluemix_jupyter_bundle.v69/notebook/lib/python2.7/site-packages (from requests<3.0,>=2.7->jupyter_kernel_gateway->pixiedust)\nRequirement already up-to-date: idna<2.7,>=2.5 in /usr/local/src/bluemix_jupyter_bundle.v69/notebook/lib/python2.7/site-packages (from requests<3.0,>=2.7->jupyter_kernel_gateway->pixiedust)\nCollecting chardet<3.1.0,>=3.0.2 (from requests<3.0,>=2.7->jupyter_kernel_gateway->pixiedust)\n  Downloading chardet-3.0.4-py2.py3-none-any.whl (133kB)\n\u001b[K    100% |\u2588\u2588\u2588\u2588\u2588\u2588\u2588\u2588\u2588\u2588\u2588\u2588\u2588\u2588\u2588\u2588\u2588\u2588\u2588\u2588\u2588\u2588\u2588\u2588\u2588\u2588\u2588\u2588\u2588\u2588\u2588\u2588| 143kB 7.8MB/s eta 0:00:01\n\u001b[?25hCollecting nbconvert (from notebook<6.0,>=5.0.0->jupyter_kernel_gateway->pixiedust)\n  Downloading nbconvert-5.3.1-py2.py3-none-any.whl (387kB)\n\u001b[K    100% |\u2588\u2588\u2588\u2588\u2588\u2588\u2588\u2588\u2588\u2588\u2588\u2588\u2588\u2588\u2588\u2588\u2588\u2588\u2588\u2588\u2588\u2588\u2588\u2588\u2588\u2588\u2588\u2588\u2588\u2588\u2588\u2588| 389kB 3.2MB/s eta 0:00:01\n\u001b[?25hCollecting terminado>=0.3.3; sys_platform != \"win32\" (from notebook<6.0,>=5.0.0->jupyter_kernel_gateway->pixiedust)\n  Downloading terminado-0.6.tar.gz\nRequirement already up-to-date: ipykernel in /usr/local/src/bluemix_jupyter_bundle.v69/notebook/lib/python2.7/site-packages (from notebook<6.0,>=5.0.0->jupyter_kernel_gateway->pixiedust)\nCollecting nbformat (from notebook<6.0,>=5.0.0->jupyter_kernel_gateway->pixiedust)\n  Downloading nbformat-4.4.0-py2.py3-none-any.whl (155kB)\n\u001b[K    100% |\u2588\u2588\u2588\u2588\u2588\u2588\u2588\u2588\u2588\u2588\u2588\u2588\u2588\u2588\u2588\u2588\u2588\u2588\u2588\u2588\u2588\u2588\u2588\u2588\u2588\u2588\u2588\u2588\u2588\u2588\u2588\u2588| 163kB 617kB/s eta 0:00:01\n\u001b[?25hCollecting jinja2 (from notebook<6.0,>=5.0.0->jupyter_kernel_gateway->pixiedust)\n  Downloading Jinja2-2.9.6-py2.py3-none-any.whl (340kB)\n\u001b[K    100% |\u2588\u2588\u2588\u2588\u2588\u2588\u2588\u2588\u2588\u2588\u2588\u2588\u2588\u2588\u2588\u2588\u2588\u2588\u2588\u2588\u2588\u2588\u2588\u2588\u2588\u2588\u2588\u2588\u2588\u2588\u2588\u2588| 348kB 1.8MB/s eta 0:00:01\n\u001b[?25hCollecting pygments (from nbconvert->notebook<6.0,>=5.0.0->jupyter_kernel_gateway->pixiedust)\n  Downloading Pygments-2.2.0-py2.py3-none-any.whl (841kB)\n\u001b[K    100% |\u2588\u2588\u2588\u2588\u2588\u2588\u2588\u2588\u2588\u2588\u2588\u2588\u2588\u2588\u2588\u2588\u2588\u2588\u2588\u2588\u2588\u2588\u2588\u2588\u2588\u2588\u2588\u2588\u2588\u2588\u2588\u2588| 849kB 1.5MB/s eta 0:00:01\n\u001b[?25hCollecting pandocfilters>=1.4.1 (from nbconvert->notebook<6.0,>=5.0.0->jupyter_kernel_gateway->pixiedust)\n  Downloading pandocfilters-1.4.2.tar.gz\nRequirement already up-to-date: testpath in /usr/local/src/bluemix_jupyter_bundle.v69/notebook/lib/python2.7/site-packages (from nbconvert->notebook<6.0,>=5.0.0->jupyter_kernel_gateway->pixiedust)\nCollecting entrypoints>=0.2.2 (from nbconvert->notebook<6.0,>=5.0.0->jupyter_kernel_gateway->pixiedust)\n  Downloading entrypoints-0.2.3-py2.py3-none-any.whl\nCollecting mistune>=0.7.4 (from nbconvert->notebook<6.0,>=5.0.0->jupyter_kernel_gateway->pixiedust)\n  Downloading mistune-0.8-py2.py3-none-any.whl\nCollecting bleach (from nbconvert->notebook<6.0,>=5.0.0->jupyter_kernel_gateway->pixiedust)\n  Downloading bleach-2.1.1-py2.py3-none-any.whl\nCollecting ptyprocess (from terminado>=0.3.3; sys_platform != \"win32\"->notebook<6.0,>=5.0.0->jupyter_kernel_gateway->pixiedust)\n  Downloading ptyprocess-0.5.2-py2.py3-none-any.whl\nCollecting ipython>=4.0.0 (from ipykernel->notebook<6.0,>=5.0.0->jupyter_kernel_gateway->pixiedust)\n  Downloading ipython-5.5.0-py2-none-any.whl (758kB)\n\u001b[K    100% |\u2588\u2588\u2588\u2588\u2588\u2588\u2588\u2588\u2588\u2588\u2588\u2588\u2588\u2588\u2588\u2588\u2588\u2588\u2588\u2588\u2588\u2588\u2588\u2588\u2588\u2588\u2588\u2588\u2588\u2588\u2588\u2588| 768kB 1.6MB/s eta 0:00:01\n\u001b[?25hCollecting jsonschema!=2.5.0,>=2.4 (from nbformat->notebook<6.0,>=5.0.0->jupyter_kernel_gateway->pixiedust)\n  Downloading jsonschema-2.6.0-py2.py3-none-any.whl\nCollecting MarkupSafe>=0.23 (from jinja2->notebook<6.0,>=5.0.0->jupyter_kernel_gateway->pixiedust)\n  Downloading MarkupSafe-1.0.tar.gz\nRequirement already up-to-date: configparser>=3.5; python_version == \"2.7\" in /usr/local/src/bluemix_jupyter_bundle.v69/notebook/lib/python2.7/site-packages (from entrypoints>=0.2.2->nbconvert->notebook<6.0,>=5.0.0->jupyter_kernel_gateway->pixiedust)\nCollecting html5lib!=1.0b1,!=1.0b2,!=1.0b3,!=1.0b4,!=1.0b5,!=1.0b6,!=1.0b7,!=1.0b8,>=0.99999999pre (from bleach->nbconvert->notebook<6.0,>=5.0.0->jupyter_kernel_gateway->pixiedust)\n  Downloading html5lib-1.0b10-py2.py3-none-any.whl (112kB)\n\u001b[K    100% |\u2588\u2588\u2588\u2588\u2588\u2588\u2588\u2588\u2588\u2588\u2588\u2588\u2588\u2588\u2588\u2588\u2588\u2588\u2588\u2588\u2588\u2588\u2588\u2588\u2588\u2588\u2588\u2588\u2588\u2588\u2588\u2588| 112kB 8.6MB/s eta 0:00:01\n\u001b[?25hCollecting setuptools>=18.5 (from ipython>=4.0.0->ipykernel->notebook<6.0,>=5.0.0->jupyter_kernel_gateway->pixiedust)\n  Downloading setuptools-36.6.0-py2.py3-none-any.whl (481kB)\n\u001b[K    100% |\u2588\u2588\u2588\u2588\u2588\u2588\u2588\u2588\u2588\u2588\u2588\u2588\u2588\u2588\u2588\u2588\u2588\u2588\u2588\u2588\u2588\u2588\u2588\u2588\u2588\u2588\u2588\u2588\u2588\u2588\u2588\u2588| 481kB 2.4MB/s eta 0:00:01\n\u001b[?25hCollecting prompt-toolkit<2.0.0,>=1.0.4 (from ipython>=4.0.0->ipykernel->notebook<6.0,>=5.0.0->jupyter_kernel_gateway->pixiedust)\n  Downloading prompt_toolkit-1.0.15-py2-none-any.whl (247kB)\n\u001b[K    100% |\u2588\u2588\u2588\u2588\u2588\u2588\u2588\u2588\u2588\u2588\u2588\u2588\u2588\u2588\u2588\u2588\u2588\u2588\u2588\u2588\u2588\u2588\u2588\u2588\u2588\u2588\u2588\u2588\u2588\u2588\u2588\u2588| 256kB 4.7MB/s eta 0:00:01\n\u001b[?25hRequirement already up-to-date: backports.shutil-get-terminal-size; python_version == \"2.7\" in /usr/local/src/bluemix_jupyter_bundle.v69/notebook/lib/python2.7/site-packages (from ipython>=4.0.0->ipykernel->notebook<6.0,>=5.0.0->jupyter_kernel_gateway->pixiedust)\nCollecting pickleshare (from ipython>=4.0.0->ipykernel->notebook<6.0,>=5.0.0->jupyter_kernel_gateway->pixiedust)\n  Downloading pickleshare-0.7.4-py2.py3-none-any.whl\nCollecting pexpect; sys_platform != \"win32\" (from ipython>=4.0.0->ipykernel->notebook<6.0,>=5.0.0->jupyter_kernel_gateway->pixiedust)\n  Downloading pexpect-4.2.1-py2.py3-none-any.whl (55kB)\n\u001b[K    100% |\u2588\u2588\u2588\u2588\u2588\u2588\u2588\u2588\u2588\u2588\u2588\u2588\u2588\u2588\u2588\u2588\u2588\u2588\u2588\u2588\u2588\u2588\u2588\u2588\u2588\u2588\u2588\u2588\u2588\u2588\u2588\u2588| 61kB 8.4MB/s eta 0:00:01\n\u001b[?25hCollecting pathlib2; python_version == \"2.7\" or python_version == \"3.3\" (from ipython>=4.0.0->ipykernel->notebook<6.0,>=5.0.0->jupyter_kernel_gateway->pixiedust)\n  Downloading pathlib2-2.3.0-py2.py3-none-any.whl\nRequirement already up-to-date: simplegeneric>0.8 in /usr/local/src/bluemix_jupyter_bundle.v69/notebook/lib/python2.7/site-packages (from ipython>=4.0.0->ipykernel->notebook<6.0,>=5.0.0->jupyter_kernel_gateway->pixiedust)\nRequirement already up-to-date: functools32; python_version == \"2.7\" in /usr/local/src/bluemix_jupyter_bundle.v69/notebook/lib/python2.7/site-packages (from jsonschema!=2.5.0,>=2.4->nbformat->notebook<6.0,>=5.0.0->jupyter_kernel_gateway->pixiedust)\nRequirement already up-to-date: webencodings in /usr/local/src/bluemix_jupyter_bundle.v69/notebook/lib/python2.7/site-packages (from html5lib!=1.0b1,!=1.0b2,!=1.0b3,!=1.0b4,!=1.0b5,!=1.0b6,!=1.0b7,!=1.0b8,>=0.99999999pre->bleach->nbconvert->notebook<6.0,>=5.0.0->jupyter_kernel_gateway->pixiedust)\nRequirement already up-to-date: wcwidth in /usr/local/src/bluemix_jupyter_bundle.v69/notebook/lib/python2.7/site-packages (from prompt-toolkit<2.0.0,>=1.0.4->ipython>=4.0.0->ipykernel->notebook<6.0,>=5.0.0->jupyter_kernel_gateway->pixiedust)\nCollecting scandir; python_version < \"3.5\" (from pathlib2; python_version == \"2.7\" or python_version == \"3.3\"->ipython>=4.0.0->ipykernel->notebook<6.0,>=5.0.0->jupyter_kernel_gateway->pixiedust)\n  Downloading scandir-1.6.tar.gz\nBuilding wheels for collected packages: pixiedust, mpld3, tornado, terminado, pandocfilters, MarkupSafe, scandir\n  Running setup.py bdist_wheel for pixiedust ... \u001b[?25ldone\n\u001b[?25h  Stored in directory: /gpfs/fs01/user/sd78-6abf89da5147f6-d87d304b3991/.cache/pip/wheels/b1/3a/91/bd59025e8c17f7a41e230948bcdbb95dd17606cf9db053ff7f\n  Running setup.py bdist_wheel for mpld3 ... \u001b[?25ldone\n\u001b[?25h  Stored in directory: /gpfs/fs01/user/sd78-6abf89da5147f6-d87d304b3991/.cache/pip/wheels/69/bc/68/7ca3b696749d183e998968fc24b0ff3c5e119d9e68bf495b07\n  Running setup.py bdist_wheel for tornado ... \u001b[?25ldone\n\u001b[?25h  Stored in directory: /gpfs/fs01/user/sd78-6abf89da5147f6-d87d304b3991/.cache/pip/wheels/b3/47/3a/96e12476829cb196adabc879fedb72f1bb2c8613b6961e78e7\n  Running setup.py bdist_wheel for terminado ... \u001b[?25ldone\n\u001b[?25h  Stored in directory: /gpfs/fs01/user/sd78-6abf89da5147f6-d87d304b3991/.cache/pip/wheels/3b/c2/ea/af635ffb63857a8c2ddd22da6a4b52f5b7ea3065db94ef5d7c\n  Running setup.py bdist_wheel for pandocfilters ... \u001b[?25ldone\n\u001b[?25h  Stored in directory: /gpfs/fs01/user/sd78-6abf89da5147f6-d87d304b3991/.cache/pip/wheels/08/5b/5b/66b3cde6f8215f8345479ef3699d6ddbb860f6ea7072008f8b\n  Running setup.py bdist_wheel for MarkupSafe ... \u001b[?25ldone\n\u001b[?25h  Stored in directory: /gpfs/fs01/user/sd78-6abf89da5147f6-d87d304b3991/.cache/pip/wheels/88/a7/30/e39a54a87bcbe25308fa3ca64e8ddc75d9b3e5afa21ee32d57\n  Running setup.py bdist_wheel for scandir ... \u001b[?25ldone\n\u001b[?25h  Stored in directory: /gpfs/fs01/user/sd78-6abf89da5147f6-d87d304b3991/.cache/pip/wheels/6e/33/69/090d9633efb6fe3c8077c40e1676819ed8d5a59b41cc9a5bea\nSuccessfully built pixiedust mpld3 tornado terminado pandocfilters MarkupSafe scandir\nInstalling collected packages: mpld3, lxml, geojson, enum34, six, ipython-genutils, decorator, traitlets, backports-abc, tornado, jupyter-core, pygments, MarkupSafe, jinja2, pandocfilters, entrypoints, jsonschema, nbformat, mistune, setuptools, html5lib, bleach, nbconvert, ptyprocess, terminado, notebook, jupyter-kernel-gateway, pixiedust, wheel, pyzmq, python-dateutil, chardet, prompt-toolkit, scandir, pathlib2, pickleshare, pexpect, ipython\nSuccessfully installed MarkupSafe-1.0 backports-abc-0.5 bleach-2.1.1 chardet-3.0.4 decorator-4.1.2 entrypoints-0.2.3 enum34-1.1.6 geojson-2.3.0 html5lib-1.0b10 ipython-5.5.0 ipython-genutils-0.2.0 jinja2-2.9.6 jsonschema-2.6.0 jupyter-core-4.4.0 jupyter-kernel-gateway-2.0.1 lxml-4.1.0 mistune-0.8 mpld3-0.3 nbconvert-5.3.1 nbformat-4.4.0 notebook-5.2.0 pandocfilters-1.4.2 pathlib2-2.3.0 pexpect-4.2.1 pickleshare-0.7.4 pixiedust-1.1.1 prompt-toolkit-1.0.15 ptyprocess-0.5.2 pygments-2.2.0 python-dateutil-2.6.1 pyzmq-16.0.3 scandir-1.6 setuptools-36.6.0 six-1.11.0 terminado-0.6 tornado-4.5.2 traitlets-4.3.2 wheel-0.30.0\n"
                }
            ], 
            "cell_type": "code"
        }, 
        {
            "execution_count": 1, 
            "source": "import jaydebeapi\nfrom ibmdbpy import IdaDataBase\nfrom ibmdbpy import IdaDataFrame", 
            "metadata": {
                "collapsed": true
            }, 
            "outputs": [], 
            "cell_type": "code"
        }, 
        {
            "execution_count": 2, 
            "source": "import pixiedust\n\n", 
            "metadata": {}, 
            "outputs": [
                {
                    "name": "stdout", 
                    "output_type": "stream", 
                    "text": "Pixiedust database opened successfully\n"
                }, 
                {
                    "metadata": {}, 
                    "output_type": "display_data", 
                    "data": {
                        "text/plain": "<IPython.core.display.HTML object>", 
                        "text/html": "\n        <div style=\"margin:10px\">\n            <a href=\"https://github.com/ibm-watson-data-lab/pixiedust\" target=\"_new\">\n                <img src=\"https://github.com/ibm-watson-data-lab/pixiedust/raw/master/docs/_static/pd_icon32.png\" style=\"float:left;margin-right:10px\"/>\n            </a>\n            <span>Pixiedust version upgraded from 1.1.0.1 to 1.1.1</span>\n        </div>\n        "
                    }
                }
            ], 
            "cell_type": "code"
        }, 
        {
            "execution_count": 3, 
            "source": "pixiedust.installPackage(\"file:///usr/local/src/data-connectors-1.4.1/db2jcc4-10.5.0.6.jar\")", 
            "metadata": {}, 
            "outputs": [
                {
                    "name": "stdout", 
                    "output_type": "stream", 
                    "text": "Package already installed: file:///usr/local/src/data-connectors-1.4.1/db2jcc4-10.5.0.6.jar\n"
                }, 
                {
                    "metadata": {}, 
                    "output_type": "execute_result", 
                    "execution_count": 3, 
                    "data": {
                        "text/plain": "<pixiedust.packageManager.package.Package at 0x7fde650bdd90>"
                    }
                }
            ], 
            "cell_type": "code"
        }, 
        {
            "execution_count": 4, 
            "source": "# The code was removed by DSX for sharing.", 
            "metadata": {
                "collapsed": true
            }, 
            "outputs": [], 
            "cell_type": "code"
        }, 
        {
            "execution_count": 5, 
            "source": "connection_string='DASHDB;Database={db};Hostname={hostname};Port={port};PROTOCOL=TCPIP;UID={username};PWD={password}'.format(**credentials_1)\nidadb = IdaDataBase(dsn=connection_string)", 
            "metadata": {
                "collapsed": true
            }, 
            "outputs": [], 
            "cell_type": "code"
        }, 
        {
            "execution_count": 6, 
            "source": "df = idadb.show_tables(show_all = True)\ndf.head(10)", 
            "metadata": {
                "scrolled": true
            }, 
            "outputs": [
                {
                    "metadata": {}, 
                    "output_type": "execute_result", 
                    "execution_count": 6, 
                    "data": {
                        "text/plain": "   TABSCHEMA                   TABNAME      OWNER TYPE\n0  DASH11481  FEMALE_HUMAN_TRAFFICKING  DASH11481    T\n1    GOSALES                    BRANCH   DB2INST1    T\n2    GOSALES           CONVERSION_RATE   DB2INST1    T\n3    GOSALES                   COUNTRY   DB2INST1    T\n4    GOSALES           CURRENCY_LOOKUP   DB2INST1    T\n5    GOSALES           EURO_CONVERSION   DB2INST1    T\n6    GOSALES          INVENTORY_LEVELS   DB2INST1    T\n7    GOSALES             ORDER_DETAILS   DB2INST1    T\n8    GOSALES              ORDER_HEADER   DB2INST1    T\n9    GOSALES              ORDER_METHOD   DB2INST1    T", 
                        "text/html": "<div>\n<table border=\"1\" class=\"dataframe\">\n  <thead>\n    <tr style=\"text-align: right;\">\n      <th></th>\n      <th>TABSCHEMA</th>\n      <th>TABNAME</th>\n      <th>OWNER</th>\n      <th>TYPE</th>\n    </tr>\n  </thead>\n  <tbody>\n    <tr>\n      <th>0</th>\n      <td>DASH11481</td>\n      <td>FEMALE_HUMAN_TRAFFICKING</td>\n      <td>DASH11481</td>\n      <td>T</td>\n    </tr>\n    <tr>\n      <th>1</th>\n      <td>GOSALES</td>\n      <td>BRANCH</td>\n      <td>DB2INST1</td>\n      <td>T</td>\n    </tr>\n    <tr>\n      <th>2</th>\n      <td>GOSALES</td>\n      <td>CONVERSION_RATE</td>\n      <td>DB2INST1</td>\n      <td>T</td>\n    </tr>\n    <tr>\n      <th>3</th>\n      <td>GOSALES</td>\n      <td>COUNTRY</td>\n      <td>DB2INST1</td>\n      <td>T</td>\n    </tr>\n    <tr>\n      <th>4</th>\n      <td>GOSALES</td>\n      <td>CURRENCY_LOOKUP</td>\n      <td>DB2INST1</td>\n      <td>T</td>\n    </tr>\n    <tr>\n      <th>5</th>\n      <td>GOSALES</td>\n      <td>EURO_CONVERSION</td>\n      <td>DB2INST1</td>\n      <td>T</td>\n    </tr>\n    <tr>\n      <th>6</th>\n      <td>GOSALES</td>\n      <td>INVENTORY_LEVELS</td>\n      <td>DB2INST1</td>\n      <td>T</td>\n    </tr>\n    <tr>\n      <th>7</th>\n      <td>GOSALES</td>\n      <td>ORDER_DETAILS</td>\n      <td>DB2INST1</td>\n      <td>T</td>\n    </tr>\n    <tr>\n      <th>8</th>\n      <td>GOSALES</td>\n      <td>ORDER_HEADER</td>\n      <td>DB2INST1</td>\n      <td>T</td>\n    </tr>\n    <tr>\n      <th>9</th>\n      <td>GOSALES</td>\n      <td>ORDER_METHOD</td>\n      <td>DB2INST1</td>\n      <td>T</td>\n    </tr>\n  </tbody>\n</table>\n</div>"
                    }
                }
            ], 
            "cell_type": "code"
        }, 
        {
            "execution_count": 7, 
            "source": "idadb.exists_table_or_view('GOSALESDW.EMP_EXPENSE_FACT')", 
            "metadata": {}, 
            "outputs": [
                {
                    "metadata": {}, 
                    "output_type": "execute_result", 
                    "execution_count": 7, 
                    "data": {
                        "text/plain": "True"
                    }
                }
            ], 
            "cell_type": "code"
        }, 
        {
            "execution_count": 11, 
            "source": "# The code was removed by DSX for sharing.", 
            "metadata": {}, 
            "outputs": [
                {
                    "metadata": {}, 
                    "output_type": "execute_result", 
                    "execution_count": 11, 
                    "data": {
                        "text/plain": "   INTERNAL_ID  VETTING_LEVEL DESCRIPTION  VETTING_LEVEL_PREDICTION  \\\n0            1            100          NA                        30   \n1            2             30          NA                        30   \n2            3            100          NA                        30   \n3            4            100          NA                        30   \n4            5             30          NA                        30   \n\n  ALGORITHM_NAME                      NAME GENDER  BIRTH_DATE BIRTH_COUNTRY  \\\n0  DECISION_TREE           Kathleen Bailey      F  1985-11-27         Ghana   \n1  DECISION_TREE             Kelly Robbins      F  1971-01-17      Pakistan   \n2  DECISION_TREE             Linda Stewart      F  1997-04-15         Ghana   \n3  DECISION_TREE  Stacey Courtney Gonzalez      F  1984-03-27         Ghana   \n4  DECISION_TREE        Erika Patie Fowler      F  1998-06-18         Ghana   \n\n  BIRTH_COUNTRY_CODE ... ARRIVAL_AIRPORT_COUNTRY_CODE ARRIVAL_AIRPORT_IATA  \\\n0                 GH ...                           US                  BMI   \n1                 PK ...                           US                  CLE   \n2                 GH ...                           US                  TPA   \n3                 GH ...                           US                  TOL   \n4                 GH ...                           US                  FWA   \n\n  ARRIVAL_AIRPORT_MUNICIPALITY  ARRIVAL_AIRPORT_REGION  \\\n0           Bloomington/Normal                   US-IL   \n1                    Cleveland                   US-OH   \n2                        Tampa                   US-FL   \n3                       Toledo                   US-OH   \n4                   Fort Wayne                   US-IN   \n\n  DEPARTURE_AIRPORT_COUNTRY_CODE DEPARTURE_AIRPORT_IATA  \\\n0                             AE                    AUH   \n1                             UA                    KBP   \n2                             RU                    KJA   \n3                             RU                    AER   \n4                             IE                    ORK   \n\n  DEPARTURE_AIRPORT_MUNICIPALITY  DEPARTURE_AIRPORT_REGION  \\\n0                      Abu Dhabi                     AE-AZ   \n1                           Kiev                     UA-32   \n2                    Krasnoyarsk                    RU-KYA   \n3                          Sochi                    RU-KDA   \n4                           Cork                      IE-C   \n\n                                   UUID AGE  \n0  81d28245-a6d4-40e3-bac0-df61cc6625ce  31  \n1  b4d817b3-2154-4351-b0e3-bcd736a76bf5  46  \n2  a52a6477-1f5e-4b09-a5e3-f76333a7eb10  19  \n3  5fcbbf15-8268-4306-ac26-406c2faae251  32  \n4  6d1fe59a-6828-4bc5-9ded-2194aa238461  18  \n\n[5 rows x 28 columns]", 
                        "text/html": "<div>\n<table border=\"1\" class=\"dataframe\">\n  <thead>\n    <tr style=\"text-align: right;\">\n      <th></th>\n      <th>INTERNAL_ID</th>\n      <th>VETTING_LEVEL</th>\n      <th>DESCRIPTION</th>\n      <th>VETTING_LEVEL_PREDICTION</th>\n      <th>ALGORITHM_NAME</th>\n      <th>NAME</th>\n      <th>GENDER</th>\n      <th>BIRTH_DATE</th>\n      <th>BIRTH_COUNTRY</th>\n      <th>BIRTH_COUNTRY_CODE</th>\n      <th>...</th>\n      <th>ARRIVAL_AIRPORT_COUNTRY_CODE</th>\n      <th>ARRIVAL_AIRPORT_IATA</th>\n      <th>ARRIVAL_AIRPORT_MUNICIPALITY</th>\n      <th>ARRIVAL_AIRPORT_REGION</th>\n      <th>DEPARTURE_AIRPORT_COUNTRY_CODE</th>\n      <th>DEPARTURE_AIRPORT_IATA</th>\n      <th>DEPARTURE_AIRPORT_MUNICIPALITY</th>\n      <th>DEPARTURE_AIRPORT_REGION</th>\n      <th>UUID</th>\n      <th>AGE</th>\n    </tr>\n  </thead>\n  <tbody>\n    <tr>\n      <th>0</th>\n      <td>1</td>\n      <td>100</td>\n      <td>NA</td>\n      <td>30</td>\n      <td>DECISION_TREE</td>\n      <td>Kathleen Bailey</td>\n      <td>F</td>\n      <td>1985-11-27</td>\n      <td>Ghana</td>\n      <td>GH</td>\n      <td>...</td>\n      <td>US</td>\n      <td>BMI</td>\n      <td>Bloomington/Normal</td>\n      <td>US-IL</td>\n      <td>AE</td>\n      <td>AUH</td>\n      <td>Abu Dhabi</td>\n      <td>AE-AZ</td>\n      <td>81d28245-a6d4-40e3-bac0-df61cc6625ce</td>\n      <td>31</td>\n    </tr>\n    <tr>\n      <th>1</th>\n      <td>2</td>\n      <td>30</td>\n      <td>NA</td>\n      <td>30</td>\n      <td>DECISION_TREE</td>\n      <td>Kelly Robbins</td>\n      <td>F</td>\n      <td>1971-01-17</td>\n      <td>Pakistan</td>\n      <td>PK</td>\n      <td>...</td>\n      <td>US</td>\n      <td>CLE</td>\n      <td>Cleveland</td>\n      <td>US-OH</td>\n      <td>UA</td>\n      <td>KBP</td>\n      <td>Kiev</td>\n      <td>UA-32</td>\n      <td>b4d817b3-2154-4351-b0e3-bcd736a76bf5</td>\n      <td>46</td>\n    </tr>\n    <tr>\n      <th>2</th>\n      <td>3</td>\n      <td>100</td>\n      <td>NA</td>\n      <td>30</td>\n      <td>DECISION_TREE</td>\n      <td>Linda Stewart</td>\n      <td>F</td>\n      <td>1997-04-15</td>\n      <td>Ghana</td>\n      <td>GH</td>\n      <td>...</td>\n      <td>US</td>\n      <td>TPA</td>\n      <td>Tampa</td>\n      <td>US-FL</td>\n      <td>RU</td>\n      <td>KJA</td>\n      <td>Krasnoyarsk</td>\n      <td>RU-KYA</td>\n      <td>a52a6477-1f5e-4b09-a5e3-f76333a7eb10</td>\n      <td>19</td>\n    </tr>\n    <tr>\n      <th>3</th>\n      <td>4</td>\n      <td>100</td>\n      <td>NA</td>\n      <td>30</td>\n      <td>DECISION_TREE</td>\n      <td>Stacey Courtney Gonzalez</td>\n      <td>F</td>\n      <td>1984-03-27</td>\n      <td>Ghana</td>\n      <td>GH</td>\n      <td>...</td>\n      <td>US</td>\n      <td>TOL</td>\n      <td>Toledo</td>\n      <td>US-OH</td>\n      <td>RU</td>\n      <td>AER</td>\n      <td>Sochi</td>\n      <td>RU-KDA</td>\n      <td>5fcbbf15-8268-4306-ac26-406c2faae251</td>\n      <td>32</td>\n    </tr>\n    <tr>\n      <th>4</th>\n      <td>5</td>\n      <td>30</td>\n      <td>NA</td>\n      <td>30</td>\n      <td>DECISION_TREE</td>\n      <td>Erika Patie Fowler</td>\n      <td>F</td>\n      <td>1998-06-18</td>\n      <td>Ghana</td>\n      <td>GH</td>\n      <td>...</td>\n      <td>US</td>\n      <td>FWA</td>\n      <td>Fort Wayne</td>\n      <td>US-IN</td>\n      <td>IE</td>\n      <td>ORK</td>\n      <td>Cork</td>\n      <td>IE-C</td>\n      <td>6d1fe59a-6828-4bc5-9ded-2194aa238461</td>\n      <td>18</td>\n    </tr>\n  </tbody>\n</table>\n<p>5 rows \u00d7 28 columns</p>\n</div>"
                    }
                }
            ], 
            "cell_type": "code"
        }, 
        {
            "execution_count": 12, 
            "source": "trafficking_df = ida_df_1", 
            "metadata": {
                "collapsed": true
            }, 
            "outputs": [], 
            "cell_type": "code"
        }, 
        {
            "execution_count": 13, 
            "source": "trafficking_df.head()", 
            "metadata": {}, 
            "outputs": [
                {
                    "metadata": {}, 
                    "output_type": "execute_result", 
                    "execution_count": 13, 
                    "data": {
                        "text/plain": "   INTERNAL_ID  VETTING_LEVEL DESCRIPTION  VETTING_LEVEL_PREDICTION  \\\n0            1            100          NA                        30   \n1            2             30          NA                        30   \n2            3            100          NA                        30   \n3            4            100          NA                        30   \n4            5             30          NA                        30   \n\n  ALGORITHM_NAME                      NAME GENDER  BIRTH_DATE BIRTH_COUNTRY  \\\n0  DECISION_TREE           Kathleen Bailey      F  1985-11-27         Ghana   \n1  DECISION_TREE             Kelly Robbins      F  1971-01-17      Pakistan   \n2  DECISION_TREE             Linda Stewart      F  1997-04-15         Ghana   \n3  DECISION_TREE  Stacey Courtney Gonzalez      F  1984-03-27         Ghana   \n4  DECISION_TREE        Erika Patie Fowler      F  1998-06-18         Ghana   \n\n  BIRTH_COUNTRY_CODE ... ARRIVAL_AIRPORT_COUNTRY_CODE ARRIVAL_AIRPORT_IATA  \\\n0                 GH ...                           US                  BMI   \n1                 PK ...                           US                  CLE   \n2                 GH ...                           US                  TPA   \n3                 GH ...                           US                  TOL   \n4                 GH ...                           US                  FWA   \n\n  ARRIVAL_AIRPORT_MUNICIPALITY  ARRIVAL_AIRPORT_REGION  \\\n0           Bloomington/Normal                   US-IL   \n1                    Cleveland                   US-OH   \n2                        Tampa                   US-FL   \n3                       Toledo                   US-OH   \n4                   Fort Wayne                   US-IN   \n\n  DEPARTURE_AIRPORT_COUNTRY_CODE DEPARTURE_AIRPORT_IATA  \\\n0                             AE                    AUH   \n1                             UA                    KBP   \n2                             RU                    KJA   \n3                             RU                    AER   \n4                             IE                    ORK   \n\n  DEPARTURE_AIRPORT_MUNICIPALITY  DEPARTURE_AIRPORT_REGION  \\\n0                      Abu Dhabi                     AE-AZ   \n1                           Kiev                     UA-32   \n2                    Krasnoyarsk                    RU-KYA   \n3                          Sochi                    RU-KDA   \n4                           Cork                      IE-C   \n\n                                   UUID AGE  \n0  81d28245-a6d4-40e3-bac0-df61cc6625ce  31  \n1  b4d817b3-2154-4351-b0e3-bcd736a76bf5  46  \n2  a52a6477-1f5e-4b09-a5e3-f76333a7eb10  19  \n3  5fcbbf15-8268-4306-ac26-406c2faae251  32  \n4  6d1fe59a-6828-4bc5-9ded-2194aa238461  18  \n\n[5 rows x 28 columns]", 
                        "text/html": "<div>\n<table border=\"1\" class=\"dataframe\">\n  <thead>\n    <tr style=\"text-align: right;\">\n      <th></th>\n      <th>INTERNAL_ID</th>\n      <th>VETTING_LEVEL</th>\n      <th>DESCRIPTION</th>\n      <th>VETTING_LEVEL_PREDICTION</th>\n      <th>ALGORITHM_NAME</th>\n      <th>NAME</th>\n      <th>GENDER</th>\n      <th>BIRTH_DATE</th>\n      <th>BIRTH_COUNTRY</th>\n      <th>BIRTH_COUNTRY_CODE</th>\n      <th>...</th>\n      <th>ARRIVAL_AIRPORT_COUNTRY_CODE</th>\n      <th>ARRIVAL_AIRPORT_IATA</th>\n      <th>ARRIVAL_AIRPORT_MUNICIPALITY</th>\n      <th>ARRIVAL_AIRPORT_REGION</th>\n      <th>DEPARTURE_AIRPORT_COUNTRY_CODE</th>\n      <th>DEPARTURE_AIRPORT_IATA</th>\n      <th>DEPARTURE_AIRPORT_MUNICIPALITY</th>\n      <th>DEPARTURE_AIRPORT_REGION</th>\n      <th>UUID</th>\n      <th>AGE</th>\n    </tr>\n  </thead>\n  <tbody>\n    <tr>\n      <th>0</th>\n      <td>1</td>\n      <td>100</td>\n      <td>NA</td>\n      <td>30</td>\n      <td>DECISION_TREE</td>\n      <td>Kathleen Bailey</td>\n      <td>F</td>\n      <td>1985-11-27</td>\n      <td>Ghana</td>\n      <td>GH</td>\n      <td>...</td>\n      <td>US</td>\n      <td>BMI</td>\n      <td>Bloomington/Normal</td>\n      <td>US-IL</td>\n      <td>AE</td>\n      <td>AUH</td>\n      <td>Abu Dhabi</td>\n      <td>AE-AZ</td>\n      <td>81d28245-a6d4-40e3-bac0-df61cc6625ce</td>\n      <td>31</td>\n    </tr>\n    <tr>\n      <th>1</th>\n      <td>2</td>\n      <td>30</td>\n      <td>NA</td>\n      <td>30</td>\n      <td>DECISION_TREE</td>\n      <td>Kelly Robbins</td>\n      <td>F</td>\n      <td>1971-01-17</td>\n      <td>Pakistan</td>\n      <td>PK</td>\n      <td>...</td>\n      <td>US</td>\n      <td>CLE</td>\n      <td>Cleveland</td>\n      <td>US-OH</td>\n      <td>UA</td>\n      <td>KBP</td>\n      <td>Kiev</td>\n      <td>UA-32</td>\n      <td>b4d817b3-2154-4351-b0e3-bcd736a76bf5</td>\n      <td>46</td>\n    </tr>\n    <tr>\n      <th>2</th>\n      <td>3</td>\n      <td>100</td>\n      <td>NA</td>\n      <td>30</td>\n      <td>DECISION_TREE</td>\n      <td>Linda Stewart</td>\n      <td>F</td>\n      <td>1997-04-15</td>\n      <td>Ghana</td>\n      <td>GH</td>\n      <td>...</td>\n      <td>US</td>\n      <td>TPA</td>\n      <td>Tampa</td>\n      <td>US-FL</td>\n      <td>RU</td>\n      <td>KJA</td>\n      <td>Krasnoyarsk</td>\n      <td>RU-KYA</td>\n      <td>a52a6477-1f5e-4b09-a5e3-f76333a7eb10</td>\n      <td>19</td>\n    </tr>\n    <tr>\n      <th>3</th>\n      <td>4</td>\n      <td>100</td>\n      <td>NA</td>\n      <td>30</td>\n      <td>DECISION_TREE</td>\n      <td>Stacey Courtney Gonzalez</td>\n      <td>F</td>\n      <td>1984-03-27</td>\n      <td>Ghana</td>\n      <td>GH</td>\n      <td>...</td>\n      <td>US</td>\n      <td>TOL</td>\n      <td>Toledo</td>\n      <td>US-OH</td>\n      <td>RU</td>\n      <td>AER</td>\n      <td>Sochi</td>\n      <td>RU-KDA</td>\n      <td>5fcbbf15-8268-4306-ac26-406c2faae251</td>\n      <td>32</td>\n    </tr>\n    <tr>\n      <th>4</th>\n      <td>5</td>\n      <td>30</td>\n      <td>NA</td>\n      <td>30</td>\n      <td>DECISION_TREE</td>\n      <td>Erika Patie Fowler</td>\n      <td>F</td>\n      <td>1998-06-18</td>\n      <td>Ghana</td>\n      <td>GH</td>\n      <td>...</td>\n      <td>US</td>\n      <td>FWA</td>\n      <td>Fort Wayne</td>\n      <td>US-IN</td>\n      <td>IE</td>\n      <td>ORK</td>\n      <td>Cork</td>\n      <td>IE-C</td>\n      <td>6d1fe59a-6828-4bc5-9ded-2194aa238461</td>\n      <td>18</td>\n    </tr>\n  </tbody>\n</table>\n<p>5 rows \u00d7 28 columns</p>\n</div>"
                    }
                }
            ], 
            "cell_type": "code"
        }, 
        {
            "execution_count": 14, 
            "source": "idadb.ida_query('SELECT VETTING_LEVEL, COUNT(*) AS COUNT FROM ' + trafficking_df.name + ' GROUP BY VETTING_LEVEL ORDER BY VETTING_LEVEL')", 
            "metadata": {}, 
            "outputs": [
                {
                    "metadata": {}, 
                    "output_type": "execute_result", 
                    "execution_count": 14, 
                    "data": {
                        "text/plain": "   \u4556\u5454\u4e49\u5f47\u454c\u4556l  \u4f43\u4e55t\u5f47\u454c\u4556l\n0       10       42\n1       20       40\n2       30       96\n3      100      907", 
                        "text/html": "<div>\n<table border=\"1\" class=\"dataframe\">\n  <thead>\n    <tr style=\"text-align: right;\">\n      <th></th>\n      <th>\u4556\u5454\u4e49\u5f47\u454c\u4556l</th>\n      <th>\u4f43\u4e55t\u5f47\u454c\u4556l</th>\n    </tr>\n  </thead>\n  <tbody>\n    <tr>\n      <th>0</th>\n      <td>10</td>\n      <td>42</td>\n    </tr>\n    <tr>\n      <th>1</th>\n      <td>20</td>\n      <td>40</td>\n    </tr>\n    <tr>\n      <th>2</th>\n      <td>30</td>\n      <td>96</td>\n    </tr>\n    <tr>\n      <th>3</th>\n      <td>100</td>\n      <td>907</td>\n    </tr>\n  </tbody>\n</table>\n</div>"
                    }
                }
            ], 
            "cell_type": "code"
        }, 
        {
            "execution_count": 15, 
            "source": "trafficking_df.ida_query('SELECT VETTING_LEVEL, COUNT(*) AS COUNT FROM ' + trafficking_df.name + ' GROUP BY VETTING_LEVEL ORDER BY VETTING_LEVEL')", 
            "metadata": {}, 
            "outputs": [
                {
                    "metadata": {}, 
                    "output_type": "execute_result", 
                    "execution_count": 15, 
                    "data": {
                        "text/plain": "   \u4556\u5454\u4e49\u5f47\u454c\u4556l  \u4f43\u4e55t\u5f47\u454c\u4556l\n0       10       42\n1       20       40\n2       30       96\n3      100      907", 
                        "text/html": "<div>\n<table border=\"1\" class=\"dataframe\">\n  <thead>\n    <tr style=\"text-align: right;\">\n      <th></th>\n      <th>\u4556\u5454\u4e49\u5f47\u454c\u4556l</th>\n      <th>\u4f43\u4e55t\u5f47\u454c\u4556l</th>\n    </tr>\n  </thead>\n  <tbody>\n    <tr>\n      <th>0</th>\n      <td>10</td>\n      <td>42</td>\n    </tr>\n    <tr>\n      <th>1</th>\n      <td>20</td>\n      <td>40</td>\n    </tr>\n    <tr>\n      <th>2</th>\n      <td>30</td>\n      <td>96</td>\n    </tr>\n    <tr>\n      <th>3</th>\n      <td>100</td>\n      <td>907</td>\n    </tr>\n  </tbody>\n</table>\n</div>"
                    }
                }
            ], 
            "cell_type": "code"
        }, 
        {
            "execution_count": 16, 
            "source": "idadb.close()", 
            "metadata": {}, 
            "outputs": [
                {
                    "name": "stdout", 
                    "output_type": "stream", 
                    "text": "Connection closed.\n"
                }
            ], 
            "cell_type": "code"
        }, 
        {
            "execution_count": null, 
            "source": "", 
            "metadata": {
                "collapsed": true
            }, 
            "outputs": [], 
            "cell_type": "code"
        }
    ]
}